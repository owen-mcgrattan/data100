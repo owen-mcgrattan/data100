{
 "cells": [
  {
   "cell_type": "markdown",
   "metadata": {},
   "source": [
    "Before you turn this assignment in, make sure everything runs as expected. First, **restart the kernel** (in the menubar, select Kernel$\\rightarrow$Restart) and then **run all cells** (in the menubar, select Cell$\\rightarrow$Run All). Lastly, hit **Validate**.\n",
    "\n",
    "If you worked locally, and then uploaded your work to the hub, make sure to follow these steps:\n",
    "- open your uploaded notebook **on the hub**\n",
    "- hit the validate button right above this cell, from inside the notebook\n",
    "\n",
    "These  steps should solve any issue related to submitting the notebook on the hub.\n",
    "\n",
    "Make sure you fill in any place that says `YOUR CODE HERE` or \"YOUR ANSWER HERE\", as well as your name and collaborators below:"
   ]
  },
  {
   "cell_type": "code",
   "execution_count": 1,
   "metadata": {},
   "outputs": [],
   "source": [
    "NAME = \"Owen McGrattan\"\n",
    "COLLABORATORS = \"\""
   ]
  },
  {
   "cell_type": "markdown",
   "metadata": {},
   "source": [
    "---"
   ]
  },
  {
   "cell_type": "markdown",
   "metadata": {
    "deletable": false,
    "editable": false,
    "nbgrader": {
     "cell_type": "markdown",
     "checksum": "78854885fbfb4c87634e0dbbd0564e59",
     "grade": false,
     "grade_id": "intro",
     "locked": true,
     "schema_version": 2,
     "solution": false
    }
   },
   "source": [
    "# Lab 8: Modeling and Estimation\n",
    "\n",
    "** If you are not attending lab, this assignment is due 03/12/2018 at 11:59pm (graded on accuracy) **\n",
    "\n",
    "In this lab we will work through the process of:\n",
    "1. implementing a basic model, defining loss functions, \n",
    "1. minimizing loss functions using numeric libraries, and \n",
    "1. finally bootstrap sampling to understand the variability in the parameter estimates.\n",
    "\n",
    "This lab will continue using the toy tip calculation dataset."
   ]
  },
  {
   "cell_type": "code",
   "execution_count": 2,
   "metadata": {
    "_cell_guid": "33c63379-d85b-4638-8183-d008fdb96de7",
    "_uuid": "7ad7f9f24df7dba8ac92d234890835f6b9970834",
    "deletable": false,
    "editable": false,
    "nbgrader": {
     "cell_type": "code",
     "checksum": "81e2ff7a413ac63d2fb4eb0b850384a9",
     "grade": false,
     "grade_id": "imports1",
     "locked": true,
     "schema_version": 2,
     "solution": false
    }
   },
   "outputs": [],
   "source": [
    "import pandas as pd\n",
    "import numpy as np\n",
    "import seaborn as sns\n",
    "import matplotlib.pyplot as plt\n",
    "np.random.seed(42)\n",
    "plt.style.use('fivethirtyeight')\n",
    "sns.set()\n",
    "sns.set_context(\"talk\")\n",
    "%matplotlib inline"
   ]
  },
  {
   "cell_type": "markdown",
   "metadata": {
    "deletable": false,
    "editable": false,
    "nbgrader": {
     "cell_type": "markdown",
     "checksum": "c62623035fc4f79ae75314a6f33b9a9d",
     "grade": false,
     "grade_id": "loadsummary",
     "locked": true,
     "schema_version": 2,
     "solution": false
    }
   },
   "source": [
    "# Loading the Tips Dataset\n",
    "\n",
    "To begin with, we load the tips dataset from the `seaborn` library.  The tips data contains records of tips, total bill, and information about the person who paid the bill."
   ]
  },
  {
   "cell_type": "code",
   "execution_count": 3,
   "metadata": {
    "deletable": false,
    "editable": false,
    "nbgrader": {
     "cell_type": "code",
     "checksum": "d1a323feb60ced6212eadbe279f7b1d1",
     "grade": false,
     "grade_id": "loaddata",
     "locked": true,
     "schema_version": 2,
     "solution": false
    }
   },
   "outputs": [
    {
     "name": "stdout",
     "output_type": "stream",
     "text": [
      "Number of Records: 244\n"
     ]
    },
    {
     "data": {
      "text/html": [
       "<div>\n",
       "<style scoped>\n",
       "    .dataframe tbody tr th:only-of-type {\n",
       "        vertical-align: middle;\n",
       "    }\n",
       "\n",
       "    .dataframe tbody tr th {\n",
       "        vertical-align: top;\n",
       "    }\n",
       "\n",
       "    .dataframe thead th {\n",
       "        text-align: right;\n",
       "    }\n",
       "</style>\n",
       "<table border=\"1\" class=\"dataframe\">\n",
       "  <thead>\n",
       "    <tr style=\"text-align: right;\">\n",
       "      <th></th>\n",
       "      <th>total_bill</th>\n",
       "      <th>tip</th>\n",
       "      <th>sex</th>\n",
       "      <th>smoker</th>\n",
       "      <th>day</th>\n",
       "      <th>time</th>\n",
       "      <th>size</th>\n",
       "    </tr>\n",
       "  </thead>\n",
       "  <tbody>\n",
       "    <tr>\n",
       "      <th>0</th>\n",
       "      <td>16.99</td>\n",
       "      <td>1.01</td>\n",
       "      <td>Female</td>\n",
       "      <td>No</td>\n",
       "      <td>Sun</td>\n",
       "      <td>Dinner</td>\n",
       "      <td>2</td>\n",
       "    </tr>\n",
       "    <tr>\n",
       "      <th>1</th>\n",
       "      <td>10.34</td>\n",
       "      <td>1.66</td>\n",
       "      <td>Male</td>\n",
       "      <td>No</td>\n",
       "      <td>Sun</td>\n",
       "      <td>Dinner</td>\n",
       "      <td>3</td>\n",
       "    </tr>\n",
       "    <tr>\n",
       "      <th>2</th>\n",
       "      <td>21.01</td>\n",
       "      <td>3.50</td>\n",
       "      <td>Male</td>\n",
       "      <td>No</td>\n",
       "      <td>Sun</td>\n",
       "      <td>Dinner</td>\n",
       "      <td>3</td>\n",
       "    </tr>\n",
       "    <tr>\n",
       "      <th>3</th>\n",
       "      <td>23.68</td>\n",
       "      <td>3.31</td>\n",
       "      <td>Male</td>\n",
       "      <td>No</td>\n",
       "      <td>Sun</td>\n",
       "      <td>Dinner</td>\n",
       "      <td>2</td>\n",
       "    </tr>\n",
       "    <tr>\n",
       "      <th>4</th>\n",
       "      <td>24.59</td>\n",
       "      <td>3.61</td>\n",
       "      <td>Female</td>\n",
       "      <td>No</td>\n",
       "      <td>Sun</td>\n",
       "      <td>Dinner</td>\n",
       "      <td>4</td>\n",
       "    </tr>\n",
       "  </tbody>\n",
       "</table>\n",
       "</div>"
      ],
      "text/plain": [
       "   total_bill   tip     sex smoker  day    time  size\n",
       "0       16.99  1.01  Female     No  Sun  Dinner     2\n",
       "1       10.34  1.66    Male     No  Sun  Dinner     3\n",
       "2       21.01  3.50    Male     No  Sun  Dinner     3\n",
       "3       23.68  3.31    Male     No  Sun  Dinner     2\n",
       "4       24.59  3.61  Female     No  Sun  Dinner     4"
      ]
     },
     "execution_count": 3,
     "metadata": {},
     "output_type": "execute_result"
    }
   ],
   "source": [
    "data = sns.load_dataset(\"tips\")\n",
    "\n",
    "print(\"Number of Records:\", len(data))\n",
    "data.head()"
   ]
  },
  {
   "cell_type": "markdown",
   "metadata": {
    "deletable": false,
    "editable": false,
    "nbgrader": {
     "cell_type": "markdown",
     "checksum": "059339244c1502ef21add6f29704eb22",
     "grade": false,
     "grade_id": "q1",
     "locked": true,
     "schema_version": 2,
     "solution": false
    }
   },
   "source": [
    "---\n",
    "<br></br>\n",
    "\n",
    "# Question 1: Defining the Model \n",
    "\n",
    "In lecture we modeled the percent tip.  In this lab we will instead attempt to model the tip value (in dollars) as a function of the total bill.  As a consequence we define the following mathematical model:\n",
    "\n",
    "$$\\Large\n",
    "\\texttt{Tip} = \\theta^*  \\times \\texttt{TotalBill}\n",
    "$$\n",
    "\n",
    "This follows the similar intuition that tips are some **unknown** percentage of the total bill.  We will then try to estimate the slope of this relationship which corresponds to the percent tip.\n",
    "\n",
    "Here the parameter $\\theta^*$ represents the true percent tip that we would like to estimate.  \n",
    "\n",
    "**Implement the python function for this model (yes this is very easy):**\n"
   ]
  },
  {
   "cell_type": "code",
   "execution_count": 4,
   "metadata": {
    "deletable": false,
    "nbgrader": {
     "cell_type": "code",
     "checksum": "87845bbb4ddbac2905629c675ed36094",
     "grade": false,
     "grade_id": "q1-answer",
     "locked": false,
     "schema_version": 2,
     "solution": true
    },
    "tags": [
     "student"
    ]
   },
   "outputs": [],
   "source": [
    "def model(theta, total_bill):\n",
    "    \"\"\"\n",
    "    Takes the parameter theta and the total bill returns the computed tip.\n",
    "    \"\"\"\n",
    "    return theta * total_bill\n",
    "    #raise NotImplementedError()"
   ]
  },
  {
   "cell_type": "code",
   "execution_count": 5,
   "metadata": {
    "deletable": false,
    "editable": false,
    "nbgrader": {
     "cell_type": "code",
     "checksum": "d651e28358e2c9befd1f555c4da6e815",
     "grade": true,
     "grade_id": "q1-test",
     "locked": true,
     "points": 1,
     "schema_version": 2,
     "solution": false
    },
    "tags": [
     "test",
     "q01a"
    ]
   },
   "outputs": [],
   "source": [
    "assert model(1.0, 2.0) == 2.0\n",
    "assert np.all(model(3.0, np.array([4.0, 5.0])) == 3.0 * np.array([4.0, 5.0]))"
   ]
  },
  {
   "cell_type": "markdown",
   "metadata": {
    "deletable": false,
    "editable": false,
    "nbgrader": {
     "cell_type": "markdown",
     "checksum": "84587bc1d51e16f42f958a43162c3107",
     "grade": false,
     "grade_id": "q2",
     "locked": true,
     "schema_version": 2,
     "solution": false
    }
   },
   "source": [
    "---\n",
    "<br/><br/><br/>\n",
    "\n",
    "# Loss Functions\n",
    "\n",
    "In class we covered a range of different loss functions.  In this lab we will implement the squared loss and the absolute loss functions.  \n",
    "Suppose for a given total bill $x$ we observe a tip value of $y$ and our model predicts:\n",
    "$$\\Large\n",
    "% the \\hspace{0pt} is added to address a bug in safari mathjax\n",
    "\\hat{\\hspace{0pt}y} = \\theta * x\n",
    "$$ \n",
    "then any of the following might be appropriate **loss functions**\n",
    "\n",
    "1. **Squared Loss** (also known as the $L^2$ loss pronounced \"ell-two\"):\n",
    "$$\\Large\n",
    "% the \\hspace{0pt} is added to address a bug in safari mathjax\n",
    "L\\left(y, \\hat{\\hspace{0pt}y} \\right) = \\left( y - \\hat{\\hspace{0pt}y} \\right)^2\n",
    "$$\n",
    "1. **Absolute Loss** (also known as the $L^1$ loss pronounced \"ell-one\"):\n",
    "$$\\Large\n",
    "% the \\hspace{0pt} is added to address a bug in safari mathjax\n",
    "L\\left(y, \\hat{\\hspace{0pt}y} \\right) = \\left| y - \\hat{\\hspace{0pt}y} \\right|\n",
    "$$\n",
    "\n",
    "---\n",
    "<br></br>\n",
    "In this question, you are going to define functions for **squared loss** and **absolute loss**. "
   ]
  },
  {
   "cell_type": "markdown",
   "metadata": {
    "deletable": false,
    "editable": false,
    "nbgrader": {
     "cell_type": "markdown",
     "checksum": "ef080b1728ad225211f0c8b8d5d3cb98",
     "grade": false,
     "grade_id": "q2a",
     "locked": true,
     "schema_version": 2,
     "solution": false
    }
   },
   "source": [
    "## Question 2a: Implement the squared loss function\n",
    "\n",
    "\n",
    "$$\\Large\n",
    "L\\left(y, \\hat{\\hspace{0pt}y} \\right) = \\left( y - \\hat{\\hspace{0pt}y} \\right)^2\n",
    "$$"
   ]
  },
  {
   "cell_type": "code",
   "execution_count": 6,
   "metadata": {
    "deletable": false,
    "nbgrader": {
     "cell_type": "code",
     "checksum": "c3fe7f116dfa1c22f45f69e6f057d937",
     "grade": false,
     "grade_id": "q2a-answer",
     "locked": false,
     "schema_version": 2,
     "solution": true
    },
    "tags": [
     "student"
    ]
   },
   "outputs": [],
   "source": [
    "def squared_loss(y_obs, y_hat):\n",
    "    \"\"\"\n",
    "    y_obs: an array of observed valued\n",
    "    y_hat: an array of predicted values\n",
    "    return an array corresponding to the loss for each prediction\n",
    "    \"\"\"\n",
    "    return (y_obs - y_hat) ** 2\n",
    "    #raise NotImplementedError()\n",
    "    \n",
    "    "
   ]
  },
  {
   "cell_type": "code",
   "execution_count": 7,
   "metadata": {
    "deletable": false,
    "editable": false,
    "nbgrader": {
     "cell_type": "code",
     "checksum": "2ced3e8bc7ba2301755c978465cdd4e7",
     "grade": true,
     "grade_id": "q2a-test",
     "locked": true,
     "points": 1,
     "schema_version": 2,
     "solution": false
    },
    "tags": [
     "test",
     "q02a"
    ]
   },
   "outputs": [],
   "source": [
    "assert squared_loss(2, 1) == 1\n",
    "assert squared_loss(2, 0) == 4 \n",
    "assert squared_loss(5, 1) == 16\n",
    "assert np.sum((squared_loss(np.array([5, 6]), np.array([1, 1])) - np.array([16, 25]))**2) == 0.0"
   ]
  },
  {
   "cell_type": "markdown",
   "metadata": {
    "deletable": false,
    "editable": false,
    "nbgrader": {
     "cell_type": "markdown",
     "checksum": "9c0b5f98d75744bbf8315a94725491aa",
     "grade": false,
     "grade_id": "q2b",
     "locked": true,
     "schema_version": 2,
     "solution": false
    }
   },
   "source": [
    "## Question 2b: Plotting Squared Loss\n",
    "\n",
    "Suppose you observe $y=3.00$ and $x=28.00$ using the `model` and `squared_loss` function defined above plot the loss for a range of $\\theta$ values:"
   ]
  },
  {
   "cell_type": "code",
   "execution_count": 16,
   "metadata": {
    "deletable": false,
    "editable": false,
    "nbgrader": {
     "cell_type": "code",
     "checksum": "8c228b03723d74aaaffc6da4c56c32d5",
     "grade": false,
     "grade_id": "q2b-setup",
     "locked": true,
     "schema_version": 2,
     "solution": false
    }
   },
   "outputs": [],
   "source": [
    "y = np.array([3.00])\n",
    "x = np.array([28.00])\n",
    "thetas = np.linspace(0, 0.3, 200) # A range of theta values:"
   ]
  },
  {
   "cell_type": "code",
   "execution_count": 17,
   "metadata": {
    "deletable": false,
    "nbgrader": {
     "cell_type": "code",
     "checksum": "ee287571a91de2c470285fe5f05b6c29",
     "grade": false,
     "grade_id": "q2b-answer",
     "locked": false,
     "schema_version": 2,
     "solution": true
    },
    "tags": [
     "student"
    ]
   },
   "outputs": [],
   "source": [
    "## Finish this by replacing 0.0 with the correct calculation \n",
    "## Hint 1: You will use squared_loss y, model, theta and x\n",
    "## Hint 2: You might need to extract a single value from an array (or take the mean)\n",
    "loss = np.array([ squared_loss(y, model(theta, x)) for theta in thetas])\n",
    "\n",
    "# YOUR CODE HERE\n",
    "#raise NotImplementedError()"
   ]
  },
  {
   "cell_type": "code",
   "execution_count": 18,
   "metadata": {
    "deletable": false,
    "editable": false,
    "nbgrader": {
     "cell_type": "code",
     "checksum": "cd9c6bf3c012a20819511947fd7e4f5d",
     "grade": true,
     "grade_id": "q2b-test",
     "locked": true,
     "points": 1,
     "schema_version": 2,
     "solution": false
    },
    "tags": [
     "test",
     "q02b"
    ]
   },
   "outputs": [],
   "source": [
    "assert loss.dtype == np.dtype('float64') "
   ]
  },
  {
   "cell_type": "markdown",
   "metadata": {
    "deletable": false,
    "editable": false,
    "nbgrader": {
     "cell_type": "markdown",
     "checksum": "b378ce2a0923d0d16e24c993f2a232f7",
     "grade": false,
     "grade_id": "q2b-plot",
     "locked": true,
     "schema_version": 2,
     "solution": false
    }
   },
   "source": [
    "The following should produce this picture:\n",
    "\n",
    "![squared_loss](squared_loss.png)"
   ]
  },
  {
   "cell_type": "code",
   "execution_count": 19,
   "metadata": {
    "deletable": false,
    "editable": false,
    "nbgrader": {
     "cell_type": "code",
     "checksum": "e6cdf0b25a0a3ef99acff0308982965e",
     "grade": false,
     "grade_id": "q2b-makeplot",
     "locked": true,
     "schema_version": 2,
     "solution": false
    },
    "tags": [
     "student",
     "written"
    ]
   },
   "outputs": [
    {
     "data": {
      "image/png": "[encoded data removed]",
      "text/plain": [
       "<matplotlib.figure.Figure at 0x1a21231ef0>"
      ]
     },
     "metadata": {},
     "output_type": "display_data"
    }
   ],
   "source": [
    "plt.plot(thetas, loss, label=\"Squared Loss\")\n",
    "plt.xlabel(r\"Choice for $\\theta$\")\n",
    "plt.ylabel(r\"Loss\")\n",
    "plt.legend(loc=4)\n",
    "plt.savefig(\"squared_loss_my_plot.png\",  bbox_inches = 'tight')"
   ]
  },
  {
   "cell_type": "markdown",
   "metadata": {
    "deletable": false,
    "editable": false,
    "nbgrader": {
     "cell_type": "markdown",
     "checksum": "5326dfad73049ecfe03bd58c6b197bd4",
     "grade": false,
     "grade_id": "q2c",
     "locked": true,
     "schema_version": 2,
     "solution": false
    }
   },
   "source": [
    "## Question 2c: Implement the absolute loss \n",
    "\n",
    "$$\\Large\n",
    "L\\left(y, \\hat{\\hspace{0pt}y} \\right) = \\left| y - \\hat{\\hspace{0pt}y} \\right|\n",
    "$$"
   ]
  },
  {
   "cell_type": "code",
   "execution_count": 20,
   "metadata": {
    "deletable": false,
    "nbgrader": {
     "cell_type": "code",
     "checksum": "b3060a2cb2f12edb091c9b25599727da",
     "grade": false,
     "grade_id": "q2c-answer",
     "locked": false,
     "schema_version": 2,
     "solution": true
    },
    "tags": [
     "student"
    ]
   },
   "outputs": [],
   "source": [
    "def abs_loss(y_obs, y_hat):\n",
    "    \"\"\"\n",
    "    y_obs: an array of observed valued\n",
    "    y_hat: an array of predicted values\n",
    "    return an array corresponding to the loss for each prediction\n",
    "    \"\"\"\n",
    "    return abs(y_obs - y_hat)\n",
    "    # YOUR CODE HERE\n",
    "    #raise NotImplementedError()"
   ]
  },
  {
   "cell_type": "code",
   "execution_count": 21,
   "metadata": {
    "deletable": false,
    "editable": false,
    "nbgrader": {
     "cell_type": "code",
     "checksum": "fd180757e3dd5c267be635f2f000c2ea",
     "grade": true,
     "grade_id": "q2c-test",
     "locked": true,
     "points": 1,
     "schema_version": 2,
     "solution": false
    },
    "tags": [
     "test",
     "q02c"
    ]
   },
   "outputs": [],
   "source": [
    "assert abs_loss(2, 1) == 1\n",
    "assert abs_loss(-2, 1) == 3\n",
    "assert abs_loss(1, -3) == 4 \n",
    "assert np.linalg.norm(abs_loss(np.array([1,2]), np.array([-3,3])) - np.array([4, 1]), ord=1) == 0.0"
   ]
  },
  {
   "cell_type": "markdown",
   "metadata": {
    "deletable": false,
    "editable": false,
    "nbgrader": {
     "cell_type": "markdown",
     "checksum": "7b0755ae0e642bec552cccde9b32a21e",
     "grade": false,
     "grade_id": "q2c-plot",
     "locked": true,
     "schema_version": 2,
     "solution": false
    }
   },
   "source": [
    "Below is the plot of the absolute loss.  If you implemented things correctly it should look like:\n",
    "\n",
    "![absolute loss](absolute_loss.png)\n"
   ]
  },
  {
   "cell_type": "code",
   "execution_count": 22,
   "metadata": {
    "deletable": false,
    "editable": false,
    "nbgrader": {
     "cell_type": "code",
     "checksum": "c771017e54657e924c429a0a2df009f2",
     "grade": false,
     "grade_id": "q2c-makeplot",
     "locked": true,
     "schema_version": 2,
     "solution": false
    },
    "tags": [
     "student",
     "written"
    ]
   },
   "outputs": [
    {
     "data": {
      "image/png": "[encoded data removed]",
      "text/plain": [
       "<matplotlib.figure.Figure at 0x1a21292048>"
      ]
     },
     "metadata": {},
     "output_type": "display_data"
    }
   ],
   "source": [
    "y = np.array([3.00])\n",
    "x = np.array([28.00])\n",
    "thetas = np.linspace(0, 0.3, 200) \n",
    "\n",
    "# Code provided for you this time. (your welcome)\n",
    "loss = np.array([abs_loss(y, model(theta,x)).mean() for theta in thetas])\n",
    "\n",
    "plt.plot(thetas, loss, label=\"Absolute Loss\")\n",
    "plt.xlabel(r\"Choice for $\\theta$\")\n",
    "plt.ylabel(r\"Loss\")\n",
    "plt.legend(loc=4)\n",
    "plt.savefig(\"absolute_loss_my_plot.png\",  bbox_inches = 'tight')"
   ]
  },
  {
   "cell_type": "markdown",
   "metadata": {
    "deletable": false,
    "editable": false,
    "nbgrader": {
     "cell_type": "markdown",
     "checksum": "8c1b2a1a06edd6fa20badfa355abfdf2",
     "grade": false,
     "grade_id": "q2d",
     "locked": true,
     "schema_version": 2,
     "solution": false
    }
   },
   "source": [
    "\n",
    "## Question 2d: Plotting **Average Loss** for our Data\n",
    "\n",
    "We can extend the above loss functions to an entire dataset by taking the average. Let the dataset $\\mathcal{D}$ be the set of observations:\n",
    "\n",
    "$$\\Large\n",
    "\\mathcal{D} = \\{(x_1, y_1), \\ldots, (x_n, y_n)\\}\n",
    "$$\n",
    "\n",
    "where $x_i$ is the total bill and $y_i$ is the tip dollar amount.\n",
    "\n",
    "We can define the average loss over the dataset as:\n",
    "\n",
    "$$\\Large\n",
    "L\\left(\\theta, \\mathcal{D}\\right) = \\frac{1}{n} \\sum_{i=1}^n L(m_\\theta(x_i), y_i) = \\frac{1}{n} \\sum_{i=1}^n L(\\theta *  x_i, y_i)\n",
    "$$\n",
    "\n",
    "where $m_\\theta(x_i) = \\theta * x_i$ is the model evaluated using the parameters $\\theta$ on the bill amount $x_i$.\n",
    "\n",
    "**Complete the following code block to render a plot of the average absolute and squared loss for different values of $\\theta$**"
   ]
  },
  {
   "cell_type": "code",
   "execution_count": 24,
   "metadata": {
    "deletable": false,
    "nbgrader": {
     "cell_type": "code",
     "checksum": "6b59c68567db321b30a7bca0f9abd31c",
     "grade": false,
     "grade_id": "q2d-answer",
     "locked": false,
     "schema_version": 2,
     "solution": true
    },
    "tags": [
     "student"
    ]
   },
   "outputs": [],
   "source": [
    "thetas = np.linspace(0, 0.3, 200) # A range of theta values:\n",
    "y = data['tip']\n",
    "x = data['total_bill']\n",
    "\n",
    "# Replace 0.0 with the correct value computed \n",
    "# using the model and loss functions from above\n",
    "avg_squared_loss = np.array([np.mean(squared_loss(y, model(theta, x))) for theta in thetas])\n",
    "avg_absolute_loss = np.array([np.mean(abs_loss(y, model(theta, x))) for theta in thetas])\n",
    "\n",
    "# YOUR CODE HERE\n",
    "#raise NotImplementedError()"
   ]
  },
  {
   "cell_type": "markdown",
   "metadata": {
    "deletable": false,
    "editable": false,
    "nbgrader": {
     "cell_type": "markdown",
     "checksum": "cb87aa5a851e74ea46268de9be979fda",
     "grade": false,
     "grade_id": "q2d-plot",
     "locked": true,
     "schema_version": 2,
     "solution": false
    }
   },
   "source": [
    "If done correctly the following plot should look like:\n",
    "\n",
    "![Average Loss](average_loss.png)"
   ]
  },
  {
   "cell_type": "code",
   "execution_count": 25,
   "metadata": {
    "deletable": false,
    "editable": false,
    "nbgrader": {
     "cell_type": "code",
     "checksum": "0dd27e9206dcfd49bc26e5192abcc6ff",
     "grade": false,
     "grade_id": "q2d-makeplot",
     "locked": true,
     "schema_version": 2,
     "solution": false
    },
    "tags": [
     "student",
     "written"
    ]
   },
   "outputs": [
    {
     "data": {
      "image/png": "[encoded data removed]",
      "text/plain": [
       "<matplotlib.figure.Figure at 0x1a222d6f98>"
      ]
     },
     "metadata": {},
     "output_type": "display_data"
    }
   ],
   "source": [
    "plt.plot(thetas, avg_squared_loss, label = \"Average Squared Loss\")\n",
    "plt.plot(thetas, avg_absolute_loss, label = \"Average Absolute Loss\")\n",
    "plt.xlabel(r\"$\\theta$ Value\")\n",
    "plt.ylabel(\"Loss Value\")\n",
    "plt.savefig(\"average_loss_my_plot.png\",  bbox_inches = 'tight')"
   ]
  },
  {
   "cell_type": "markdown",
   "metadata": {
    "deletable": false,
    "editable": false,
    "nbgrader": {
     "cell_type": "markdown",
     "checksum": "29441c1183eac5cb3457a8da28ad2bfc",
     "grade": false,
     "grade_id": "q3",
     "locked": true,
     "schema_version": 2,
     "solution": false
    }
   },
   "source": [
    "---\n",
    "<br/><br/><br/> \n",
    "\n",
    "# Question 3: Minimizing The Loss\n",
    "\n",
    "In some cases, it is possible to use calculus to analytically compute the parameters $\\theta$ that minimize the loss function.  However, in this lab we will use computational techniques to minimize the loss.  Here we will use the [`scipy.optimize.minimize`](https://docs.scipy.org/doc/scipy/reference/generated/scipy.optimize.minimize.html) routine to minimize the average loss.\n",
    "\n",
    "Complete the following python function:"
   ]
  },
  {
   "cell_type": "code",
   "execution_count": 26,
   "metadata": {
    "deletable": false,
    "nbgrader": {
     "cell_type": "code",
     "checksum": "b079c870ad7b42288ed30a01c4a18f7b",
     "grade": false,
     "grade_id": "q3-answer",
     "locked": false,
     "schema_version": 2,
     "solution": true
    },
    "tags": [
     "student"
    ]
   },
   "outputs": [],
   "source": [
    "from scipy.optimize import minimize\n",
    "\n",
    "def minimize_average_loss(loss_function, model, x, y):\n",
    "    \"\"\"\n",
    "    loss_function: either the squared or absolute loss functions from above.\n",
    "    model: the model (as defined above)\n",
    "    x: the x values (total bills)\n",
    "    y: the y values (tip amounts)\n",
    "    return the estimate for theta as a scalar\n",
    "    \n",
    "    Note we will ignore failed convergence for this lab ... \n",
    "    \"\"\"\n",
    "    \n",
    "    ## Notes on the following function call which you need to finish:\n",
    "    # \n",
    "    # 0. the ... should be replaced with the average loss evaluated on \n",
    "    #       the data x, y using the model and appropriate loss function\n",
    "    # 1. x0 is the initial value for THETA.  Yes, this is confusing\n",
    "    #       but optimization people like x to be the thing they are \n",
    "    #       optimizing.\n",
    "    # 2. We extract the 'x' entry in the dictionary which corresponds\n",
    "    #       to the value of theta at the optimum\n",
    "    # 3. The resulting theta is actually an array with a single element\n",
    "    #       therefore we grab just that element with [0]\n",
    "    # YOUR CODE HERE\n",
    "    #raise NotImplementedError()\n",
    "    return minimize(lambda theta: np.mean(loss_function(y, model(theta, x))), x0=0.0)['x'][0]\n",
    "\n"
   ]
  },
  {
   "cell_type": "code",
   "execution_count": 27,
   "metadata": {
    "deletable": false,
    "editable": false,
    "nbgrader": {
     "cell_type": "code",
     "checksum": "55148318e3ac2f0721af393d0056c072",
     "grade": false,
     "grade_id": "q3-check1",
     "locked": true,
     "schema_version": 2,
     "solution": false
    }
   },
   "outputs": [
    {
     "data": {
      "text/plain": [
       "0.14373189123158361"
      ]
     },
     "execution_count": 27,
     "metadata": {},
     "output_type": "execute_result"
    }
   ],
   "source": [
    "## Should be roughly 0.1437\n",
    "y = data['tip']\n",
    "x = data['total_bill']\n",
    "minimize_average_loss(squared_loss, model, x, y)"
   ]
  },
  {
   "cell_type": "code",
   "execution_count": 28,
   "metadata": {
    "deletable": false,
    "editable": false,
    "nbgrader": {
     "cell_type": "code",
     "checksum": "419745e8a0e5edb7ad9cea2c4d0bba13",
     "grade": false,
     "grade_id": "q3-check2",
     "locked": true,
     "schema_version": 2,
     "solution": false
    }
   },
   "outputs": [
    {
     "data": {
      "text/plain": [
       "0.14958862196250119"
      ]
     },
     "execution_count": 28,
     "metadata": {},
     "output_type": "execute_result"
    }
   ],
   "source": [
    "## Should be roughly 0.1496\n",
    "y = data['tip']\n",
    "x = data['total_bill']\n",
    "minimize_average_loss(abs_loss, model, x, y)"
   ]
  },
  {
   "cell_type": "code",
   "execution_count": 29,
   "metadata": {
    "deletable": false,
    "editable": false,
    "nbgrader": {
     "cell_type": "code",
     "checksum": "8871d858a83700161ed3fd8577d29bba",
     "grade": true,
     "grade_id": "q3-test",
     "locked": true,
     "points": 1,
     "schema_version": 2,
     "solution": false
    },
    "tags": [
     "test",
     "q03"
    ]
   },
   "outputs": [],
   "source": [
    "assert np.isclose(minimize_average_loss(squared_loss, model, data['total_bill'], data['tip']), 0.14373189229218733)\n",
    "assert np.isclose(minimize_average_loss(abs_loss, model, data['total_bill'], data['tip']), 0.14958862353611219)"
   ]
  },
  {
   "cell_type": "markdown",
   "metadata": {
    "deletable": false,
    "editable": false,
    "nbgrader": {
     "cell_type": "markdown",
     "checksum": "8b089c7d3b2667c6b47d9cb7e005cba4",
     "grade": false,
     "grade_id": "submit",
     "locked": true,
     "schema_version": 2,
     "solution": false
    }
   },
   "source": [
    "## Submission\n",
    "\n",
    "Congrats! You are finished with this assignment. Please don't forget to submit by 11:59 pm!"
   ]
  }
 ],
 "metadata": {
  "_change_revision": 0,
  "_is_fork": false,
  "kernelspec": {
   "display_name": "Python 3",
   "language": "python",
   "name": "python3"
  },
  "language_info": {
   "codemirror_mode": {
    "name": "ipython",
    "version": 3
   },
   "file_extension": ".py",
   "mimetype": "text/x-python",
   "name": "python",
   "nbconvert_exporter": "python",
   "pygments_lexer": "ipython3",
   "version": "3.6.4"
  },
  "toc": {
   "colors": {
    "hover_highlight": "#DAA520",
    "navigate_num": "#000000",
    "navigate_text": "#333333",
    "running_highlight": "#FF0000",
    "selected_highlight": "#FFD700",
    "sidebar_border": "#EEEEEE",
    "wrapper_background": "#FFFFFF"
   },
   "moveMenuLeft": true,
   "nav_menu": {
    "height": "301px",
    "width": "252px"
   },
   "navigate_menu": true,
   "number_sections": true,
   "sideBar": true,
   "threshold": 4,
   "toc_cell": false,
   "toc_section_display": "block",
   "toc_window_display": false,
   "widenNotebook": false
  }
 },
 "nbformat": 4,
 "nbformat_minor": 1
}
