{
 "cells": [
  {
   "cell_type": "markdown",
   "metadata": {},
   "source": [
    "Before you turn this problem in, make sure everything runs as expected. First, **restart the kernel** (in the menubar, select Kernel$\\rightarrow$Restart) and then **run all cells** (in the menubar, select Cell$\\rightarrow$Run All). Lastly, hit **Validate**.\n",
    "\n",
    "If you worked locally, and then uploaded your work to the hub, make sure to follow these steps:\n",
    "- open your uploaded notebook **on the hub**\n",
    "- hit the validate button right above this cell, from inside the notebook\n",
    "\n",
    "These  steps should solve any issue related to submitting the notebook on the hub.\n",
    "\n",
    "Make sure you fill in any place that says `YOUR CODE HERE` or \"YOUR ANSWER HERE\", as well as your name and collaborators below:"
   ]
  },
  {
   "cell_type": "code",
   "execution_count": 1,
   "metadata": {},
   "outputs": [],
   "source": [
    "NAME = \"Owen McGrattan\"\n",
    "COLLABORATORS = \"\""
   ]
  },
  {
   "cell_type": "markdown",
   "metadata": {},
   "source": [
    "---"
   ]
  },
  {
   "cell_type": "markdown",
   "metadata": {
    "deletable": false,
    "editable": false,
    "nbgrader": {
     "cell_type": "markdown",
     "checksum": "62de51fb0f570272f1834f8f983b80a4",
     "grade": false,
     "grade_id": "intro",
     "locked": true,
     "schema_version": 2,
     "solution": false
    }
   },
   "source": [
    "# Lab 3: Data Cleaning and Visualization\n",
    "\n",
    "## Course Policies\n",
    "\n",
    "**Collaboration Policy**\n",
    "\n",
    "Data science is a collaborative activity. While you may talk with others about\n",
    "the homework, we ask that you **write your solutions individually**. If you do\n",
    "discuss the assignments with others please **include their names** at the top\n",
    "of your solution.\n",
    "\n",
    "## Due Date\n",
    "\n",
    "** This assignment is due Tuesday 6th Feb at 1:00AM **\n",
    "\n",
    "\n",
    "In this lab, you will be working on the Berkeley Police Department - Calls Data https://data.cityofberkeley.info/Public-Safety/Berkeley-PD-Calls-for-Service/k2nh-s5h5\n",
    "\n",
    "To avoid the issues met in `hw2.ipynb`, you will not be working directly on data from this URL, but on a snapshot of the data, to make sure that we all work with the same data files.\n",
    "\n",
    "The data contains some interesting information but you may need to clean it a bit first.\n",
    "\n",
    "You may find the material in the lecture helpful."
   ]
  },
  {
   "cell_type": "markdown",
   "metadata": {
    "deletable": false,
    "editable": false,
    "nbgrader": {
     "cell_type": "markdown",
     "checksum": "6cdf46556b79f738e0fd959c0c6a9b82",
     "grade": false,
     "grade_id": "setup",
     "locked": true,
     "schema_version": 2,
     "solution": false
    }
   },
   "source": [
    "## Setup\n",
    "\n",
    "Note that after activating matplotlib to display figures inline via the IPython magic `%matplotlib inline`, we configure a custom default figure size. Virtually every default aspect of matplotlib [can be customized](https://matplotlib.org/users/customizing.html)."
   ]
  },
  {
   "cell_type": "code",
   "execution_count": 28,
   "metadata": {
    "deletable": false,
    "editable": false,
    "nbgrader": {
     "cell_type": "code",
     "checksum": "d4da8694c2917dd9b5ba3025e27e03e2",
     "grade": false,
     "grade_id": "imports",
     "locked": true,
     "schema_version": 2,
     "solution": false
    }
   },
   "outputs": [],
   "source": [
    "import pandas as pd\n",
    "import numpy as np\n",
    "import zipfile\n",
    "import matplotlib.pyplot as plt\n",
    "import seaborn as sns\n",
    "from pathlib import Path\n",
    "\n",
    "%matplotlib inline\n",
    "plt.rcParams['figure.figsize'] = (12, 9)"
   ]
  },
  {
   "cell_type": "markdown",
   "metadata": {
    "deletable": false,
    "editable": false,
    "nbgrader": {
     "cell_type": "markdown",
     "checksum": "8e0d85e69d03b19a19684734e1d921f3",
     "grade": false,
     "grade_id": "q0a",
     "locked": true,
     "schema_version": 2,
     "solution": false
    }
   },
   "source": [
    "## Question 0\n",
    "### Question 0a\n",
    "We will reuse the `fetch_and_cache` utility.\n",
    "Import it from your `utils.py` (which should be in the `lab02` folder) or redefine it below."
   ]
  },
  {
   "cell_type": "code",
   "execution_count": 29,
   "metadata": {},
   "outputs": [],
   "source": [
    "def fetch_and_cache(data_url, file, data_dir=\"data\", force=False):\n",
    "    \"\"\"\n",
    "    Download and cache a url and return the file object.\n",
    "    \n",
    "    data_url: the web address to download\n",
    "    file: the file in which to save the results.\n",
    "    data_dir: (default=\"data\") the location to save the data\n",
    "    force: if true the file is always re-downloaded \n",
    "    \n",
    "    return: The pathlib.Path object representing the file.\n",
    "    \"\"\"\n",
    "    import requests\n",
    "    from pathlib import Path\n",
    "    data_dir = Path(data_dir)\n",
    "    data_dir.mkdir(exist_ok=True)\n",
    "    file_path = data_dir/Path(file)\n",
    "    if force and file_path.exists():\n",
    "        file_path.unlink()\n",
    "    if force or not file_path.exists():\n",
    "        print('Downloading...', end=' ')\n",
    "        resp = requests.get(data_url)\n",
    "        with file_path.open('wb') as f:\n",
    "            f.write(resp.content)\n",
    "        print('Done!')\n",
    "    else:\n",
    "        import time \n",
    "        birth_time = time.ctime(file_path.stat().st_ctime)\n",
    "        print(\"Using cached version downloaded:\", birth_time)\n",
    "    return file_path"
   ]
  },
  {
   "cell_type": "code",
   "execution_count": 91,
   "metadata": {
    "deletable": false,
    "nbgrader": {
     "cell_type": "code",
     "checksum": "1eb6dd2e00fe67babf2a5c03bad2837d",
     "grade": false,
     "grade_id": "q0a-answer",
     "locked": false,
     "schema_version": 2,
     "solution": true
    }
   },
   "outputs": [],
   "source": [
    "# Import or redefine the function below\n",
    "#from utils import fetch_and_cache\n",
    "# YOUR CODE HERE\n",
    "#raise NotImplementedError()"
   ]
  },
  {
   "cell_type": "code",
   "execution_count": 92,
   "metadata": {
    "deletable": false,
    "editable": false,
    "nbgrader": {
     "cell_type": "code",
     "checksum": "719d339f8ab066dbfd86c704e0559820",
     "grade": true,
     "grade_id": "q0a-tests",
     "locked": true,
     "points": 1,
     "schema_version": 2,
     "solution": false
    }
   },
   "outputs": [],
   "source": [
    "# This checks whether you imported/defined fetch_and_cache\n",
    "import types\n",
    "assert type(fetch_and_cache) == types.FunctionType"
   ]
  },
  {
   "cell_type": "code",
   "execution_count": 93,
   "metadata": {
    "deletable": false,
    "editable": false,
    "nbgrader": {
     "cell_type": "code",
     "checksum": "12de2c0bc031b304459d88c3437baaaa",
     "grade": false,
     "grade_id": "download-code-1",
     "locked": true,
     "schema_version": 2,
     "solution": false
    }
   },
   "outputs": [
    {
     "name": "stdout",
     "output_type": "stream",
     "text": [
      "Using cached version downloaded: Mon Feb  5 14:30:45 2018\n",
      "Located at data/lab03_data.zip\n"
     ]
    }
   ],
   "source": [
    "data_url = 'http://www.ds100.org/sp18/assets/datasets/lab03_data.zip'\n",
    "file_name = 'lab03_data.zip'\n",
    "\n",
    "dest_path = fetch_and_cache(data_url=data_url, file=file_name)\n",
    "print(f'Located at {dest_path}')"
   ]
  },
  {
   "cell_type": "markdown",
   "metadata": {
    "deletable": false,
    "editable": false,
    "nbgrader": {
     "cell_type": "markdown",
     "checksum": "2e226bc98d47c2414aaa482c18c4a1bd",
     "grade": false,
     "grade_id": "precision",
     "locked": true,
     "schema_version": 2,
     "solution": false
    }
   },
   "source": [
    "We will now directly unzip the ZIP archive and start working with the uncompressed files.\n",
    "\n",
    "There is no single right answer to whether to work with compressed files in their compressed state or whether to uncompress them on disk permanently. If you e.g. need to work with multiple tools on the same files, or write many notebooks to analyze them, and they are not too large, it may be more convenient to uncompress them once.  But you may also have situations where you find it preferable to work with the compressed data directly.  \n",
    "Python gives you tools for both approaches, and you should know how to perform both tasks in order to choose the one that best suits the problem at hand.\n",
    "\n",
    "---\n",
    "\n",
    "Here, the ZIP archive contains a `data` folder with a few files in it. Contrary to `hw2.ipynb`, it is the archive of a **folder**, not of a file.\n",
    "\n",
    "Therefore, we will not specify a destination folder to `extractall`, but directly extract the `data` folder in the zip archive in the current working directory, denoted by `.` in the cell below."
   ]
  },
  {
   "cell_type": "code",
   "execution_count": 33,
   "metadata": {
    "deletable": false,
    "editable": false,
    "nbgrader": {
     "cell_type": "code",
     "checksum": "64185c54d955dd94a7a25a6ecab0d34b",
     "grade": false,
     "grade_id": "download-code-2",
     "locked": true,
     "schema_version": 2,
     "solution": false
    }
   },
   "outputs": [],
   "source": [
    "my_zip = zipfile.ZipFile(dest_path, 'r')\n",
    "# Note the '.' argument\n",
    "my_zip.extractall('.')"
   ]
  },
  {
   "cell_type": "markdown",
   "metadata": {
    "deletable": false,
    "editable": false,
    "nbgrader": {
     "cell_type": "markdown",
     "checksum": "ab92cf85942e887d42e337d6e40e494c",
     "grade": false,
     "grade_id": "q0b",
     "locked": true,
     "schema_version": 2,
     "solution": false
    }
   },
   "source": [
    "### Question 0b\n",
    "Let us use a pathlib functionality to list all files in the `data` directory. You may find useful information in pathlib [docs](https://docs.python.org/3/library/pathlib.html).\n",
    "\n",
    "\n",
    "Use pathlib's `glob` method to store in the variable `file_names` the list of all files' names in the `data_dir` directory.\n",
    "\n",
    "Use pathlib's `glob` method to store in the variable `python_files` the sublist of all python files' names in the `data_dir` directory."
   ]
  },
  {
   "cell_type": "code",
   "execution_count": 37,
   "metadata": {},
   "outputs": [
    {
     "name": "stdout",
     "output_type": "stream",
     "text": [
      "Object `glob` not found.\n"
     ]
    }
   ],
   "source": []
  },
  {
   "cell_type": "code",
   "execution_count": 123,
   "metadata": {
    "deletable": false,
    "nbgrader": {
     "cell_type": "code",
     "checksum": "c91d756030efee25f0e1965658771f67",
     "grade": false,
     "grade_id": "q0b-answer",
     "locked": false,
     "schema_version": 2,
     "solution": true
    }
   },
   "outputs": [
    {
     "name": "stdout",
     "output_type": "stream",
     "text": [
      "['d', 'a', 't', 'a']\n",
      "[PosixPath('data/hello_world.py'), PosixPath('data/go_bears.py')]\n"
     ]
    }
   ],
   "source": [
    "data_dir = Path('data')\n",
    "file_names = list(data_dir.name)\n",
    "python_files = list(data_dir.glob('*.py'))\n",
    "\n",
    "# YOUR CODE HERE\n",
    "#raise NotImplementedError()\n",
    "\n",
    "print(file_names)\n",
    "print(python_files)"
   ]
  },
  {
   "cell_type": "code",
   "execution_count": 122,
   "metadata": {
    "deletable": false,
    "editable": false,
    "nbgrader": {
     "cell_type": "code",
     "checksum": "b31936e33a38dbcb28a20ed06e9291e9",
     "grade": true,
     "grade_id": "q0b-tests",
     "locked": true,
     "points": 1,
     "schema_version": 2,
     "solution": false
    }
   },
   "outputs": [],
   "source": [
    "assert isinstance(file_names, list)\n",
    "assert all([isinstance(file, str) for file in file_names])\n"
   ]
  },
  {
   "cell_type": "markdown",
   "metadata": {
    "deletable": false,
    "editable": false,
    "nbgrader": {
     "cell_type": "markdown",
     "checksum": "82beba89d3c73e4471feb2e86f09d05a",
     "grade": false,
     "grade_id": "explo-0",
     "locked": true,
     "schema_version": 2,
     "solution": false
    }
   },
   "source": [
    "Let us load in a `pandas.DataFrame` objet the CSV file we have."
   ]
  },
  {
   "cell_type": "code",
   "execution_count": 50,
   "metadata": {
    "deletable": false,
    "editable": false,
    "nbgrader": {
     "cell_type": "code",
     "checksum": "fdcd183977085ab71ba4d1f2fa08ba5f",
     "grade": false,
     "grade_id": "download-code-4",
     "locked": true,
     "schema_version": 2,
     "solution": false
    }
   },
   "outputs": [
    {
     "data": {
      "text/html": [
       "<div>\n",
       "<style scoped>\n",
       "    .dataframe tbody tr th:only-of-type {\n",
       "        vertical-align: middle;\n",
       "    }\n",
       "\n",
       "    .dataframe tbody tr th {\n",
       "        vertical-align: top;\n",
       "    }\n",
       "\n",
       "    .dataframe thead th {\n",
       "        text-align: right;\n",
       "    }\n",
       "</style>\n",
       "<table border=\"1\" class=\"dataframe\">\n",
       "  <thead>\n",
       "    <tr style=\"text-align: right;\">\n",
       "      <th></th>\n",
       "      <th>CASENO</th>\n",
       "      <th>OFFENSE</th>\n",
       "      <th>EVENTDT</th>\n",
       "      <th>EVENTTM</th>\n",
       "      <th>CVLEGEND</th>\n",
       "      <th>CVDOW</th>\n",
       "      <th>InDbDate</th>\n",
       "      <th>Block_Location</th>\n",
       "      <th>BLKADDR</th>\n",
       "      <th>City</th>\n",
       "      <th>State</th>\n",
       "    </tr>\n",
       "  </thead>\n",
       "  <tbody>\n",
       "    <tr>\n",
       "      <th>0</th>\n",
       "      <td>17091420</td>\n",
       "      <td>BURGLARY AUTO</td>\n",
       "      <td>07/23/2017 12:00:00 AM</td>\n",
       "      <td>06:00</td>\n",
       "      <td>BURGLARY - VEHICLE</td>\n",
       "      <td>0</td>\n",
       "      <td>08/29/2017 08:28:05 AM</td>\n",
       "      <td>2500 LE CONTE AVE\\nBerkeley, CA\\n(37.876965, -...</td>\n",
       "      <td>2500 LE CONTE AVE</td>\n",
       "      <td>Berkeley</td>\n",
       "      <td>CA</td>\n",
       "    </tr>\n",
       "    <tr>\n",
       "      <th>1</th>\n",
       "      <td>17020462</td>\n",
       "      <td>THEFT FROM PERSON</td>\n",
       "      <td>04/13/2017 12:00:00 AM</td>\n",
       "      <td>08:45</td>\n",
       "      <td>LARCENY</td>\n",
       "      <td>4</td>\n",
       "      <td>08/29/2017 08:28:00 AM</td>\n",
       "      <td>2200 SHATTUCK AVE\\nBerkeley, CA\\n(37.869363, -...</td>\n",
       "      <td>2200 SHATTUCK AVE</td>\n",
       "      <td>Berkeley</td>\n",
       "      <td>CA</td>\n",
       "    </tr>\n",
       "    <tr>\n",
       "      <th>2</th>\n",
       "      <td>17050275</td>\n",
       "      <td>BURGLARY AUTO</td>\n",
       "      <td>08/24/2017 12:00:00 AM</td>\n",
       "      <td>18:30</td>\n",
       "      <td>BURGLARY - VEHICLE</td>\n",
       "      <td>4</td>\n",
       "      <td>08/29/2017 08:28:06 AM</td>\n",
       "      <td>200 UNIVERSITY AVE\\nBerkeley, CA\\n(37.865491, ...</td>\n",
       "      <td>200 UNIVERSITY AVE</td>\n",
       "      <td>Berkeley</td>\n",
       "      <td>CA</td>\n",
       "    </tr>\n",
       "    <tr>\n",
       "      <th>3</th>\n",
       "      <td>17019145</td>\n",
       "      <td>GUN/WEAPON</td>\n",
       "      <td>04/06/2017 12:00:00 AM</td>\n",
       "      <td>17:30</td>\n",
       "      <td>WEAPONS OFFENSE</td>\n",
       "      <td>4</td>\n",
       "      <td>08/29/2017 08:27:59 AM</td>\n",
       "      <td>1900 SEVENTH ST\\nBerkeley, CA\\n(37.869318, -12...</td>\n",
       "      <td>1900 SEVENTH ST</td>\n",
       "      <td>Berkeley</td>\n",
       "      <td>CA</td>\n",
       "    </tr>\n",
       "    <tr>\n",
       "      <th>4</th>\n",
       "      <td>17044993</td>\n",
       "      <td>VEHICLE STOLEN</td>\n",
       "      <td>08/01/2017 12:00:00 AM</td>\n",
       "      <td>18:00</td>\n",
       "      <td>MOTOR VEHICLE THEFT</td>\n",
       "      <td>2</td>\n",
       "      <td>08/29/2017 08:28:05 AM</td>\n",
       "      <td>100 PARKSIDE DR\\nBerkeley, CA\\n(37.854247, -12...</td>\n",
       "      <td>100 PARKSIDE DR</td>\n",
       "      <td>Berkeley</td>\n",
       "      <td>CA</td>\n",
       "    </tr>\n",
       "  </tbody>\n",
       "</table>\n",
       "</div>"
      ],
      "text/plain": [
       "     CASENO            OFFENSE                 EVENTDT EVENTTM  \\\n",
       "0  17091420      BURGLARY AUTO  07/23/2017 12:00:00 AM   06:00   \n",
       "1  17020462  THEFT FROM PERSON  04/13/2017 12:00:00 AM   08:45   \n",
       "2  17050275      BURGLARY AUTO  08/24/2017 12:00:00 AM   18:30   \n",
       "3  17019145         GUN/WEAPON  04/06/2017 12:00:00 AM   17:30   \n",
       "4  17044993     VEHICLE STOLEN  08/01/2017 12:00:00 AM   18:00   \n",
       "\n",
       "              CVLEGEND  CVDOW                InDbDate  \\\n",
       "0   BURGLARY - VEHICLE      0  08/29/2017 08:28:05 AM   \n",
       "1              LARCENY      4  08/29/2017 08:28:00 AM   \n",
       "2   BURGLARY - VEHICLE      4  08/29/2017 08:28:06 AM   \n",
       "3      WEAPONS OFFENSE      4  08/29/2017 08:27:59 AM   \n",
       "4  MOTOR VEHICLE THEFT      2  08/29/2017 08:28:05 AM   \n",
       "\n",
       "                                      Block_Location             BLKADDR  \\\n",
       "0  2500 LE CONTE AVE\\nBerkeley, CA\\n(37.876965, -...   2500 LE CONTE AVE   \n",
       "1  2200 SHATTUCK AVE\\nBerkeley, CA\\n(37.869363, -...   2200 SHATTUCK AVE   \n",
       "2  200 UNIVERSITY AVE\\nBerkeley, CA\\n(37.865491, ...  200 UNIVERSITY AVE   \n",
       "3  1900 SEVENTH ST\\nBerkeley, CA\\n(37.869318, -12...     1900 SEVENTH ST   \n",
       "4  100 PARKSIDE DR\\nBerkeley, CA\\n(37.854247, -12...     100 PARKSIDE DR   \n",
       "\n",
       "       City State  \n",
       "0  Berkeley    CA  \n",
       "1  Berkeley    CA  \n",
       "2  Berkeley    CA  \n",
       "3  Berkeley    CA  \n",
       "4  Berkeley    CA  "
      ]
     },
     "execution_count": 50,
     "metadata": {},
     "output_type": "execute_result"
    }
   ],
   "source": [
    "calls = pd.read_csv(\"data/Berkeley_PD_-_Calls_for_Service.csv\")\n",
    "calls.head()"
   ]
  },
  {
   "cell_type": "markdown",
   "metadata": {
    "deletable": false,
    "editable": false,
    "nbgrader": {
     "cell_type": "markdown",
     "checksum": "ec3df4e6133c7fb6287975130cec7337",
     "grade": false,
     "grade_id": "explo-1",
     "locked": true,
     "schema_version": 2,
     "solution": false
    }
   },
   "source": [
    "First let's check basic info. The following methods are very useful."
   ]
  },
  {
   "cell_type": "code",
   "execution_count": 51,
   "metadata": {
    "deletable": false,
    "editable": false,
    "nbgrader": {
     "cell_type": "code",
     "checksum": "3267e45ac6e884458d293ecc304a38d6",
     "grade": false,
     "grade_id": "explo-2",
     "locked": true,
     "schema_version": 2,
     "solution": false
    }
   },
   "outputs": [
    {
     "name": "stdout",
     "output_type": "stream",
     "text": [
      "<class 'pandas.core.frame.DataFrame'>\n",
      "RangeIndex: 5508 entries, 0 to 5507\n",
      "Data columns (total 11 columns):\n",
      "CASENO            5508 non-null int64\n",
      "OFFENSE           5508 non-null object\n",
      "EVENTDT           5508 non-null object\n",
      "EVENTTM           5508 non-null object\n",
      "CVLEGEND          5508 non-null object\n",
      "CVDOW             5508 non-null int64\n",
      "InDbDate          5508 non-null object\n",
      "Block_Location    5508 non-null object\n",
      "BLKADDR           5481 non-null object\n",
      "City              5508 non-null object\n",
      "State             5508 non-null object\n",
      "dtypes: int64(2), object(9)\n",
      "memory usage: 473.4+ KB\n"
     ]
    },
    {
     "data": {
      "text/html": [
       "<div>\n",
       "<style scoped>\n",
       "    .dataframe tbody tr th:only-of-type {\n",
       "        vertical-align: middle;\n",
       "    }\n",
       "\n",
       "    .dataframe tbody tr th {\n",
       "        vertical-align: top;\n",
       "    }\n",
       "\n",
       "    .dataframe thead th {\n",
       "        text-align: right;\n",
       "    }\n",
       "</style>\n",
       "<table border=\"1\" class=\"dataframe\">\n",
       "  <thead>\n",
       "    <tr style=\"text-align: right;\">\n",
       "      <th></th>\n",
       "      <th>CASENO</th>\n",
       "      <th>CVDOW</th>\n",
       "    </tr>\n",
       "  </thead>\n",
       "  <tbody>\n",
       "    <tr>\n",
       "      <th>count</th>\n",
       "      <td>5.508000e+03</td>\n",
       "      <td>5508.000000</td>\n",
       "    </tr>\n",
       "    <tr>\n",
       "      <th>mean</th>\n",
       "      <td>1.704372e+07</td>\n",
       "      <td>3.076616</td>\n",
       "    </tr>\n",
       "    <tr>\n",
       "      <th>std</th>\n",
       "      <td>2.633874e+04</td>\n",
       "      <td>1.997259</td>\n",
       "    </tr>\n",
       "    <tr>\n",
       "      <th>min</th>\n",
       "      <td>1.700023e+07</td>\n",
       "      <td>0.000000</td>\n",
       "    </tr>\n",
       "    <tr>\n",
       "      <th>25%</th>\n",
       "      <td>1.702357e+07</td>\n",
       "      <td>1.000000</td>\n",
       "    </tr>\n",
       "    <tr>\n",
       "      <th>50%</th>\n",
       "      <td>1.703655e+07</td>\n",
       "      <td>3.000000</td>\n",
       "    </tr>\n",
       "    <tr>\n",
       "      <th>75%</th>\n",
       "      <td>1.704843e+07</td>\n",
       "      <td>5.000000</td>\n",
       "    </tr>\n",
       "    <tr>\n",
       "      <th>max</th>\n",
       "      <td>1.709167e+07</td>\n",
       "      <td>6.000000</td>\n",
       "    </tr>\n",
       "  </tbody>\n",
       "</table>\n",
       "</div>"
      ],
      "text/plain": [
       "             CASENO        CVDOW\n",
       "count  5.508000e+03  5508.000000\n",
       "mean   1.704372e+07     3.076616\n",
       "std    2.633874e+04     1.997259\n",
       "min    1.700023e+07     0.000000\n",
       "25%    1.702357e+07     1.000000\n",
       "50%    1.703655e+07     3.000000\n",
       "75%    1.704843e+07     5.000000\n",
       "max    1.709167e+07     6.000000"
      ]
     },
     "execution_count": 51,
     "metadata": {},
     "output_type": "execute_result"
    }
   ],
   "source": [
    "calls.info()\n",
    "calls.describe()"
   ]
  },
  {
   "cell_type": "markdown",
   "metadata": {
    "deletable": false,
    "editable": false,
    "nbgrader": {
     "cell_type": "markdown",
     "checksum": "af5503ced460d557fc02e13b45ea0a84",
     "grade": false,
     "grade_id": "explo-3",
     "locked": true,
     "schema_version": 2,
     "solution": false
    }
   },
   "source": [
    "Then we can go over the fields to see what are their meanings. We can first check if all events happened in Berkeley."
   ]
  },
  {
   "cell_type": "code",
   "execution_count": 52,
   "metadata": {
    "deletable": false,
    "editable": false,
    "nbgrader": {
     "cell_type": "code",
     "checksum": "91ad2e3b74f8f5029217d4e79b68d0e0",
     "grade": false,
     "grade_id": "explo-4",
     "locked": true,
     "schema_version": 2,
     "solution": false
    }
   },
   "outputs": [
    {
     "data": {
      "text/html": [
       "<div>\n",
       "<style scoped>\n",
       "    .dataframe tbody tr th:only-of-type {\n",
       "        vertical-align: middle;\n",
       "    }\n",
       "\n",
       "    .dataframe tbody tr th {\n",
       "        vertical-align: top;\n",
       "    }\n",
       "\n",
       "    .dataframe thead th {\n",
       "        text-align: right;\n",
       "    }\n",
       "</style>\n",
       "<table border=\"1\" class=\"dataframe\">\n",
       "  <thead>\n",
       "    <tr style=\"text-align: right;\">\n",
       "      <th></th>\n",
       "      <th></th>\n",
       "      <th>CASENO</th>\n",
       "      <th>OFFENSE</th>\n",
       "      <th>EVENTDT</th>\n",
       "      <th>EVENTTM</th>\n",
       "      <th>CVLEGEND</th>\n",
       "      <th>CVDOW</th>\n",
       "      <th>InDbDate</th>\n",
       "      <th>Block_Location</th>\n",
       "      <th>BLKADDR</th>\n",
       "    </tr>\n",
       "    <tr>\n",
       "      <th>City</th>\n",
       "      <th>State</th>\n",
       "      <th></th>\n",
       "      <th></th>\n",
       "      <th></th>\n",
       "      <th></th>\n",
       "      <th></th>\n",
       "      <th></th>\n",
       "      <th></th>\n",
       "      <th></th>\n",
       "      <th></th>\n",
       "    </tr>\n",
       "  </thead>\n",
       "  <tbody>\n",
       "    <tr>\n",
       "      <th>Berkeley</th>\n",
       "      <th>CA</th>\n",
       "      <td>5508</td>\n",
       "      <td>5508</td>\n",
       "      <td>5508</td>\n",
       "      <td>5508</td>\n",
       "      <td>5508</td>\n",
       "      <td>5508</td>\n",
       "      <td>5508</td>\n",
       "      <td>5508</td>\n",
       "      <td>5481</td>\n",
       "    </tr>\n",
       "  </tbody>\n",
       "</table>\n",
       "</div>"
      ],
      "text/plain": [
       "                CASENO  OFFENSE  EVENTDT  EVENTTM  CVLEGEND  CVDOW  InDbDate  \\\n",
       "City     State                                                                 \n",
       "Berkeley CA       5508     5508     5508     5508      5508   5508      5508   \n",
       "\n",
       "                Block_Location  BLKADDR  \n",
       "City     State                           \n",
       "Berkeley CA               5508     5481  "
      ]
     },
     "execution_count": 52,
     "metadata": {},
     "output_type": "execute_result"
    }
   ],
   "source": [
    "calls.groupby([\"City\",\"State\"]).count()"
   ]
  },
  {
   "cell_type": "markdown",
   "metadata": {
    "deletable": false,
    "editable": false,
    "nbgrader": {
     "cell_type": "markdown",
     "checksum": "15790ab3c590482b50374dbe3b6fea0a",
     "grade": false,
     "grade_id": "q1",
     "locked": true,
     "schema_version": 2,
     "solution": false
    }
   },
   "source": [
    "### Question 1\n",
    "It seems OFFENSE and CVLEGEND are both about the type of event. What is the difference between the two? Try to use the `groupby` method to group the two keys.\n",
    "\n",
    "You should be able to see that CVLEGEND is a broader category of crime. For example, there are three sub-categories in OFFENSE that correspond to LARCENY in CVLEGEND. Find them and save the results in `answer1` (should be a list of strings, you may manually type in the answer)."
   ]
  },
  {
   "cell_type": "code",
   "execution_count": 145,
   "metadata": {
    "deletable": false,
    "nbgrader": {
     "cell_type": "code",
     "checksum": "31560e047d6b7be942d3b3f9a7428bae",
     "grade": false,
     "grade_id": "q1-answer",
     "locked": false,
     "schema_version": 2,
     "solution": true
    },
    "tags": [
     "student"
    ]
   },
   "outputs": [],
   "source": [
    "# You may use this cell for your scratch work as long as you enter\n",
    "# in your final answers in the answer1 variable.\n",
    "\n",
    "f = calls[calls[\"CVLEGEND\"] == \"LARCENY\"].groupby(['OFFENSE']).count()\n",
    "f.head()\n",
    "\n",
    "answer1 = [\"THEFT FELONY (OVER $950)\", \"THEFT FROM PERSON\", \"THEFT MISD. (UNDER $950)\"]\n",
    "\n",
    "\n",
    "# YOUR CODE HERE\n",
    "#raise NotImplementedError()"
   ]
  },
  {
   "cell_type": "code",
   "execution_count": 146,
   "metadata": {
    "deletable": false,
    "editable": false,
    "nbgrader": {
     "cell_type": "code",
     "checksum": "637038bf779085f67479e0ab87012f58",
     "grade": true,
     "grade_id": "q1-tests",
     "locked": true,
     "points": 1,
     "schema_version": 2,
     "solution": false
    }
   },
   "outputs": [],
   "source": [
    "assert isinstance(answer1, list)\n",
    "assert all([isinstance(elt, str) for elt in answer1])\n",
    "assert len(answer1) == 3\n",
    "# This makes sure all the values you gave are indeed values of calls['OFFENSE'] (no typo)\n",
    "assert all([elt in calls['OFFENSE'].values for elt in answer1])\n",
    "\n"
   ]
  },
  {
   "cell_type": "markdown",
   "metadata": {
    "deletable": false,
    "editable": false,
    "nbgrader": {
     "cell_type": "markdown",
     "checksum": "78e683848fb86d4b31dfce5588fca7e2",
     "grade": false,
     "grade_id": "q2a",
     "locked": true,
     "schema_version": 2,
     "solution": false
    }
   },
   "source": [
    "### Question 2\n",
    "\n",
    "#### Question 2a\n",
    "\n",
    "What are the five crime types of CVLEGEND that have the most crime events? You may need to use `value_counts` to find the answer.\n",
    "Save your results into `answer2a` as a list of strings"
   ]
  },
  {
   "cell_type": "code",
   "execution_count": 153,
   "metadata": {
    "deletable": false,
    "nbgrader": {
     "cell_type": "code",
     "checksum": "515f10002e3a0e64fcbfda9654879c08",
     "grade": false,
     "grade_id": "q2a-answer",
     "locked": false,
     "schema_version": 2,
     "solution": true
    }
   },
   "outputs": [
    {
     "data": {
      "text/plain": [
       "LARCENY               1102\n",
       "BURGLARY - VEHICLE    1021\n",
       "VANDALISM              438\n",
       "DISORDERLY CONDUCT     415\n",
       "ASSAULT                352\n",
       "Name: CVLEGEND, dtype: int64"
      ]
     },
     "execution_count": 153,
     "metadata": {},
     "output_type": "execute_result"
    }
   ],
   "source": [
    "t = calls[\"CVLEGEND\"].value_counts()\n",
    "t.head()\n",
    "answer2a = [\"LARCENY\", \"BURGLARY - VEHICLE\", \"VANDALISM\", \"DISORDERLY CONDUCT\", \"ASSAULT\"]\n",
    "\n",
    "# YOUR CODE HERE\n",
    "#raise NotImplementedError()"
   ]
  },
  {
   "cell_type": "code",
   "execution_count": 151,
   "metadata": {
    "deletable": false,
    "editable": false,
    "nbgrader": {
     "cell_type": "code",
     "checksum": "e41772f95865eab6270e50d158efd8e7",
     "grade": true,
     "grade_id": "q2a-tests",
     "locked": true,
     "points": 1,
     "schema_version": 2,
     "solution": false
    }
   },
   "outputs": [],
   "source": [
    "assert isinstance(answer2a, list)\n",
    "assert all([isinstance(elt, str) for elt in answer2a])\n",
    "# This makes sure all the values you gave are indeed values of the DataFrame (no typo)\n",
    "assert all([elt in calls['CVLEGEND'].values for elt in answer2a])\n"
   ]
  },
  {
   "cell_type": "markdown",
   "metadata": {
    "deletable": false,
    "editable": false,
    "nbgrader": {
     "cell_type": "markdown",
     "checksum": "22d0677eadcef38d2e14503ed37dca39",
     "grade": false,
     "grade_id": "Pandas-Plotting",
     "locked": true,
     "schema_version": 2,
     "solution": false
    }
   },
   "source": [
    "### Pandas Plotting\n",
    "\n",
    "Pandas offers basic functionality for plotting.  Take a look at the [documentation](https://pandas.pydata.org/pandas-docs/stable/generated/pandas.DataFrame.plot.html).\n",
    "\n",
    "In this lab we will use a few of the basic functions."
   ]
  },
  {
   "cell_type": "markdown",
   "metadata": {
    "deletable": false,
    "editable": false,
    "nbgrader": {
     "cell_type": "markdown",
     "checksum": "6cc5f844108a09828fc69812b90e3c91",
     "grade": false,
     "grade_id": "q2b",
     "locked": true,
     "schema_version": 2,
     "solution": false
    }
   },
   "source": [
    "#### Question 2b\n",
    "\n",
    "In the following example we use the `barh` plot type to visually display the value counts for `CVLEGEND`."
   ]
  },
  {
   "cell_type": "code",
   "execution_count": 152,
   "metadata": {
    "deletable": false,
    "editable": false,
    "nbgrader": {
     "cell_type": "code",
     "checksum": "3d0726cc81dac882abd56333d6c0b452",
     "grade": false,
     "grade_id": "cell-10ce7b681b1bc99d",
     "locked": true,
     "schema_version": 2,
     "solution": false
    }
   },
   "outputs": [
    {
     "data": {
      "image/png": "[encoded data removed]",
      "text/plain": [
       "<matplotlib.figure.Figure at 0x1a0d1b0898>"
      ]
     },
     "metadata": {},
     "output_type": "display_data"
    }
   ],
   "source": [
    "calls['CVLEGEND'].value_counts().plot(kind='barh', colormap='cubehelix');"
   ]
  },
  {
   "cell_type": "markdown",
   "metadata": {
    "deletable": false,
    "editable": false,
    "nbgrader": {
     "cell_type": "markdown",
     "checksum": "d8cc1375fc5a06e7a33e032f4b5d7c6d",
     "grade": false,
     "grade_id": "q2b-suite",
     "locked": true,
     "schema_version": 2,
     "solution": false
    }
   },
   "source": [
    "Look at the documentation and try to construct a regular bar plot in which the bars are oriented vertically."
   ]
  },
  {
   "cell_type": "code",
   "execution_count": 155,
   "metadata": {
    "deletable": false,
    "nbgrader": {
     "cell_type": "code",
     "checksum": "20a0539c8c58137c1ab4e17f569359e6",
     "grade": false,
     "grade_id": "q2b-answer",
     "locked": false,
     "schema_version": 2,
     "solution": true
    }
   },
   "outputs": [
    {
     "data": {
      "image/png": "[encoded data removed]",
      "text/plain": [
       "<matplotlib.figure.Figure at 0x1a1c1d32b0>"
      ]
     },
     "metadata": {},
     "output_type": "display_data"
    }
   ],
   "source": [
    "# YOUR CODE HERE\n",
    "calls['CVLEGEND'].value_counts().plot(kind='bar', colormap='cubehelix');\n",
    "#raise NotImplementedError()\n",
    "\n",
    "\n",
    "# Leave this for grading purposes\n",
    "ax_2b = plt.gca()"
   ]
  },
  {
   "cell_type": "code",
   "execution_count": 156,
   "metadata": {
    "deletable": false,
    "editable": false,
    "nbgrader": {
     "cell_type": "code",
     "checksum": "5cedf1b6f4ba085d7d81894d4d601f13",
     "grade": true,
     "grade_id": "q2b-test",
     "locked": true,
     "points": 1,
     "schema_version": 2,
     "solution": false
    }
   },
   "outputs": [],
   "source": [
    "import matplotlib \n",
    "# Check ordering\n",
    "bars = [rect.get_height() for rect in ax_2b.patches \n",
    "        if isinstance(rect, matplotlib.patches.Rectangle) and rect.get_x() != 0.0\n",
    "       ]\n",
    "# Check values\n",
    "assert set(bars) == set(calls['CVLEGEND'].value_counts().data)"
   ]
  },
  {
   "cell_type": "markdown",
   "metadata": {
    "deletable": false,
    "editable": false,
    "nbgrader": {
     "cell_type": "markdown",
     "checksum": "0cef176b0fb2ddaba8393bb6bc01d4d9",
     "grade": false,
     "grade_id": "q3a",
     "locked": true,
     "schema_version": 2,
     "solution": false
    }
   },
   "source": [
    "### Question 3a\n",
    "\n",
    "The CVDOW field isn't named helpfully and it is hard to see the meaning from the data alone. According to the website, CVDOW is actually indicating the day that events happend. 0->Sunday, 1->Monday ... 6->Saturday. \n",
    "\n",
    "Add a new column `Day` into the `calls` dataframe that has the string weekday (eg. 'Sunday') for the corresponding value in CVDOW.\n",
    "\n",
    "**Hint:** *Try evaluating `days[calls[\"CVDOW\"]]`.  Can you assign this to the new column `calls[\"Day\"]`?*"
   ]
  },
  {
   "cell_type": "code",
   "execution_count": 160,
   "metadata": {
    "deletable": false,
    "nbgrader": {
     "cell_type": "code",
     "checksum": "27ff79cf75e66b72185f88aa5ecf773e",
     "grade": false,
     "grade_id": "q3a-answer",
     "locked": false,
     "schema_version": 2,
     "solution": true
    }
   },
   "outputs": [],
   "source": [
    "days = np.array([\"Sunday\", \"Monday\", \"Tuesday\", \n",
    "                 \"Wednesday\", \"Thursday\", \"Friday\",\n",
    "                 \"Saturday\"])\n",
    "calls[\"Day\"] = days[calls[\"CVDOW\"]]\n",
    "\n",
    "# YOUR CODE HERE\n",
    "#raise NotImplementedError()"
   ]
  },
  {
   "cell_type": "code",
   "execution_count": 161,
   "metadata": {
    "deletable": false,
    "editable": false,
    "nbgrader": {
     "cell_type": "code",
     "checksum": "da3e9cd2990f8f8cb7b247eed09c804a",
     "grade": true,
     "grade_id": "q3a-tests",
     "locked": true,
     "points": 1,
     "schema_version": 2,
     "solution": false
    }
   },
   "outputs": [],
   "source": [
    "assert set(calls[\"Day\"]) == {'Friday', 'Monday', 'Saturday', 'Sunday', 'Thursday', 'Tuesday', 'Wednesday'}\n",
    "assert calls[\"Day\"][0] == 'Sunday'\n"
   ]
  },
  {
   "cell_type": "markdown",
   "metadata": {
    "deletable": false,
    "editable": false,
    "nbgrader": {
     "cell_type": "markdown",
     "checksum": "7d971013f7e234a35985c41fb8c10049",
     "grade": false,
     "grade_id": "q3b",
     "locked": true,
     "schema_version": 2,
     "solution": false
    }
   },
   "source": [
    "### Question 3b\n",
    "\n",
    "\n",
    "Construct a vertical bar plot with the count of the number of entries in the table for each day of the week **ordered by the day of the week** (eg. `Sunday`, `Monday`, ...). \n",
    "\n",
    "**Hint:** *Try evaluating `value_counts()[days]` to order the days.*\n"
   ]
  },
  {
   "cell_type": "code",
   "execution_count": 163,
   "metadata": {
    "deletable": false,
    "nbgrader": {
     "cell_type": "code",
     "checksum": "56dcad8fedc67ccde8962cebf31432fe",
     "grade": false,
     "grade_id": "make-day-plot",
     "locked": false,
     "schema_version": 2,
     "solution": true
    }
   },
   "outputs": [
    {
     "data": {
      "image/png": "[encoded data removed]",
      "text/plain": [
       "<matplotlib.figure.Figure at 0x1a0ce50710>"
      ]
     },
     "metadata": {},
     "output_type": "display_data"
    }
   ],
   "source": [
    "calls['Day'].value_counts()[days].plot(kind='bar', colormap='cubehelix');\n",
    "\n",
    "\n",
    "# YOUR CODE HERE\n",
    "#raise NotImplementedError()\n",
    "\n",
    "# Leave this for grading purposes\n",
    "ax_3b = plt.gca()"
   ]
  },
  {
   "cell_type": "code",
   "execution_count": 164,
   "metadata": {
    "deletable": false,
    "editable": false,
    "nbgrader": {
     "cell_type": "code",
     "checksum": "200c3c9447d1b96cdafc2abfa3084be5",
     "grade": true,
     "grade_id": "test-axis",
     "locked": true,
     "points": 1,
     "schema_version": 2,
     "solution": false
    }
   },
   "outputs": [],
   "source": [
    "import matplotlib \n",
    "# Check ordering\n",
    "assert np.alltrue(np.array([l.get_text() for l in ax_3b.xaxis.get_ticklabels()]) == days)\n",
    "bars = [rect.get_height() for rect in ax_3b.get_children() \n",
    "        if isinstance(rect, matplotlib.patches.Rectangle) and rect.get_x() != 0.0\n",
    "       ]\n",
    "# Check values\n",
    "assert np.alltrue(np.array(bars) == calls['Day'].value_counts()[days].data)"
   ]
  },
  {
   "cell_type": "markdown",
   "metadata": {
    "deletable": false,
    "editable": false,
    "nbgrader": {
     "cell_type": "markdown",
     "checksum": "2de189e279575717ee15625c6b224b24",
     "grade": false,
     "grade_id": "q3b-suite",
     "locked": true,
     "schema_version": 2,
     "solution": false
    }
   },
   "source": [
    "It seems Saturday and Friday have slightly more crimes than the others, while Sunday is the lowest. But the difference does not look significant.  \n",
    "We can break down into some particular types of events to see their distribution. For example, please make a `countplot` for the \"NOISE VIOLATION\". Which two days are the peak for \"NOISE VIOLATION\"?  \n",
    "Put your results into `answer3b` as a list of strings, manually if you prefer."
   ]
  },
  {
   "cell_type": "code",
   "execution_count": 168,
   "metadata": {
    "deletable": false,
    "nbgrader": {
     "cell_type": "code",
     "checksum": "985f967efaa551981336cda4eb3cc223",
     "grade": false,
     "grade_id": "q3b-answer",
     "locked": false,
     "schema_version": 2,
     "solution": true
    },
    "tags": [
     "student"
    ]
   },
   "outputs": [
    {
     "data": {
      "image/png": "[encoded data removed]",
      "text/plain": [
       "<matplotlib.figure.Figure at 0x1a1d168208>"
      ]
     },
     "metadata": {},
     "output_type": "display_data"
    }
   ],
   "source": [
    "violation = calls[calls['CVLEGEND'] == \"NOISE VIOLATION\"]\n",
    "violation['Day'].value_counts()[days].plot(kind='bar', colormap='cubehelix');\n",
    "# TODO: make some plots here\n",
    "answer3b = ['Friday', 'Saturday']\n",
    "\n",
    "# YOUR CODE HERE\n",
    "#raise NotImplementedError()"
   ]
  },
  {
   "cell_type": "code",
   "execution_count": 169,
   "metadata": {
    "deletable": false,
    "editable": false,
    "nbgrader": {
     "cell_type": "code",
     "checksum": "f88d6d2122566276cf65be6f62c0aab0",
     "grade": true,
     "grade_id": "q3b-tests",
     "locked": true,
     "points": 1,
     "schema_version": 2,
     "solution": false
    }
   },
   "outputs": [],
   "source": [
    "assert isinstance(answer3b, list)\n",
    "assert all([isinstance(elt, str) for elt in answer3b])\n",
    "assert all([elt in calls['Day'].values for elt in answer3b])\n"
   ]
  },
  {
   "cell_type": "markdown",
   "metadata": {
    "deletable": false,
    "editable": false,
    "nbgrader": {
     "cell_type": "markdown",
     "checksum": "e0c3ab54ea0e516075db9fc2438922a3",
     "grade": false,
     "grade_id": "q4a",
     "locked": true,
     "schema_version": 2,
     "solution": false
    }
   },
   "source": [
    "### Question 4a\n",
    "Now let's look at the EVENTTM column which indicates the time for events. Since it contains hour and minute information, let's extract the hour info and create a new column named `Hour` in the `calls` dataframe. You should save the hour as an `int`. Then plot the frequency of each hour in the table (i.e., `value_counts()`) sorted by the hour of the day (i.e., `sort_index()`).\n",
    "\n",
    "You will want to look into how to use:\n",
    "\n",
    "* [Series.str.slice](https://pandas.pydata.org/pandas-docs/stable/generated/pandas.Series.str.slice.html#pandas.Series.str.slice) to select the substring.\n",
    "* [Series.astype](https://pandas.pydata.org/pandas-docs/stable/generated/pandas.Series.astype.html) to change the type.\n",
    "\n",
    "**Hint:** *The `str` helper member of a series can be used to grab substrings.  For example, `calls[\"EVENTTM\"].str.slice(3,5)` returns the minute of each hour of the `EVENTTM`.*"
   ]
  },
  {
   "cell_type": "code",
   "execution_count": 175,
   "metadata": {
    "deletable": false,
    "nbgrader": {
     "cell_type": "code",
     "checksum": "3c877a2a3241bd02edb941b53c9b96a4",
     "grade": false,
     "grade_id": "q4a-answer",
     "locked": false,
     "schema_version": 2,
     "solution": true
    },
    "tags": [
     "solution"
    ]
   },
   "outputs": [
    {
     "data": {
      "image/png": "[encoded data removed]",
      "text/plain": [
       "<matplotlib.figure.Figure at 0x1a1d52a390>"
      ]
     },
     "metadata": {},
     "output_type": "display_data"
    }
   ],
   "source": [
    "# YOUR CODE HERE\n",
    "calls['Hour'] = (calls['EVENTTM'].str.slice(0,2)).astype(int)\n",
    "\n",
    "# create the plot \n",
    "calls['Hour'].value_counts().sort_index().plot(kind='bar', colormap='cubehelix');\n",
    "\n",
    "#raise NotImplementedError()"
   ]
  },
  {
   "cell_type": "code",
   "execution_count": 176,
   "metadata": {
    "deletable": false,
    "editable": false,
    "nbgrader": {
     "cell_type": "code",
     "checksum": "fdfa745722d5c046adb76d514cac359a",
     "grade": true,
     "grade_id": "q4a-tests",
     "locked": true,
     "points": 1,
     "schema_version": 2,
     "solution": false
    }
   },
   "outputs": [],
   "source": [
    "assert 'Hour' in calls.columns\n",
    "assert set(calls[\"Hour\"]) == set(range(24))\n"
   ]
  },
  {
   "cell_type": "markdown",
   "metadata": {
    "deletable": false,
    "editable": false,
    "nbgrader": {
     "cell_type": "markdown",
     "checksum": "cc2b816031148551cb52edbca77d8dc3",
     "grade": false,
     "grade_id": "q4b",
     "locked": true,
     "schema_version": 2,
     "solution": false
    }
   },
   "source": [
    "### Question 4b\n",
    "\n",
    "Now let's construct a boxplot which examines the hour of day of each crime broken down by the `CVLEGEND` value.  To construct this plot you will want to read the [DataFrame.boxplot](https://pandas.pydata.org/pandas-docs/stable/generated/pandas.DataFrame.boxplot.html) documentation.\n",
    "\n",
    "Which crime type appears to have the largest interquartile range? Put your results into `answer4b` as a string.\n",
    "\n",
    "**Hint:** *To construct the box plot you will need to specify the `column` to summarize (e.g., `\"Hour\"`) as well as the criterion to group `by` (e.g., `\"CVLEGEND\"`).*\n",
    "\n",
    "**Hint:** *To rotate the labels so they are readable you migth want to set `rot` to `90`.*\n",
    "\n",
    "**Hint:** *To make the plot more readable you might want to set `figsize=(10,8)`.*"
   ]
  },
  {
   "cell_type": "code",
   "execution_count": 186,
   "metadata": {
    "deletable": false,
    "nbgrader": {
     "cell_type": "code",
     "checksum": "d9f569c3c2460e0eda14a76e6c7e26a2",
     "grade": false,
     "grade_id": "q4b-answer",
     "locked": false,
     "schema_version": 2,
     "solution": true
    },
    "tags": [
     "student"
    ]
   },
   "outputs": [
    {
     "data": {
      "image/png": "[encoded data removed]",
      "text/plain": [
       "<matplotlib.figure.Figure at 0x1a21f2b048>"
      ]
     },
     "metadata": {},
     "output_type": "display_data"
    }
   ],
   "source": [
    "dat = calls.groupby(['CVLEGEND'])\n",
    "dat.boxplot(column = 'Hour', rot = 90, figsize = (10, 8))\n",
    "answer4b = \"NOISE VIOLATION\"\n",
    "\n",
    "# YOUR CODE HERE\n",
    "#raise NotImplementedError()"
   ]
  },
  {
   "cell_type": "code",
   "execution_count": 187,
   "metadata": {
    "deletable": false,
    "editable": false,
    "nbgrader": {
     "cell_type": "code",
     "checksum": "98cd5a444cc818d0ca72802bb6c0f113",
     "grade": true,
     "grade_id": "q4b-tests",
     "locked": true,
     "points": 1,
     "schema_version": 2,
     "solution": false
    },
    "tags": [
     "solution"
    ]
   },
   "outputs": [],
   "source": [
    "assert isinstance(answer4b, str)"
   ]
  },
  {
   "cell_type": "markdown",
   "metadata": {
    "deletable": false,
    "editable": false,
    "nbgrader": {
     "cell_type": "markdown",
     "checksum": "81856f933224ebd3c55b47ed5e569685",
     "grade": false,
     "grade_id": "finish",
     "locked": true,
     "schema_version": 2,
     "solution": false
    }
   },
   "source": [
    "## Congratulations\n",
    "\n",
    "Congrats! You are finished with this assignment."
   ]
  }
 ],
 "metadata": {
  "kernelspec": {
   "display_name": "Python 3",
   "language": "python",
   "name": "python3"
  },
  "language_info": {
   "codemirror_mode": {
    "name": "ipython",
    "version": 3
   },
   "file_extension": ".py",
   "mimetype": "text/x-python",
   "name": "python",
   "nbconvert_exporter": "python",
   "pygments_lexer": "ipython3",
   "version": "3.6.4"
  }
 },
 "nbformat": 4,
 "nbformat_minor": 2
}
