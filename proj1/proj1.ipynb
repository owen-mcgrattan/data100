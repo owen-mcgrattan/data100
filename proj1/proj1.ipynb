{
 "cells": [
  {
   "cell_type": "markdown",
   "metadata": {},
   "source": [
    "Before you turn this assignment in, make sure everything runs as expected. First, **restart the kernel** (in the menubar, select Kernel$\\rightarrow$Restart) and then **run all cells** (in the menubar, select Cell$\\rightarrow$Run All). Lastly, hit **Validate**.\n",
    "\n",
    "If you worked locally, and then uploaded your work to the hub, make sure to follow these steps:\n",
    "- open your uploaded notebook **on the hub**\n",
    "- hit the validate button right above this cell, from inside the notebook\n",
    "\n",
    "These  steps should solve any issue related to submitting the notebook on the hub.\n",
    "\n",
    "Make sure you fill in any place that says `YOUR CODE HERE` or \"YOUR ANSWER HERE\", as well as your name and collaborators below:"
   ]
  },
  {
   "cell_type": "code",
   "execution_count": 546,
   "metadata": {},
   "outputs": [],
   "source": [
    "NAME = \"Owen McGrattan\"\n",
    "COLLABORATORS = \"\""
   ]
  },
  {
   "cell_type": "markdown",
   "metadata": {},
   "source": [
    "---"
   ]
  },
  {
   "cell_type": "markdown",
   "metadata": {
    "deletable": false,
    "editable": false,
    "nbgrader": {
     "cell_type": "markdown",
     "checksum": "53a15392d366de67d77bb0748b7775c0",
     "grade": false,
     "grade_id": "intro",
     "locked": true,
     "schema_version": 2,
     "solution": false
    }
   },
   "source": [
    "# Project 1: Trump, Twitter, and Text\n",
    "\n",
    "Welcome to the first project of Data 100! In this project, we will work with the Twitter API in order to analyze Donald Trump's tweets.\n",
    "\n",
    "**The project is due 11:59pm Tuesday, Feb 27, California Time.**\n",
    "\n",
    "*Fair warning:* This project involves significantly more challenging pandas operations than the previous homeworks. We strongly suggest you start early.\n",
    "\n",
    "**Fun:**\n",
    "\n",
    "We intended this project to be fun! You will analyze actual data from the Twitter API. You will also draw conclusions about the current (and often controversial) US President's tweet behavior. If you find yourself getting frustrated or stuck on one problem for too long, we suggest coming into office hours and working with friends in the class.\n",
    "\n",
    "*If you find yourself getting frustrated with the data we suggest you vote and/or encourage others to vote.*\n",
    "\n",
    "With that in mind, let's get started!"
   ]
  },
  {
   "cell_type": "code",
   "execution_count": 547,
   "metadata": {
    "deletable": false,
    "editable": false,
    "nbgrader": {
     "cell_type": "code",
     "checksum": "39a1c52c1b5855b6bd9b10e6a7802072",
     "grade": false,
     "grade_id": "import",
     "locked": true,
     "schema_version": 2,
     "solution": false
    }
   },
   "outputs": [],
   "source": [
    "# Run this cell to set up your notebook\n",
    "import csv\n",
    "import numpy as np\n",
    "import pandas as pd\n",
    "import matplotlib.pyplot as plt\n",
    "import zipfile\n",
    "\n",
    "# Ensure that Pandas shows at least 280 characters in columns, so we can see full tweets\n",
    "pd.set_option('max_colwidth', 280)\n",
    "\n",
    "%matplotlib inline\n",
    "plt.style.use('fivethirtyeight')\n",
    "import seaborn as sns\n",
    "sns.set()\n",
    "sns.set_context(\"talk\")\n",
    "import re"
   ]
  },
  {
   "cell_type": "markdown",
   "metadata": {
    "deletable": false,
    "editable": false,
    "nbgrader": {
     "cell_type": "markdown",
     "checksum": "69812bdeba1101e72f0c2c49d4e05e7e",
     "grade": false,
     "grade_id": "tweepy-intro",
     "locked": true,
     "schema_version": 2,
     "solution": false
    }
   },
   "source": [
    "# Downloading Recent Tweets\n",
    "\n",
    "---\n",
    "\n",
    "Since we'll be looking at Twitter data, we need to download the data from Twitter!\n",
    "\n",
    "Twitter provides an API for downloading tweet data in large batches.  The `tweepy` package makes it fairly easy to use."
   ]
  },
  {
   "cell_type": "code",
   "execution_count": 548,
   "metadata": {
    "deletable": false,
    "editable": false,
    "nbgrader": {
     "cell_type": "code",
     "checksum": "727d86148491e8268741fb9ad1182f32",
     "grade": false,
     "grade_id": "tweepy",
     "locked": true,
     "schema_version": 2,
     "solution": false
    }
   },
   "outputs": [],
   "source": [
    "## Make sure you are in your data100 conda environment if you are working locally.\n",
    "# The following should run:\n",
    "import tweepy"
   ]
  },
  {
   "cell_type": "markdown",
   "metadata": {
    "deletable": false,
    "editable": false,
    "nbgrader": {
     "cell_type": "markdown",
     "checksum": "be71d5e18529a33a68df98dba32c6b98",
     "grade": false,
     "grade_id": "instructions",
     "locked": true,
     "schema_version": 2,
     "solution": false
    }
   },
   "source": [
    "There are instructions on using `tweepy` [here](http://tweepy.readthedocs.io/en/v3.5.0/getting_started.html), but we will give you example code.\n",
    "\n",
    "Twitter requires you to have authentication keys to access their API.  To get your keys, you'll have to sign up as a Twitter developer.  The next question will walk you through this process."
   ]
  },
  {
   "cell_type": "markdown",
   "metadata": {
    "deletable": false,
    "editable": false,
    "nbgrader": {
     "cell_type": "markdown",
     "checksum": "6e6251507833774020ae3a92b3ece63f",
     "grade": false,
     "grade_id": "q1",
     "locked": true,
     "schema_version": 2,
     "solution": false
    }
   },
   "source": [
    "## Question 1\n",
    "\n",
    "Follow the instructions below to get your Twitter API keys.  **Read the instructions completely before starting.**\n",
    "\n",
    "1. [Create a Twitter account](https://twitter.com).  You can use an existing account if you have one; if you prefer to not do this assignment under your regular account, feel free to create a throw-away account.\n",
    "2. Under account settings, add your phone number to the account.\n",
    "3. [Create a Twitter developer account](https://dev.twitter.com/resources/signup).  Attach it to your Twitter account.\n",
    "4. Once you're logged into your developer account, [create an application for this assignment](https://apps.twitter.com/app/new).  You can call it whatever you want, and you can write any URL when it asks for a web site.  You don't need to provide a callback URL.\n",
    "5. On the page for that application, find your Consumer Key and Consumer Secret.\n",
    "6. On the same page, create an Access Token.  Record the resulting Access Token and Access Token Secret.\n",
    "7. Edit the file [keys.json](keys.json) and replace the placeholders with your keys.  "
   ]
  },
  {
   "cell_type": "markdown",
   "metadata": {
    "deletable": false,
    "editable": false,
    "nbgrader": {
     "cell_type": "markdown",
     "checksum": "e1bb1fee574ae618469603216cbed678",
     "grade": false,
     "grade_id": "warning",
     "locked": true,
     "schema_version": 2,
     "solution": false
    }
   },
   "source": [
    "\n",
    "## WARNING (Please Read) !!!!\n",
    "\n",
    "\n",
    "### Protect your Twitter Keys\n",
    "<span style=\"color:red\">\n",
    "If someone has your authentication keys, they can access your Twitter account and post as you!  So don't give them to anyone, and **don't write them down in this notebook**. \n",
    "</span>\n",
    "The usual way to store sensitive information like this is to put it in a separate file and read it programmatically.  That way, you can share the rest of your code without sharing your keys.  That's why we're asking you to put your keys in `keys.json` for this assignment.\n",
    "\n",
    "\n",
    "### Avoid making too many API calls.\n",
    "\n",
    "<span style=\"color:red\">\n",
    "Twitter limits developers to a certain rate of requests for data.  If you make too many requests in a short period of time, you'll have to wait awhile (around 15 minutes) before you can make more.  </span> \n",
    "So carefully follow the code examples you see and don't rerun cells without thinking.  Instead, always save the data you've collected to a file.  We've provided templates to help you do that.\n",
    "\n",
    "\n",
    "### Be careful about which functions you call!\n",
    "\n",
    "<span style=\"color:red\">\n",
    "This API can retweet tweets, follow and unfollow people, and modify your twitter settings.  Be careful which functions you invoke! </span> One of your instructors accidentally re-tweeted some tweets because that instructor typed `retweet` instead of `retweet_count`. \n",
    "</span>\n"
   ]
  },
  {
   "cell_type": "code",
   "execution_count": 549,
   "metadata": {
    "deletable": false,
    "editable": false,
    "nbgrader": {
     "cell_type": "code",
     "checksum": "c2eb5fb9a1af6832165a365b0aad21ab",
     "grade": false,
     "grade_id": "keys",
     "locked": true,
     "schema_version": 2,
     "solution": false
    }
   },
   "outputs": [],
   "source": [
    "import json\n",
    "key_file = 'keys.json'\n",
    "# Loading your keys from keys.json (which you should have filled\n",
    "# in in question 1):\n",
    "with open(key_file) as f:\n",
    "    keys = json.load(f)\n",
    "# if you print or view the contents of keys be sure to delete the cell!"
   ]
  },
  {
   "cell_type": "markdown",
   "metadata": {
    "deletable": false,
    "editable": false,
    "nbgrader": {
     "cell_type": "markdown",
     "checksum": "118d21c4ccbbf942c9f2707840908cca",
     "grade": false,
     "grade_id": "tweepy-auth-note",
     "locked": true,
     "schema_version": 2,
     "solution": false
    }
   },
   "source": [
    "This cell tests the Twitter authentication. It should run without errors or warnings and display your Twitter username."
   ]
  },
  {
   "cell_type": "code",
   "execution_count": 550,
   "metadata": {
    "deletable": false,
    "editable": false,
    "nbgrader": {
     "cell_type": "code",
     "checksum": "66806331fe1cb852ab300e98459cb2d4",
     "grade": false,
     "grade_id": "twitter-auth",
     "locked": true,
     "schema_version": 2,
     "solution": false
    }
   },
   "outputs": [
    {
     "name": "stdout",
     "output_type": "stream",
     "text": [
      "Your username is: O_dotco\n"
     ]
    }
   ],
   "source": [
    "import tweepy\n",
    "from tweepy import TweepError\n",
    "import logging\n",
    "\n",
    "try:\n",
    "    auth = tweepy.OAuthHandler(keys[\"consumer_key\"], keys[\"consumer_secret\"])\n",
    "    auth.set_access_token(keys[\"access_token\"], keys[\"access_token_secret\"])\n",
    "    api = tweepy.API(auth)\n",
    "    print(\"Your username is:\", api.auth.get_username())\n",
    "except TweepError as e:\n",
    "    logging.warning(\"There was a Tweepy error. Double check your API keys and try again.\")\n",
    "    logging.warning(e)"
   ]
  },
  {
   "cell_type": "markdown",
   "metadata": {
    "deletable": false,
    "editable": false,
    "nbgrader": {
     "cell_type": "markdown",
     "checksum": "b738ef5c6ffad625b8d5a61b66719ad6",
     "grade": false,
     "grade_id": "q2",
     "locked": true,
     "schema_version": 2,
     "solution": false
    }
   },
   "source": [
    "## Question 2\n",
    "\n",
    "In the example below, we have loaded some tweets by @BerkeleyData.  Run it and read the code."
   ]
  },
  {
   "cell_type": "code",
   "execution_count": 551,
   "metadata": {
    "deletable": false,
    "editable": false,
    "nbgrader": {
     "cell_type": "code",
     "checksum": "3defce91d655ee59ae318cc20133476a",
     "grade": false,
     "grade_id": "load-berkeley-tweets",
     "locked": true,
     "schema_version": 2,
     "solution": false
    }
   },
   "outputs": [],
   "source": [
    "from pathlib import Path\n",
    "import json\n",
    "\n",
    "ds_tweets_save_path = \"BerkeleyData_recent_tweets.json\"\n",
    "# Guarding against attempts to download the data multiple\n",
    "# times:\n",
    "if not Path(ds_tweets_save_path).is_file():\n",
    "    # Getting as many recent tweets by @BerkeleyData as Twitter will let us have.\n",
    "    # We use tweet_mode='extended' so that Twitter gives us full 280 character tweets.\n",
    "    # This was a change introduced in September 2017.\n",
    "    \n",
    "    # The tweepy Cursor API actually returns \"sophisticated\" Status objects but we \n",
    "    # will use the basic Python dictionaries stored in the _json field. \n",
    "    example_tweets = [t._json for t in tweepy.Cursor(api.user_timeline, id=\"BerkeleyData\", \n",
    "                                             tweet_mode='extended').items()]\n",
    "    \n",
    "    # Saving the tweets to a json file on disk for future analysis\n",
    "    with open(ds_tweets_save_path, \"w\") as f:        \n",
    "        json.dump(example_tweets, f)\n",
    "\n",
    "# Re-loading the json file:\n",
    "with open(ds_tweets_save_path, \"r\") as f:\n",
    "    example_tweets = json.load(f)"
   ]
  },
  {
   "cell_type": "markdown",
   "metadata": {
    "deletable": false,
    "editable": false,
    "nbgrader": {
     "cell_type": "markdown",
     "checksum": "7dc93f6841b3ecdb826a8ff12ebb2030",
     "grade": false,
     "grade_id": "first-tweet-did-it-workk",
     "locked": true,
     "schema_version": 2,
     "solution": false
    }
   },
   "source": [
    "Assuming everything ran correctly you should be able to look at the first tweet by running the cell below.\n",
    "\n",
    "<span style=\"color:red\">\n",
    "**Warning** Do not attempt to view all the tweets in a notebook.  It will likely freeze your browser.  The following would be a **bad idea**:\n",
    "```python\n",
    "    pprint(example_tweets)\n",
    "```\n",
    "\n",
    "</span> "
   ]
  },
  {
   "cell_type": "code",
   "execution_count": 552,
   "metadata": {
    "deletable": false,
    "editable": false,
    "nbgrader": {
     "cell_type": "code",
     "checksum": "de383bb55c2e4e13c896209b5f7589c0",
     "grade": false,
     "grade_id": "first-tweet",
     "locked": true,
     "schema_version": 2,
     "solution": false
    }
   },
   "outputs": [
    {
     "name": "stdout",
     "output_type": "stream",
     "text": [
      "{'contributors': None,\n",
      " 'coordinates': None,\n",
      " 'created_at': 'Wed Feb 14 18:47:23 +0000 2018',\n",
      " 'display_text_range': [0, 144],\n",
      " 'entities': {'hashtags': [],\n",
      "              'symbols': [],\n",
      "              'urls': [],\n",
      "              'user_mentions': [{'id': 263020833,\n",
      "                                 'id_str': '263020833',\n",
      "                                 'indices': [3, 19],\n",
      "                                 'name': 'Berkeley School of Information',\n",
      "                                 'screen_name': 'BerkeleyISchool'}]},\n",
      " 'favorite_count': 0,\n",
      " 'favorited': False,\n",
      " 'full_text': 'RT @BerkeleyISchool: We LOVE the I School community! 💓💖💗 Our '\n",
      "              'students, alumni, faculty &amp; staff make the I School a '\n",
      "              'incredible place to lear…',\n",
      " 'geo': None,\n",
      " 'id': 963847153784369152,\n",
      " 'id_str': '963847153784369152',\n",
      " 'in_reply_to_screen_name': None,\n",
      " 'in_reply_to_status_id': None,\n",
      " 'in_reply_to_status_id_str': None,\n",
      " 'in_reply_to_user_id': None,\n",
      " 'in_reply_to_user_id_str': None,\n",
      " 'is_quote_status': False,\n",
      " 'lang': 'en',\n",
      " 'place': None,\n",
      " 'retweet_count': 3,\n",
      " 'retweeted': False,\n",
      " 'retweeted_status': {'contributors': None,\n",
      "                      'coordinates': None,\n",
      "                      'created_at': 'Wed Feb 14 18:47:00 +0000 2018',\n",
      "                      'display_text_range': [0, 155],\n",
      "                      'entities': {'hashtags': [{'indices': [140, 154],\n",
      "                                                 'text': 'ValentinesDay'}],\n",
      "                                   'media': [{'display_url': 'pic.twitter.com/OpEShsJSUj',\n",
      "                                              'expanded_url': 'https://twitter.com/BerkeleyISchool/status/963847057210421248/photo/1',\n",
      "                                              'id': 963843188598304768,\n",
      "                                              'id_str': '963843188598304768',\n",
      "                                              'indices': [156, 179],\n",
      "                                              'media_url': 'http://pbs.twimg.com/media/DWBCRfuU8AArFBK.png',\n",
      "                                              'media_url_https': 'https://pbs.twimg.com/media/DWBCRfuU8AArFBK.png',\n",
      "                                              'sizes': {'large': {'h': 1115,\n",
      "                                                                  'resize': 'fit',\n",
      "                                                                  'w': 1487},\n",
      "                                                        'medium': {'h': 900,\n",
      "                                                                   'resize': 'fit',\n",
      "                                                                   'w': 1200},\n",
      "                                                        'small': {'h': 510,\n",
      "                                                                  'resize': 'fit',\n",
      "                                                                  'w': 680},\n",
      "                                                        'thumb': {'h': 150,\n",
      "                                                                  'resize': 'crop',\n",
      "                                                                  'w': 150}},\n",
      "                                              'type': 'photo',\n",
      "                                              'url': 'https://t.co/OpEShsJSUj'}],\n",
      "                                   'symbols': [],\n",
      "                                   'urls': [],\n",
      "                                   'user_mentions': []},\n",
      "                      'extended_entities': {'media': [{'display_url': 'pic.twitter.com/OpEShsJSUj',\n",
      "                                                       'expanded_url': 'https://twitter.com/BerkeleyISchool/status/963847057210421248/photo/1',\n",
      "                                                       'id': 963843188598304768,\n",
      "                                                       'id_str': '963843188598304768',\n",
      "                                                       'indices': [156, 179],\n",
      "                                                       'media_url': 'http://pbs.twimg.com/media/DWBCRfuU8AArFBK.png',\n",
      "                                                       'media_url_https': 'https://pbs.twimg.com/media/DWBCRfuU8AArFBK.png',\n",
      "                                                       'sizes': {'large': {'h': 1115,\n",
      "                                                                           'resize': 'fit',\n",
      "                                                                           'w': 1487},\n",
      "                                                                 'medium': {'h': 900,\n",
      "                                                                            'resize': 'fit',\n",
      "                                                                            'w': 1200},\n",
      "                                                                 'small': {'h': 510,\n",
      "                                                                           'resize': 'fit',\n",
      "                                                                           'w': 680},\n",
      "                                                                 'thumb': {'h': 150,\n",
      "                                                                           'resize': 'crop',\n",
      "                                                                           'w': 150}},\n",
      "                                                       'type': 'photo',\n",
      "                                                       'url': 'https://t.co/OpEShsJSUj'}]},\n",
      "                      'favorite_count': 11,\n",
      "                      'favorited': False,\n",
      "                      'full_text': 'We LOVE the I School community! 💓💖💗 Our '\n",
      "                                   'students, alumni, faculty &amp; staff make '\n",
      "                                   'the I School a incredible place to learn '\n",
      "                                   'and grow. Happy #ValentinesDay! '\n",
      "                                   'https://t.co/OpEShsJSUj',\n",
      "                      'geo': None,\n",
      "                      'id': 963847057210421248,\n",
      "                      'id_str': '963847057210421248',\n",
      "                      'in_reply_to_screen_name': None,\n",
      "                      'in_reply_to_status_id': None,\n",
      "                      'in_reply_to_status_id_str': None,\n",
      "                      'in_reply_to_user_id': None,\n",
      "                      'in_reply_to_user_id_str': None,\n",
      "                      'is_quote_status': False,\n",
      "                      'lang': 'en',\n",
      "                      'place': None,\n",
      "                      'possibly_sensitive': False,\n",
      "                      'retweet_count': 3,\n",
      "                      'retweeted': False,\n",
      "                      'source': '<a '\n",
      "                                'href=\"https://about.twitter.com/products/tweetdeck\" '\n",
      "                                'rel=\"nofollow\">TweetDeck</a>',\n",
      "                      'truncated': False,\n",
      "                      'user': {'contributors_enabled': False,\n",
      "                               'created_at': 'Wed Mar 09 06:13:42 +0000 2011',\n",
      "                               'default_profile': False,\n",
      "                               'default_profile_image': False,\n",
      "                               'description': 'The UC Berkeley School of '\n",
      "                                              'Information is a '\n",
      "                                              'multi-disciplinary program '\n",
      "                                              'devoted to enhancing the '\n",
      "                                              'accessibility, usability, '\n",
      "                                              'credibility & security of '\n",
      "                                              'information.',\n",
      "                               'entities': {'description': {'urls': []},\n",
      "                                            'url': {'urls': [{'display_url': 'ischool.berkeley.edu',\n",
      "                                                              'expanded_url': 'http://ischool.berkeley.edu',\n",
      "                                                              'indices': [0,\n",
      "                                                                          23],\n",
      "                                                              'url': 'https://t.co/5eXJ0wN1Jd'}]}},\n",
      "                               'favourites_count': 2040,\n",
      "                               'follow_request_sent': False,\n",
      "                               'followers_count': 4521,\n",
      "                               'following': False,\n",
      "                               'friends_count': 574,\n",
      "                               'geo_enabled': True,\n",
      "                               'has_extended_profile': False,\n",
      "                               'id': 263020833,\n",
      "                               'id_str': '263020833',\n",
      "                               'is_translation_enabled': False,\n",
      "                               'is_translator': False,\n",
      "                               'lang': 'en',\n",
      "                               'listed_count': 205,\n",
      "                               'location': 'Berkeley, California, USA',\n",
      "                               'name': 'Berkeley School of Information',\n",
      "                               'notifications': False,\n",
      "                               'profile_background_color': '38628F',\n",
      "                               'profile_background_image_url': 'http://pbs.twimg.com/profile_background_images/226302581/southhall4.PNG',\n",
      "                               'profile_background_image_url_https': 'https://pbs.twimg.com/profile_background_images/226302581/southhall4.PNG',\n",
      "                               'profile_background_tile': False,\n",
      "                               'profile_banner_url': 'https://pbs.twimg.com/profile_banners/263020833/1509549485',\n",
      "                               'profile_image_url': 'http://pbs.twimg.com/profile_images/875733929902329856/K5Y9Y01a_normal.jpg',\n",
      "                               'profile_image_url_https': 'https://pbs.twimg.com/profile_images/875733929902329856/K5Y9Y01a_normal.jpg',\n",
      "                               'profile_link_color': '3B7EA1',\n",
      "                               'profile_sidebar_border_color': 'C0DEED',\n",
      "                               'profile_sidebar_fill_color': 'DDEEF6',\n",
      "                               'profile_text_color': '333333',\n",
      "                               'profile_use_background_image': True,\n",
      "                               'protected': False,\n",
      "                               'screen_name': 'BerkeleyISchool',\n",
      "                               'statuses_count': 3249,\n",
      "                               'time_zone': 'Pacific Time (US & Canada)',\n",
      "                               'translator_type': 'none',\n",
      "                               'url': 'https://t.co/5eXJ0wN1Jd',\n",
      "                               'utc_offset': -28800,\n",
      "                               'verified': False}},\n",
      " 'source': '<a href=\"http://twitter.com\" rel=\"nofollow\">Twitter Web Client</a>',\n",
      " 'truncated': False,\n",
      " 'user': {'contributors_enabled': False,\n",
      "          'created_at': 'Thu Feb 28 14:37:26 +0000 2013',\n",
      "          'default_profile': False,\n",
      "          'default_profile_image': False,\n",
      "          'description': 'An online Master of Information and Data Science '\n",
      "                         '(MIDS) degree from the UC Berkeley School of '\n",
      "                         'Information. Learn more at: http://t.co/zf6gfBWovQ',\n",
      "          'entities': {'description': {'urls': [{'display_url': 'bit.ly/tBerkeleyData',\n",
      "                                                 'expanded_url': 'http://bit.ly/tBerkeleyData',\n",
      "                                                 'indices': [122, 144],\n",
      "                                                 'url': 'http://t.co/zf6gfBWovQ'}]},\n",
      "                       'url': {'urls': [{'display_url': 'datascience.berkeley.edu',\n",
      "                                         'expanded_url': 'http://datascience.berkeley.edu',\n",
      "                                         'indices': [0, 22],\n",
      "                                         'url': 'http://t.co/S79Ul3oCaa'}]}},\n",
      "          'favourites_count': 88,\n",
      "          'follow_request_sent': False,\n",
      "          'followers_count': 10976,\n",
      "          'following': False,\n",
      "          'friends_count': 409,\n",
      "          'geo_enabled': False,\n",
      "          'has_extended_profile': False,\n",
      "          'id': 1227698863,\n",
      "          'id_str': '1227698863',\n",
      "          'is_translation_enabled': False,\n",
      "          'is_translator': False,\n",
      "          'lang': 'en',\n",
      "          'listed_count': 474,\n",
      "          'location': 'Berkeley, CA',\n",
      "          'name': 'datascience@berkeley',\n",
      "          'notifications': False,\n",
      "          'profile_background_color': 'CCCCCC',\n",
      "          'profile_background_image_url': 'http://pbs.twimg.com/profile_background_images/378800000096571211/5f9ba86a5d2b87c2c48544133c25b092.jpeg',\n",
      "          'profile_background_image_url_https': 'https://pbs.twimg.com/profile_background_images/378800000096571211/5f9ba86a5d2b87c2c48544133c25b092.jpeg',\n",
      "          'profile_background_tile': False,\n",
      "          'profile_banner_url': 'https://pbs.twimg.com/profile_banners/1227698863/1502212054',\n",
      "          'profile_image_url': 'http://pbs.twimg.com/profile_images/894968224973897728/lI8iiF3J_normal.jpg',\n",
      "          'profile_image_url_https': 'https://pbs.twimg.com/profile_images/894968224973897728/lI8iiF3J_normal.jpg',\n",
      "          'profile_link_color': '5173B6',\n",
      "          'profile_sidebar_border_color': 'FFFFFF',\n",
      "          'profile_sidebar_fill_color': 'DDEEF6',\n",
      "          'profile_text_color': '333333',\n",
      "          'profile_use_background_image': True,\n",
      "          'protected': False,\n",
      "          'screen_name': 'BerkeleyData',\n",
      "          'statuses_count': 2227,\n",
      "          'time_zone': 'Eastern Time (US & Canada)',\n",
      "          'translator_type': 'none',\n",
      "          'url': 'http://t.co/S79Ul3oCaa',\n",
      "          'utc_offset': -18000,\n",
      "          'verified': False}}\n"
     ]
    }
   ],
   "source": [
    "# Looking at one tweet object, which has type Status: \n",
    "from pprint import pprint # ...to get a more easily-readable view.\n",
    "pprint(example_tweets[0])"
   ]
  },
  {
   "cell_type": "markdown",
   "metadata": {
    "collapsed": true,
    "deletable": false,
    "editable": false,
    "nbgrader": {
     "cell_type": "markdown",
     "checksum": "43ce65ddda5bb1543856611dd2c536f9",
     "grade": false,
     "grade_id": "q2a",
     "locked": true,
     "schema_version": 2,
     "solution": false
    }
   },
   "source": [
    "## Question 2a\n",
    "\n",
    "### What you need to do. \n",
    "\n",
    "Re-factor the above code fragment into reusable snippets below.  You should not need to make major modifications; this is mostly an exercise in understanding the above code block. "
   ]
  },
  {
   "cell_type": "code",
   "execution_count": 553,
   "metadata": {
    "deletable": false,
    "nbgrader": {
     "cell_type": "code",
     "checksum": "bd6de9d61c340450539455afd0f8fdf3",
     "grade": false,
     "grade_id": "load-keys",
     "locked": false,
     "schema_version": 2,
     "solution": true
    },
    "tags": [
     "student"
    ]
   },
   "outputs": [],
   "source": [
    "def load_keys(path):\n",
    "    \"\"\"Loads your Twitter authentication keys from a file on disk.\n",
    "    \n",
    "    Args:\n",
    "        path (str): The path to your key file.  The file should\n",
    "          be in JSON format and look like this (but filled in):\n",
    "            {\n",
    "                \"consumer_key\": \"<your Consumer Key here>\",\n",
    "                \"consumer_secret\":  \"<your Consumer Secret here>\",\n",
    "                \"access_token\": \"<your Access Token here>\",\n",
    "                \"access_token_secret\": \"<your Access Token Secret here>\"\n",
    "            }\n",
    "    \n",
    "    Returns:\n",
    "        dict: A dictionary mapping key names (like \"consumer_key\") to\n",
    "          key values.\"\"\"\n",
    "    key_file = path\n",
    "    with open(key_file) as f:\n",
    "        keys = json.load(f)\n",
    "    \n",
    "    return keys\n",
    "    #raise NotImplementedError()"
   ]
  },
  {
   "cell_type": "code",
   "execution_count": 554,
   "metadata": {
    "deletable": false,
    "nbgrader": {
     "cell_type": "code",
     "checksum": "76ff200bf064ab3f5c457bc4725d8cd8",
     "grade": false,
     "grade_id": "download-recent-tweets",
     "locked": false,
     "schema_version": 2,
     "solution": true
    },
    "tags": [
     "student"
    ]
   },
   "outputs": [],
   "source": [
    "def download_recent_tweets_by_user(user_account_name, keys):\n",
    "    \"\"\"Downloads tweets by one Twitter user.\n",
    "\n",
    "    Args:\n",
    "        user_account_name (str): The name of the Twitter account\n",
    "          whose tweets will be downloaded.\n",
    "        keys (dict): A Python dictionary with Twitter authentication\n",
    "          keys (strings), like this (but filled in):\n",
    "            {\n",
    "                \"consumer_key\": \"<your Consumer Key here>\",\n",
    "                \"consumer_secret\":  \"<your Consumer Secret here>\",\n",
    "                \"access_token\": \"<your Access Token here>\",\n",
    "                \"access_token_secret\": \"<your Access Token Secret here>\"\n",
    "            }\n",
    "\n",
    "    Returns:\n",
    "        list: A list of Dictonary objects, each representing one tweet.\"\"\"\n",
    "    import tweepy\n",
    "    try:\n",
    "        auth = tweepy.OAuthHandler(keys[\"consumer_key\"], keys[\"consumer_secret\"])\n",
    "        auth.set_access_token(keys[\"access_token\"], keys[\"access_token_secret\"])\n",
    "        api = tweepy.API(auth)\n",
    "    \n",
    "    except TweepError as e:\n",
    "        logging.warning(\"There was a Tweepy error. Double check your API keys and try again.\")\n",
    "        logging.warning(e)\n",
    "     \n",
    "    example_tweets = [t._json for t in tweepy.Cursor(api.user_timeline, id=user_account_name, \n",
    "                                             tweet_mode='extended').items()]\n",
    "    return example_tweets\n",
    "    #raise NotImplementedError()"
   ]
  },
  {
   "cell_type": "code",
   "execution_count": 555,
   "metadata": {
    "deletable": false,
    "nbgrader": {
     "cell_type": "code",
     "checksum": "75d788899e9212031d95685b7ebb4505",
     "grade": false,
     "grade_id": "save-tweets",
     "locked": false,
     "schema_version": 2,
     "solution": true
    },
    "tags": [
     "student"
    ]
   },
   "outputs": [],
   "source": [
    "def save_tweets(tweets, path):\n",
    "    \"\"\"Saves a list of tweets to a file in the local filesystem.\n",
    "    \n",
    "    This function makes no guarantee about the format of the saved\n",
    "    tweets, **except** that calling load_tweets(path) after\n",
    "    save_tweets(tweets, path) will produce the same list of tweets\n",
    "    and that only the file at the given path is used to store the\n",
    "    tweets.  (That means you can implement this function however\n",
    "    you want, as long as saving and loading works!)\n",
    "\n",
    "    Args:\n",
    "        tweets (list): A list of tweet objects (of type Dictionary) to\n",
    "          be saved.\n",
    "        path (str): The place where the tweets will be saved.\n",
    "\n",
    "    Returns:\n",
    "        None\"\"\"\n",
    "    # Saving the tweets to a json file on disk for future analysis\n",
    "    with open(path, \"w\") as f:        \n",
    "        json.dump(tweets, f)\n",
    "    #raise NotImplementedError()"
   ]
  },
  {
   "cell_type": "code",
   "execution_count": 556,
   "metadata": {
    "deletable": false,
    "nbgrader": {
     "cell_type": "code",
     "checksum": "31f5a74addf3b0211c65b0220160568c",
     "grade": false,
     "grade_id": "load-tweets",
     "locked": false,
     "schema_version": 2,
     "solution": true
    },
    "tags": [
     "student"
    ]
   },
   "outputs": [],
   "source": [
    "def load_tweets(path):\n",
    "    \"\"\"Loads tweets that have previously been saved.\n",
    "    \n",
    "    Calling load_tweets(path) after save_tweets(tweets, path)\n",
    "    will produce the same list of tweets.\n",
    "    \n",
    "    Args:\n",
    "        path (str): The place where the tweets were be saved.\n",
    "\n",
    "    Returns:\n",
    "        list: A list of Dictionary objects, each representing one tweet.\"\"\"\n",
    "    \n",
    "    # Re-loading the json file:\n",
    "    with open(path, \"r\") as f:\n",
    "        tweets = json.load(f)\n",
    "    return tweets\n",
    "    #raise NotImplementedError()"
   ]
  },
  {
   "cell_type": "code",
   "execution_count": 557,
   "metadata": {
    "deletable": false,
    "nbgrader": {
     "cell_type": "code",
     "checksum": "2c2633d5128de6e4aadf225aa291118d",
     "grade": false,
     "grade_id": "get-tweets-with-cache",
     "locked": false,
     "schema_version": 2,
     "solution": true
    },
    "tags": [
     "student"
    ]
   },
   "outputs": [],
   "source": [
    "def get_tweets_with_cache(user_account_name, keys_path):\n",
    "    \"\"\"Get recent tweets from one user, loading from a disk cache if available.\n",
    "    \n",
    "    The first time you call this function, it will download tweets by\n",
    "    a user.  Subsequent calls will not re-download the tweets; instead\n",
    "    they'll load the tweets from a save file in your local filesystem.\n",
    "    All this is done using the functions you defined in the previous cell.\n",
    "    This has benefits and drawbacks that often appear when you cache data:\n",
    "    \n",
    "    +: Using this function will prevent extraneous usage of the Twitter API.\n",
    "    +: You will get your data much faster after the first time it's called.\n",
    "    -: If you really want to re-download the tweets (say, to get newer ones,\n",
    "       or because you screwed up something in the previous cell and your\n",
    "       tweets aren't what you wanted), you'll have to find the save file\n",
    "       (which will look like <something>_recent_tweets.pkl) and delete it.\n",
    "    \n",
    "    Args:\n",
    "        user_account_name (str): The Twitter handle of a user, without the @.\n",
    "        keys_path (str): The path to a JSON keys file in your filesystem.\n",
    "    \"\"\"\n",
    "    # check if file exists first then download\n",
    "    if not Path(user_account_name + \".json\").is_file():\n",
    "        tweets = download_recent_tweets_by_user(user_account_name, load_keys(keys_path))\n",
    "        # save tweets to json file based on username\n",
    "        save_tweets(tweets, (user_account_name + \".json\"))\n",
    "        return tweets\n",
    "    else:\n",
    "        tweets = load_tweets(user_account_name + \".json\")\n",
    "        return tweets\n",
    "    # YOUR CODE HERE\n",
    "    #raise NotImplementedError()"
   ]
  },
  {
   "cell_type": "markdown",
   "metadata": {
    "deletable": false,
    "editable": false,
    "nbgrader": {
     "cell_type": "markdown",
     "checksum": "a2ddaff40134b8cf8f582c1df5db3883",
     "grade": false,
     "grade_id": "about-to-get-real",
     "locked": true,
     "schema_version": 2,
     "solution": false
    }
   },
   "source": [
    "If everything was implemented correctly you should be able to obtain roughly the last 3000 tweets by the `realdonaldtrump`.  (This may take a few minutes)"
   ]
  },
  {
   "cell_type": "code",
   "execution_count": 558,
   "metadata": {
    "deletable": false,
    "editable": false,
    "nbgrader": {
     "cell_type": "code",
     "checksum": "8ac3bb2120526571535abbe412929bfd",
     "grade": false,
     "grade_id": "trump-tweets",
     "locked": true,
     "schema_version": 2,
     "solution": false
    }
   },
   "outputs": [
    {
     "name": "stdout",
     "output_type": "stream",
     "text": [
      "Number of tweets downloaded: 3244\n"
     ]
    }
   ],
   "source": [
    "# When you are done, run this cell to load @realdonaldtrump's tweets.\n",
    "# Note the function get_tweets_with_cache.  You may find it useful\n",
    "# later.\n",
    "trump_tweets = get_tweets_with_cache(\"realdonaldtrump\", key_file)\n",
    "print(\"Number of tweets downloaded:\", len(trump_tweets))"
   ]
  },
  {
   "cell_type": "code",
   "execution_count": 559,
   "metadata": {
    "deletable": false,
    "editable": false,
    "nbgrader": {
     "cell_type": "code",
     "checksum": "afaf66b3188a4752b0271beed957ef6c",
     "grade": true,
     "grade_id": "trump-tweets-test",
     "locked": true,
     "points": 1,
     "schema_version": 2,
     "solution": false
    }
   },
   "outputs": [],
   "source": [
    "assert 2000 <= len(trump_tweets) <= 4000"
   ]
  },
  {
   "cell_type": "markdown",
   "metadata": {
    "deletable": false,
    "editable": false,
    "nbgrader": {
     "cell_type": "markdown",
     "checksum": "e991a5d45fd0eeebe8b1c6371a4019f9",
     "grade": false,
     "grade_id": "q2b",
     "locked": true,
     "schema_version": 2,
     "solution": false
    }
   },
   "source": [
    "### Question 2b\n",
    "\n",
    "We are limited to how many tweets we can download.  In what month is the oldest tweet from Trump?"
   ]
  },
  {
   "cell_type": "code",
   "execution_count": 560,
   "metadata": {
    "deletable": false,
    "nbgrader": {
     "cell_type": "code",
     "checksum": "1b46b55114772326e527b1dd67a17a8e",
     "grade": false,
     "grade_id": "oldest-month-question",
     "locked": false,
     "schema_version": 2,
     "solution": true
    }
   },
   "outputs": [],
   "source": [
    "import time\n",
    "# Enter the number of the month of the oldest tweet (e.g. 1 for January)\n",
    "oldest_month = time.strptime(trump_tweets[len(trump_tweets) - 1]['created_at'], '%a %b %d %X %z %Y')[1]\n",
    "\n",
    "\n",
    "#raise NotImplementedError()"
   ]
  },
  {
   "cell_type": "code",
   "execution_count": null,
   "metadata": {
    "deletable": false,
    "editable": false,
    "nbgrader": {
     "cell_type": "code",
     "checksum": "a1bc7ba95e8b2c50def1081519525604",
     "grade": true,
     "grade_id": "oldest-month-answer",
     "locked": true,
     "points": 1,
     "schema_version": 2,
     "solution": false
    }
   },
   "outputs": [],
   "source": []
  },
  {
   "cell_type": "markdown",
   "metadata": {
    "deletable": false,
    "editable": false,
    "nbgrader": {
     "cell_type": "markdown",
     "checksum": "06c75046cf9899a309ab35c11c403965",
     "grade": false,
     "grade_id": "q3",
     "locked": true,
     "schema_version": 2,
     "solution": false
    }
   },
   "source": [
    "\n",
    "## Question 3\n",
    "\n",
    "\n",
    "**IMPORTANT! PLEASE READ**\n",
    "\n",
    "Unfortunately, Twitter prevent us from going further back in time using the public APIs.  Fortunately, we have a snapshot of earlier tweets that we can combine with our new data.  \n",
    "\n",
    "We will again use the `fetch_and_cache` utility to download the dataset. "
   ]
  },
  {
   "cell_type": "code",
   "execution_count": 561,
   "metadata": {
    "deletable": false,
    "editable": false,
    "nbgrader": {
     "cell_type": "code",
     "checksum": "a56fd6ade293905b7cfe91c16c54c650",
     "grade": false,
     "grade_id": "download-data",
     "locked": true,
     "schema_version": 2,
     "solution": false
    }
   },
   "outputs": [
    {
     "name": "stdout",
     "output_type": "stream",
     "text": [
      "Using version already downloaded: Thu Feb 22 15:58:29 2018\n",
      "MD5 hash of file: d9419cad17e76c87fe646b587f6e8ca5\n",
      "Located at data/old_trump_tweets.json.zip\n"
     ]
    }
   ],
   "source": [
    "# Download the dataset\n",
    "from utils import fetch_and_cache\n",
    "data_url = 'http://www.ds100.org/sp18/assets/datasets/old_trump_tweets.json.zip'\n",
    "file_name = 'old_trump_tweets.json.zip'\n",
    "\n",
    "dest_path = fetch_and_cache(data_url=data_url, file=file_name)\n",
    "print(f'Located at {dest_path}')"
   ]
  },
  {
   "cell_type": "markdown",
   "metadata": {
    "deletable": false,
    "editable": false,
    "nbgrader": {
     "cell_type": "markdown",
     "checksum": "da803030a1c84a39afbb134dfb8b19fd",
     "grade": false,
     "grade_id": "loading-data-inst",
     "locked": true,
     "schema_version": 2,
     "solution": false
    }
   },
   "source": [
    "Finally, we we will load the tweets directly from the compressed file without decompressing it first."
   ]
  },
  {
   "cell_type": "code",
   "execution_count": 562,
   "metadata": {
    "deletable": false,
    "editable": false,
    "nbgrader": {
     "cell_type": "code",
     "checksum": "2f84519e987875b6b57d9cc5bae460cf",
     "grade": false,
     "grade_id": "loading-old-tweets",
     "locked": true,
     "schema_version": 2,
     "solution": false
    }
   },
   "outputs": [],
   "source": [
    "my_zip = zipfile.ZipFile(dest_path, 'r')\n",
    "with my_zip.open(\"old_trump_tweets.json\", \"r\") as f:\n",
    "    old_trump_tweets = json.load(f)"
   ]
  },
  {
   "cell_type": "markdown",
   "metadata": {
    "deletable": false,
    "editable": false,
    "nbgrader": {
     "cell_type": "markdown",
     "checksum": "8661fc27e5f1cdfce041efd3896ae838",
     "grade": false,
     "grade_id": "formatting-note",
     "locked": true,
     "schema_version": 2,
     "solution": false
    }
   },
   "source": [
    "This data is formatted identically to the recent tweets we just downloaded:"
   ]
  },
  {
   "cell_type": "code",
   "execution_count": 563,
   "metadata": {
    "deletable": false,
    "editable": false,
    "nbgrader": {
     "cell_type": "code",
     "checksum": "30d8ef8fa2c1b900a48779e6cf0320b6",
     "grade": false,
     "grade_id": "pprint-old-tweets",
     "locked": true,
     "schema_version": 2,
     "solution": false
    }
   },
   "outputs": [
    {
     "name": "stdout",
     "output_type": "stream",
     "text": [
      "{'contributors': None,\n",
      " 'coordinates': None,\n",
      " 'created_at': 'Wed Oct 12 14:00:48 +0000 2016',\n",
      " 'entities': {'hashtags': [{'indices': [23, 38], 'text': 'CrookedHillary'}],\n",
      "              'media': [{'display_url': 'pic.twitter.com/wjsl8ITVvk',\n",
      "                         'expanded_url': 'https://twitter.com/realDonaldTrump/status/786204978629185536/video/1',\n",
      "                         'id': 786204885318561792,\n",
      "                         'id_str': '786204885318561792',\n",
      "                         'indices': [39, 62],\n",
      "                         'media_url': 'http://pbs.twimg.com/ext_tw_video_thumb/786204885318561792/pu/img/XqMoixLm83FzkAbn.jpg',\n",
      "                         'media_url_https': 'https://pbs.twimg.com/ext_tw_video_thumb/786204885318561792/pu/img/XqMoixLm83FzkAbn.jpg',\n",
      "                         'sizes': {'large': {'h': 576,\n",
      "                                             'resize': 'fit',\n",
      "                                             'w': 1024},\n",
      "                                   'medium': {'h': 338,\n",
      "                                              'resize': 'fit',\n",
      "                                              'w': 600},\n",
      "                                   'small': {'h': 191,\n",
      "                                             'resize': 'fit',\n",
      "                                             'w': 340},\n",
      "                                   'thumb': {'h': 150,\n",
      "                                             'resize': 'crop',\n",
      "                                             'w': 150}},\n",
      "                         'type': 'photo',\n",
      "                         'url': 'https://t.co/wjsl8ITVvk'}],\n",
      "              'symbols': [],\n",
      "              'urls': [],\n",
      "              'user_mentions': []},\n",
      " 'extended_entities': {'media': [{'additional_media_info': {'monetizable': False},\n",
      "                                  'display_url': 'pic.twitter.com/wjsl8ITVvk',\n",
      "                                  'expanded_url': 'https://twitter.com/realDonaldTrump/status/786204978629185536/video/1',\n",
      "                                  'id': 786204885318561792,\n",
      "                                  'id_str': '786204885318561792',\n",
      "                                  'indices': [39, 62],\n",
      "                                  'media_url': 'http://pbs.twimg.com/ext_tw_video_thumb/786204885318561792/pu/img/XqMoixLm83FzkAbn.jpg',\n",
      "                                  'media_url_https': 'https://pbs.twimg.com/ext_tw_video_thumb/786204885318561792/pu/img/XqMoixLm83FzkAbn.jpg',\n",
      "                                  'sizes': {'large': {'h': 576,\n",
      "                                                      'resize': 'fit',\n",
      "                                                      'w': 1024},\n",
      "                                            'medium': {'h': 338,\n",
      "                                                       'resize': 'fit',\n",
      "                                                       'w': 600},\n",
      "                                            'small': {'h': 191,\n",
      "                                                      'resize': 'fit',\n",
      "                                                      'w': 340},\n",
      "                                            'thumb': {'h': 150,\n",
      "                                                      'resize': 'crop',\n",
      "                                                      'w': 150}},\n",
      "                                  'type': 'video',\n",
      "                                  'url': 'https://t.co/wjsl8ITVvk',\n",
      "                                  'video_info': {'aspect_ratio': [16, 9],\n",
      "                                                 'duration_millis': 30106,\n",
      "                                                 'variants': [{'bitrate': 832000,\n",
      "                                                               'content_type': 'video/mp4',\n",
      "                                                               'url': 'https://video.twimg.com/ext_tw_video/786204885318561792/pu/vid/640x360/6vt24D3ZQSvYuDqe.mp4'},\n",
      "                                                              {'bitrate': 2176000,\n",
      "                                                               'content_type': 'video/mp4',\n",
      "                                                               'url': 'https://video.twimg.com/ext_tw_video/786204885318561792/pu/vid/1280x720/rSbgQdvR9TPIlRWr.mp4'},\n",
      "                                                              {'bitrate': 320000,\n",
      "                                                               'content_type': 'video/mp4',\n",
      "                                                               'url': 'https://video.twimg.com/ext_tw_video/786204885318561792/pu/vid/320x180/JuNJDqr1KHqoP83N.mp4'},\n",
      "                                                              {'content_type': 'application/x-mpegURL',\n",
      "                                                               'url': 'https://video.twimg.com/ext_tw_video/786204885318561792/pu/pl/IugUNii3a7lmjApS.m3u8'}]}}]},\n",
      " 'favorite_count': 42242,\n",
      " 'favorited': False,\n",
      " 'geo': None,\n",
      " 'id': 786204978629185536,\n",
      " 'id_str': '786204978629185536',\n",
      " 'in_reply_to_screen_name': None,\n",
      " 'in_reply_to_status_id': None,\n",
      " 'in_reply_to_status_id_str': None,\n",
      " 'in_reply_to_user_id': None,\n",
      " 'in_reply_to_user_id_str': None,\n",
      " 'is_quote_status': False,\n",
      " 'lang': 'en',\n",
      " 'place': {'attributes': {},\n",
      "           'bounding_box': {'coordinates': [[[-87.634643, 24.396308],\n",
      "                                             [-79.974307, 24.396308],\n",
      "                                             [-79.974307, 31.001056],\n",
      "                                             [-87.634643, 31.001056]]],\n",
      "                            'type': 'Polygon'},\n",
      "           'contained_within': [],\n",
      "           'country': 'United States',\n",
      "           'country_code': 'US',\n",
      "           'full_name': 'Florida, USA',\n",
      "           'id': '4ec01c9dbc693497',\n",
      "           'name': 'Florida',\n",
      "           'place_type': 'admin',\n",
      "           'url': 'https://api.twitter.com/1.1/geo/id/4ec01c9dbc693497.json'},\n",
      " 'possibly_sensitive': False,\n",
      " 'retweet_count': 24915,\n",
      " 'retweeted': False,\n",
      " 'source': '<a href=\"http://twitter.com/download/iphone\" '\n",
      "           'rel=\"nofollow\">Twitter for iPhone</a>',\n",
      " 'text': 'PAY TO PLAY POLITICS. \\n#CrookedHillary https://t.co/wjsl8ITVvk',\n",
      " 'truncated': False,\n",
      " 'user': {'contributors_enabled': False,\n",
      "          'created_at': 'Wed Mar 18 13:46:38 +0000 2009',\n",
      "          'default_profile': False,\n",
      "          'default_profile_image': False,\n",
      "          'description': '45th President of the United States of America🇺🇸',\n",
      "          'entities': {'description': {'urls': []}},\n",
      "          'favourites_count': 12,\n",
      "          'follow_request_sent': False,\n",
      "          'followers_count': 35307313,\n",
      "          'following': False,\n",
      "          'friends_count': 45,\n",
      "          'geo_enabled': True,\n",
      "          'has_extended_profile': False,\n",
      "          'id': 25073877,\n",
      "          'id_str': '25073877',\n",
      "          'is_translation_enabled': True,\n",
      "          'is_translator': False,\n",
      "          'lang': 'en',\n",
      "          'listed_count': 74225,\n",
      "          'location': 'Washington, DC',\n",
      "          'name': 'Donald J. Trump',\n",
      "          'notifications': False,\n",
      "          'profile_background_color': '6D5C18',\n",
      "          'profile_background_image_url': 'http://pbs.twimg.com/profile_background_images/530021613/trump_scotland__43_of_70_cc.jpg',\n",
      "          'profile_background_image_url_https': 'https://pbs.twimg.com/profile_background_images/530021613/trump_scotland__43_of_70_cc.jpg',\n",
      "          'profile_background_tile': True,\n",
      "          'profile_banner_url': 'https://pbs.twimg.com/profile_banners/25073877/1501916634',\n",
      "          'profile_image_url': 'http://pbs.twimg.com/profile_images/874276197357596672/kUuht00m_normal.jpg',\n",
      "          'profile_image_url_https': 'https://pbs.twimg.com/profile_images/874276197357596672/kUuht00m_normal.jpg',\n",
      "          'profile_link_color': '1B95E0',\n",
      "          'profile_sidebar_border_color': 'BDDCAD',\n",
      "          'profile_sidebar_fill_color': 'C5CEC0',\n",
      "          'profile_text_color': '333333',\n",
      "          'profile_use_background_image': True,\n",
      "          'protected': False,\n",
      "          'screen_name': 'realDonaldTrump',\n",
      "          'statuses_count': 35480,\n",
      "          'time_zone': 'Eastern Time (US & Canada)',\n",
      "          'translator_type': 'regular',\n",
      "          'url': None,\n",
      "          'utc_offset': -14400,\n",
      "          'verified': True}}\n"
     ]
    }
   ],
   "source": [
    "pprint(old_trump_tweets[0])"
   ]
  },
  {
   "cell_type": "markdown",
   "metadata": {
    "deletable": false,
    "editable": false,
    "nbgrader": {
     "cell_type": "markdown",
     "checksum": "15f652a6c9d0626c82b34be4253b2333",
     "grade": false,
     "grade_id": "listing-keys-inst",
     "locked": true,
     "schema_version": 2,
     "solution": false
    }
   },
   "source": [
    "As a dictionary we can also list the keys:"
   ]
  },
  {
   "cell_type": "code",
   "execution_count": 564,
   "metadata": {
    "deletable": false,
    "editable": false,
    "nbgrader": {
     "cell_type": "code",
     "checksum": "c88eaf1ba38e6c52151ad6a2922216c0",
     "grade": false,
     "grade_id": "listing-keys",
     "locked": true,
     "schema_version": 2,
     "solution": false
    }
   },
   "outputs": [
    {
     "data": {
      "text/plain": [
       "dict_keys(['created_at', 'id', 'id_str', 'text', 'truncated', 'entities', 'extended_entities', 'source', 'in_reply_to_status_id', 'in_reply_to_status_id_str', 'in_reply_to_user_id', 'in_reply_to_user_id_str', 'in_reply_to_screen_name', 'user', 'geo', 'coordinates', 'place', 'contributors', 'is_quote_status', 'retweet_count', 'favorite_count', 'favorited', 'retweeted', 'possibly_sensitive', 'lang'])"
      ]
     },
     "execution_count": 564,
     "metadata": {},
     "output_type": "execute_result"
    }
   ],
   "source": [
    "old_trump_tweets[0].keys()"
   ]
  },
  {
   "cell_type": "markdown",
   "metadata": {
    "deletable": false,
    "editable": false,
    "nbgrader": {
     "cell_type": "markdown",
     "checksum": "b40bfbf5e74ba5af630326ab7a77c98c",
     "grade": false,
     "grade_id": "q3a",
     "locked": true,
     "schema_version": 2,
     "solution": false
    }
   },
   "source": [
    "### Question 3a\n",
    "\n",
    "Merge the `old_trump_tweets` and the `trump_tweets` we downloaded from twitter into one giant list of tweets. \n",
    "\n",
    "**Important:** There may be some overlap so be sure to eliminate duplicate tweets.  \n",
    "**Hint:** the `id` of a tweet is always unique."
   ]
  },
  {
   "cell_type": "code",
   "execution_count": 565,
   "metadata": {
    "deletable": false,
    "nbgrader": {
     "cell_type": "code",
     "checksum": "cfff2cf8e110d51cb3dbb7f5086b9be4",
     "grade": false,
     "grade_id": "q3a-answer",
     "locked": false,
     "schema_version": 2,
     "solution": true
    }
   },
   "outputs": [
    {
     "data": {
      "text/plain": [
       "6768"
      ]
     },
     "execution_count": 565,
     "metadata": {},
     "output_type": "execute_result"
    }
   ],
   "source": [
    "\n",
    "tweets = trump_tweets + old_trump_tweets\n",
    "unique_id = []\n",
    "all_tweets = []\n",
    "for d in range(len(tweets)):\n",
    "    t = tweets[d]['id']\n",
    "    if t not in unique_id:\n",
    "        unique_id.append(t)\n",
    "        all_tweets.append(tweets[d])\n",
    "\n",
    "len(all_tweets)\n",
    "\n",
    "# YOUR CODE HERE\n",
    "#raise NotImplementedError()"
   ]
  },
  {
   "cell_type": "code",
   "execution_count": 566,
   "metadata": {
    "deletable": false,
    "editable": false,
    "nbgrader": {
     "cell_type": "code",
     "checksum": "7a21da10aa86da615b340c8edb2973c3",
     "grade": true,
     "grade_id": "q3a-test",
     "locked": true,
     "points": 2,
     "schema_version": 2,
     "solution": false
    }
   },
   "outputs": [],
   "source": [
    "assert len(all_tweets) > len(trump_tweets)\n",
    "assert len(all_tweets) > len(old_trump_tweets)"
   ]
  },
  {
   "cell_type": "markdown",
   "metadata": {
    "deletable": false,
    "editable": false,
    "nbgrader": {
     "cell_type": "markdown",
     "checksum": "532cecf04260fcadca43ce63bf296d5d",
     "grade": false,
     "grade_id": "q3b",
     "locked": true,
     "schema_version": 2,
     "solution": false
    }
   },
   "source": [
    "### Question 3b\n",
    "\n",
    "Construct a DataFrame called `trump` containing all the tweets stored in `all_tweets`. The index of the dataframe should be the ID of each tweet (looks something like `907698529606541312`). It should have these columns:\n",
    "\n",
    "- `time`: The time the tweet was created encoded as a datetime object. (Use `pd.to_datetime` to encode the timestamp.)\n",
    "- `source`: The source device of the tweet.\n",
    "- `text`: The text of the tweet.\n",
    "- `retweet_count`: The retweet count of the tweet. \n",
    "\n",
    "Finally, **the resulting dataframe should be sorted by the index.**\n",
    "\n",
    "**Warning:** *Some tweets will store the text in the `text` field and other will use the `full_text` field.*"
   ]
  },
  {
   "cell_type": "code",
   "execution_count": 567,
   "metadata": {
    "deletable": false,
    "nbgrader": {
     "cell_type": "code",
     "checksum": "dbbe93f4346b0c4ce93681c2c7d06078",
     "grade": false,
     "grade_id": "q3b-answer",
     "locked": false,
     "schema_version": 2,
     "solution": true
    },
    "tags": [
     "student"
    ]
   },
   "outputs": [
    {
     "data": {
      "text/html": [
       "<div>\n",
       "<style scoped>\n",
       "    .dataframe tbody tr th:only-of-type {\n",
       "        vertical-align: middle;\n",
       "    }\n",
       "\n",
       "    .dataframe tbody tr th {\n",
       "        vertical-align: top;\n",
       "    }\n",
       "\n",
       "    .dataframe thead th {\n",
       "        text-align: right;\n",
       "    }\n",
       "</style>\n",
       "<table border=\"1\" class=\"dataframe\">\n",
       "  <thead>\n",
       "    <tr style=\"text-align: right;\">\n",
       "      <th></th>\n",
       "      <th>time</th>\n",
       "      <th>source</th>\n",
       "      <th>text</th>\n",
       "      <th>retweet_count</th>\n",
       "    </tr>\n",
       "    <tr>\n",
       "      <th>id</th>\n",
       "      <th></th>\n",
       "      <th></th>\n",
       "      <th></th>\n",
       "      <th></th>\n",
       "    </tr>\n",
       "  </thead>\n",
       "  <tbody>\n",
       "    <tr>\n",
       "      <th>966766375292358659</th>\n",
       "      <td>2018-02-22 20:07:20</td>\n",
       "      <td>&lt;a href=\"http://twitter.com/download/iphone\" rel=\"nofollow\"&gt;Twitter for iPhone&lt;/a&gt;</td>\n",
       "      <td>Today, it was my great honor to host a School Safety Roundtable at the @WhiteHouse with State and local leaders, law enforcement officers, and education officials.\\n\\nThere is nothing more important than protecting our children. They deserve to be safe, and we will deliver! h...</td>\n",
       "      <td>9037</td>\n",
       "    </tr>\n",
       "    <tr>\n",
       "      <th>966711641378381826</th>\n",
       "      <td>2018-02-22 16:29:50</td>\n",
       "      <td>&lt;a href=\"https://studio.twitter.com\" rel=\"nofollow\"&gt;Media Studio&lt;/a&gt;</td>\n",
       "      <td>On behalf of an entire Nation, CONGRATULATIONS to the U.S. Women's Hockey Team on winning the GOLD! #GoTeamUSA #Olympics https://t.co/3cUZwLVGua</td>\n",
       "      <td>12375</td>\n",
       "    </tr>\n",
       "    <tr>\n",
       "      <th>966687491616059392</th>\n",
       "      <td>2018-02-22 14:53:52</td>\n",
       "      <td>&lt;a href=\"http://twitter.com/download/iphone\" rel=\"nofollow\"&gt;Twitter for iPhone&lt;/a&gt;</td>\n",
       "      <td>Will be meeting with Lawmakers today at 11:30 A.M. to discuss School Safety.  Next week it will be with our Nation’s Governors. It’s been many years of all talk, no action. We’ll get it done!</td>\n",
       "      <td>15122</td>\n",
       "    </tr>\n",
       "    <tr>\n",
       "      <th>966681883206668289</th>\n",
       "      <td>2018-02-22 14:31:35</td>\n",
       "      <td>&lt;a href=\"http://twitter.com/download/iphone\" rel=\"nofollow\"&gt;Twitter for iPhone&lt;/a&gt;</td>\n",
       "      <td>What many people don’t understand, or don’t want to understand, is that Wayne, Chris and the folks who work so hard at the @NRA are Great People and Great American Patriots. They love our Country and will do the right thing.                  MAKE AMERICA GREAT AGAIN!</td>\n",
       "      <td>15427</td>\n",
       "    </tr>\n",
       "    <tr>\n",
       "      <th>966662241977360384</th>\n",
       "      <td>2018-02-22 13:13:32</td>\n",
       "      <td>&lt;a href=\"http://twitter.com/download/iphone\" rel=\"nofollow\"&gt;Twitter for iPhone&lt;/a&gt;</td>\n",
       "      <td>I will be strongly pushing Comprehensive Background Checks with an emphasis on Mental Health. Raise age to 21 and end sale of Bump Stocks! Congress is in a mood to finally do something on this issue - I hope!</td>\n",
       "      <td>24743</td>\n",
       "    </tr>\n",
       "  </tbody>\n",
       "</table>\n",
       "</div>"
      ],
      "text/plain": [
       "                                  time  \\\n",
       "id                                       \n",
       "966766375292358659 2018-02-22 20:07:20   \n",
       "966711641378381826 2018-02-22 16:29:50   \n",
       "966687491616059392 2018-02-22 14:53:52   \n",
       "966681883206668289 2018-02-22 14:31:35   \n",
       "966662241977360384 2018-02-22 13:13:32   \n",
       "\n",
       "                                                                                                source  \\\n",
       "id                                                                                                       \n",
       "966766375292358659  <a href=\"http://twitter.com/download/iphone\" rel=\"nofollow\">Twitter for iPhone</a>   \n",
       "966711641378381826                <a href=\"https://studio.twitter.com\" rel=\"nofollow\">Media Studio</a>   \n",
       "966687491616059392  <a href=\"http://twitter.com/download/iphone\" rel=\"nofollow\">Twitter for iPhone</a>   \n",
       "966681883206668289  <a href=\"http://twitter.com/download/iphone\" rel=\"nofollow\">Twitter for iPhone</a>   \n",
       "966662241977360384  <a href=\"http://twitter.com/download/iphone\" rel=\"nofollow\">Twitter for iPhone</a>   \n",
       "\n",
       "                                                                                                                                                                                                                                                                                                       text  \\\n",
       "id                                                                                                                                                                                                                                                                                                            \n",
       "966766375292358659  Today, it was my great honor to host a School Safety Roundtable at the @WhiteHouse with State and local leaders, law enforcement officers, and education officials.\\n\\nThere is nothing more important than protecting our children. They deserve to be safe, and we will deliver! h...   \n",
       "966711641378381826                                                                                                                                         On behalf of an entire Nation, CONGRATULATIONS to the U.S. Women's Hockey Team on winning the GOLD! #GoTeamUSA #Olympics https://t.co/3cUZwLVGua   \n",
       "966687491616059392                                                                                          Will be meeting with Lawmakers today at 11:30 A.M. to discuss School Safety.  Next week it will be with our Nation’s Governors. It’s been many years of all talk, no action. We’ll get it done!   \n",
       "966681883206668289              What many people don’t understand, or don’t want to understand, is that Wayne, Chris and the folks who work so hard at the @NRA are Great People and Great American Patriots. They love our Country and will do the right thing.                  MAKE AMERICA GREAT AGAIN!   \n",
       "966662241977360384                                                                         I will be strongly pushing Comprehensive Background Checks with an emphasis on Mental Health. Raise age to 21 and end sale of Bump Stocks! Congress is in a mood to finally do something on this issue - I hope!   \n",
       "\n",
       "                    retweet_count  \n",
       "id                                 \n",
       "966766375292358659           9037  \n",
       "966711641378381826          12375  \n",
       "966687491616059392          15122  \n",
       "966681883206668289          15427  \n",
       "966662241977360384          24743  "
      ]
     },
     "execution_count": 567,
     "metadata": {},
     "output_type": "execute_result"
    }
   ],
   "source": [
    "trump = pd.DataFrame(all_tweets)\n",
    "trump.set_index('id', inplace = True)\n",
    "trump['text'] = trump['text'].fillna('') + trump['full_text'].fillna('')\n",
    "trump['time'] = pd.to_datetime(trump['created_at'], infer_datetime_format = True )\n",
    "trump = trump[['time', 'source', 'text', 'retweet_count']]\n",
    "trump.head()\n",
    "# YOUR CODE HERE\n",
    "#raise NotImplementedError()"
   ]
  },
  {
   "cell_type": "code",
   "execution_count": 568,
   "metadata": {
    "deletable": false,
    "editable": false,
    "nbgrader": {
     "cell_type": "code",
     "checksum": "d870180ff630d9ce182d04cd033fe1b2",
     "grade": true,
     "grade_id": "q3b-tests",
     "locked": true,
     "points": 2,
     "schema_version": 2,
     "solution": false
    },
    "tags": [
     "test",
     "q03"
    ]
   },
   "outputs": [],
   "source": [
    "assert isinstance(trump, pd.DataFrame)\n",
    "assert trump.shape[0] < 8000\n",
    "assert trump.shape[1] >= 4\n",
    "assert 831846101179314177 in trump.index\n",
    "assert 753063644578144260 in trump.index\n",
    "assert all(col in trump.columns for col in ['time', 'source', 'text', 'retweet_count'])\n",
    "# If you fail these tests, you probably tried to use __dict__ or _json to read in the tweets\n",
    "assert np.sometrue([('Twitter for iPhone' in s) for s in trump['source'].unique()])\n",
    "assert trump['time'].dtype == np.dtype('<M8[ns]')\n",
    "assert trump['text'].dtype == np.dtype('O')\n",
    "assert trump['retweet_count'].dtype == np.dtype('int64')"
   ]
  },
  {
   "cell_type": "markdown",
   "metadata": {
    "deletable": false,
    "editable": false,
    "nbgrader": {
     "cell_type": "markdown",
     "checksum": "30d38d0c0f5988b2b1da8eadd678d083",
     "grade": false,
     "grade_id": "question4",
     "locked": true,
     "schema_version": 2,
     "solution": false
    }
   },
   "source": [
    "## Question 4: Tweet Source Analysis\n",
    "\n",
    "In the following questions, we are going to find out the charateristics of Trump tweets and the devices used for the tweets.\n",
    "\n",
    "First let's examine the source field:"
   ]
  },
  {
   "cell_type": "code",
   "execution_count": 569,
   "metadata": {
    "deletable": false,
    "editable": false,
    "nbgrader": {
     "cell_type": "code",
     "checksum": "6afb6dfe20e5154416906478ba3d9384",
     "grade": false,
     "grade_id": "unique-sources",
     "locked": true,
     "schema_version": 2,
     "solution": false
    }
   },
   "outputs": [
    {
     "data": {
      "text/plain": [
       "array([ '<a href=\"http://twitter.com/download/iphone\" rel=\"nofollow\">Twitter for iPhone</a>',\n",
       "       '<a href=\"https://studio.twitter.com\" rel=\"nofollow\">Media Studio</a>',\n",
       "       '<a href=\"http://twitter.com/#!/download/ipad\" rel=\"nofollow\">Twitter for iPad</a>',\n",
       "       '<a href=\"http://twitter.com\" rel=\"nofollow\">Twitter Web Client</a>',\n",
       "       '<a href=\"https://ads.twitter.com\" rel=\"nofollow\">Twitter Ads</a>',\n",
       "       '<a href=\"http://twitter.com/download/android\" rel=\"nofollow\">Twitter for Android</a>',\n",
       "       '<a href=\"https://periscope.tv\" rel=\"nofollow\">Periscope</a>',\n",
       "       '<a href=\"http://instagram.com\" rel=\"nofollow\">Instagram</a>',\n",
       "       '<a href=\"https://mobile.twitter.com\" rel=\"nofollow\">Mobile Web (M5)</a>'], dtype=object)"
      ]
     },
     "execution_count": 569,
     "metadata": {},
     "output_type": "execute_result"
    }
   ],
   "source": [
    "trump['source'].unique()"
   ]
  },
  {
   "cell_type": "markdown",
   "metadata": {
    "deletable": false,
    "editable": false,
    "nbgrader": {
     "cell_type": "markdown",
     "checksum": "c6456dce1f6278ee550862faf8829f32",
     "grade": false,
     "grade_id": "q4a",
     "locked": true,
     "schema_version": 2,
     "solution": false
    }
   },
   "source": [
    "## Question 4a\n",
    "\n",
    "Remove the HTML tags from the source field. \n",
    "\n",
    "**Hint:** Use `trump['source'].str.replace` and your favorite regular expression."
   ]
  },
  {
   "cell_type": "code",
   "execution_count": 570,
   "metadata": {
    "deletable": false,
    "nbgrader": {
     "cell_type": "code",
     "checksum": "a05e9dfd89d13b6b4d93b7b32b0c18d0",
     "grade": false,
     "grade_id": "q4a-answer",
     "locked": false,
     "schema_version": 2,
     "solution": true
    }
   },
   "outputs": [],
   "source": [
    "## Uncomment and complete\n",
    "# trump['source'] = ...\n",
    "trump['source'] = trump['source'].str.replace('<[^>]*>', '',)\n",
    "\n",
    "# YOUR CODE HERE\n",
    "#raise NotImplementedError()"
   ]
  },
  {
   "cell_type": "code",
   "execution_count": 571,
   "metadata": {
    "deletable": false,
    "editable": false,
    "nbgrader": {
     "cell_type": "code",
     "checksum": "ba180bc3697692747a71297f6b4dc64a",
     "grade": true,
     "grade_id": "q4a-test",
     "locked": true,
     "points": 1,
     "schema_version": 2,
     "solution": false
    }
   },
   "outputs": [],
   "source": [
    "from datetime import datetime\n",
    "ELEC_DATE = datetime(2016, 11, 8)\n",
    "INAUG_DATE = datetime(2017, 1, 20)\n",
    "assert set(trump[(trump['time'] > ELEC_DATE) & (trump['time'] < INAUG_DATE) ]['source'].unique()) == set(['Twitter Ads',\n",
    " 'Twitter Web Client',\n",
    " 'Twitter for Android',\n",
    " 'Twitter for iPhone'])"
   ]
  },
  {
   "cell_type": "markdown",
   "metadata": {
    "deletable": false,
    "editable": false,
    "nbgrader": {
     "cell_type": "markdown",
     "checksum": "fbd18f3db9b76174657bbfadec0dede6",
     "grade": false,
     "grade_id": "note-about-device-usage",
     "locked": true,
     "schema_version": 2,
     "solution": false
    }
   },
   "source": [
    "We can see in the following plot that there are two device types that are more commonly used"
   ]
  },
  {
   "cell_type": "code",
   "execution_count": 572,
   "metadata": {
    "deletable": false,
    "editable": false,
    "nbgrader": {
     "cell_type": "code",
     "checksum": "80767c65e51906a26ac3aa9c6e0d48e5",
     "grade": false,
     "grade_id": "device-usage-plot",
     "locked": true,
     "schema_version": 2,
     "solution": false
    }
   },
   "outputs": [
    {
     "data": {
      "text/plain": [
       "Text(0,0.5,'Number of Tweets')"
      ]
     },
     "execution_count": 572,
     "metadata": {},
     "output_type": "execute_result"
    },
    {
     "data": {
      "image/png": "[encoded data removed]",
      "text/plain": [
       "<matplotlib.figure.Figure at 0x1a21458358>"
      ]
     },
     "metadata": {},
     "output_type": "display_data"
    }
   ],
   "source": [
    "trump['source'].value_counts().plot(kind=\"bar\")\n",
    "plt.ylabel(\"Number of Tweets\")"
   ]
  },
  {
   "cell_type": "markdown",
   "metadata": {
    "deletable": false,
    "editable": false,
    "nbgrader": {
     "cell_type": "markdown",
     "checksum": "4fc8de3b5e3282ab8fa3c8f31fa6794c",
     "grade": false,
     "grade_id": "q4b",
     "locked": true,
     "schema_version": 2,
     "solution": false
    }
   },
   "source": [
    "## Question 4b\n",
    "\n",
    "\n",
    "Is there a difference between his Tweet behavior across these devices? We will attempt to answer this question in our subsequent analysis.\n",
    "\n",
    "First, we'll take a look at whether Trump's tweets from an Android come at different times than his tweets from an iPhone. Note that Twitter gives us his tweets in the [UTC timezone](https://www.wikiwand.com/en/List_of_UTC_time_offsets) (notice the `+0000` in the first few tweets)"
   ]
  },
  {
   "cell_type": "code",
   "execution_count": 573,
   "metadata": {
    "deletable": false,
    "editable": false,
    "nbgrader": {
     "cell_type": "code",
     "checksum": "8a6257dbd02d1af40cdfd288d7c37250",
     "grade": false,
     "grade_id": "tweet-created-at",
     "locked": true,
     "schema_version": 2,
     "solution": false
    }
   },
   "outputs": [
    {
     "name": "stdout",
     "output_type": "stream",
     "text": [
      "Thu Feb 22 20:07:20 +0000 2018\n",
      "Thu Feb 22 16:29:50 +0000 2018\n",
      "Thu Feb 22 14:53:52 +0000 2018\n"
     ]
    }
   ],
   "source": [
    "for t in trump_tweets[0:3]:\n",
    "    print(t['created_at'])"
   ]
  },
  {
   "cell_type": "markdown",
   "metadata": {
    "deletable": false,
    "editable": false,
    "nbgrader": {
     "cell_type": "markdown",
     "checksum": "5a4f73d1c7135ddc404472884d7ba6fa",
     "grade": false,
     "grade_id": "convert-to-est-justification",
     "locked": true,
     "schema_version": 2,
     "solution": false
    }
   },
   "source": [
    "We'll convert the tweet times to US Eastern Time, the timezone of New York and Washington D.C., since those are the places we would expect the most tweet activity from Trump."
   ]
  },
  {
   "cell_type": "code",
   "execution_count": 574,
   "metadata": {
    "deletable": false,
    "editable": false,
    "nbgrader": {
     "cell_type": "code",
     "checksum": "6adc54fdcb7560cb4586d97800b8bfab",
     "grade": false,
     "grade_id": "convert-to-est",
     "locked": true,
     "schema_version": 2,
     "solution": false
    }
   },
   "outputs": [
    {
     "data": {
      "text/html": [
       "<div>\n",
       "<style scoped>\n",
       "    .dataframe tbody tr th:only-of-type {\n",
       "        vertical-align: middle;\n",
       "    }\n",
       "\n",
       "    .dataframe tbody tr th {\n",
       "        vertical-align: top;\n",
       "    }\n",
       "\n",
       "    .dataframe thead th {\n",
       "        text-align: right;\n",
       "    }\n",
       "</style>\n",
       "<table border=\"1\" class=\"dataframe\">\n",
       "  <thead>\n",
       "    <tr style=\"text-align: right;\">\n",
       "      <th></th>\n",
       "      <th>time</th>\n",
       "      <th>source</th>\n",
       "      <th>text</th>\n",
       "      <th>retweet_count</th>\n",
       "      <th>est_time</th>\n",
       "    </tr>\n",
       "    <tr>\n",
       "      <th>id</th>\n",
       "      <th></th>\n",
       "      <th></th>\n",
       "      <th></th>\n",
       "      <th></th>\n",
       "      <th></th>\n",
       "    </tr>\n",
       "  </thead>\n",
       "  <tbody>\n",
       "    <tr>\n",
       "      <th>966766375292358659</th>\n",
       "      <td>2018-02-22 20:07:20</td>\n",
       "      <td>Twitter for iPhone</td>\n",
       "      <td>Today, it was my great honor to host a School Safety Roundtable at the @WhiteHouse with State and local leaders, law enforcement officers, and education officials.\\n\\nThere is nothing more important than protecting our children. They deserve to be safe, and we will deliver! h...</td>\n",
       "      <td>9037</td>\n",
       "      <td>2018-02-22 15:07:20-05:00</td>\n",
       "    </tr>\n",
       "    <tr>\n",
       "      <th>966711641378381826</th>\n",
       "      <td>2018-02-22 16:29:50</td>\n",
       "      <td>Media Studio</td>\n",
       "      <td>On behalf of an entire Nation, CONGRATULATIONS to the U.S. Women's Hockey Team on winning the GOLD! #GoTeamUSA #Olympics https://t.co/3cUZwLVGua</td>\n",
       "      <td>12375</td>\n",
       "      <td>2018-02-22 11:29:50-05:00</td>\n",
       "    </tr>\n",
       "    <tr>\n",
       "      <th>966687491616059392</th>\n",
       "      <td>2018-02-22 14:53:52</td>\n",
       "      <td>Twitter for iPhone</td>\n",
       "      <td>Will be meeting with Lawmakers today at 11:30 A.M. to discuss School Safety.  Next week it will be with our Nation’s Governors. It’s been many years of all talk, no action. We’ll get it done!</td>\n",
       "      <td>15122</td>\n",
       "      <td>2018-02-22 09:53:52-05:00</td>\n",
       "    </tr>\n",
       "    <tr>\n",
       "      <th>966681883206668289</th>\n",
       "      <td>2018-02-22 14:31:35</td>\n",
       "      <td>Twitter for iPhone</td>\n",
       "      <td>What many people don’t understand, or don’t want to understand, is that Wayne, Chris and the folks who work so hard at the @NRA are Great People and Great American Patriots. They love our Country and will do the right thing.                  MAKE AMERICA GREAT AGAIN!</td>\n",
       "      <td>15427</td>\n",
       "      <td>2018-02-22 09:31:35-05:00</td>\n",
       "    </tr>\n",
       "    <tr>\n",
       "      <th>966662241977360384</th>\n",
       "      <td>2018-02-22 13:13:32</td>\n",
       "      <td>Twitter for iPhone</td>\n",
       "      <td>I will be strongly pushing Comprehensive Background Checks with an emphasis on Mental Health. Raise age to 21 and end sale of Bump Stocks! Congress is in a mood to finally do something on this issue - I hope!</td>\n",
       "      <td>24743</td>\n",
       "      <td>2018-02-22 08:13:32-05:00</td>\n",
       "    </tr>\n",
       "  </tbody>\n",
       "</table>\n",
       "</div>"
      ],
      "text/plain": [
       "                                  time              source  \\\n",
       "id                                                           \n",
       "966766375292358659 2018-02-22 20:07:20  Twitter for iPhone   \n",
       "966711641378381826 2018-02-22 16:29:50        Media Studio   \n",
       "966687491616059392 2018-02-22 14:53:52  Twitter for iPhone   \n",
       "966681883206668289 2018-02-22 14:31:35  Twitter for iPhone   \n",
       "966662241977360384 2018-02-22 13:13:32  Twitter for iPhone   \n",
       "\n",
       "                                                                                                                                                                                                                                                                                                       text  \\\n",
       "id                                                                                                                                                                                                                                                                                                            \n",
       "966766375292358659  Today, it was my great honor to host a School Safety Roundtable at the @WhiteHouse with State and local leaders, law enforcement officers, and education officials.\\n\\nThere is nothing more important than protecting our children. They deserve to be safe, and we will deliver! h...   \n",
       "966711641378381826                                                                                                                                         On behalf of an entire Nation, CONGRATULATIONS to the U.S. Women's Hockey Team on winning the GOLD! #GoTeamUSA #Olympics https://t.co/3cUZwLVGua   \n",
       "966687491616059392                                                                                          Will be meeting with Lawmakers today at 11:30 A.M. to discuss School Safety.  Next week it will be with our Nation’s Governors. It’s been many years of all talk, no action. We’ll get it done!   \n",
       "966681883206668289              What many people don’t understand, or don’t want to understand, is that Wayne, Chris and the folks who work so hard at the @NRA are Great People and Great American Patriots. They love our Country and will do the right thing.                  MAKE AMERICA GREAT AGAIN!   \n",
       "966662241977360384                                                                         I will be strongly pushing Comprehensive Background Checks with an emphasis on Mental Health. Raise age to 21 and end sale of Bump Stocks! Congress is in a mood to finally do something on this issue - I hope!   \n",
       "\n",
       "                    retweet_count                  est_time  \n",
       "id                                                           \n",
       "966766375292358659           9037 2018-02-22 15:07:20-05:00  \n",
       "966711641378381826          12375 2018-02-22 11:29:50-05:00  \n",
       "966687491616059392          15122 2018-02-22 09:53:52-05:00  \n",
       "966681883206668289          15427 2018-02-22 09:31:35-05:00  \n",
       "966662241977360384          24743 2018-02-22 08:13:32-05:00  "
      ]
     },
     "execution_count": 574,
     "metadata": {},
     "output_type": "execute_result"
    }
   ],
   "source": [
    "trump['est_time'] = (\n",
    "    trump['time'].dt.tz_localize(\"UTC\") # Set initial timezone to UTC\n",
    "                 .dt.tz_convert(\"EST\") # Convert to Eastern Time\n",
    ")\n",
    "trump.head()"
   ]
  },
  {
   "cell_type": "markdown",
   "metadata": {
    "deletable": false,
    "editable": false,
    "nbgrader": {
     "cell_type": "markdown",
     "checksum": "62a7fe09ae5f6e81c5112a2052452467",
     "grade": false,
     "grade_id": "need-to-do",
     "locked": true,
     "schema_version": 2,
     "solution": false
    }
   },
   "source": [
    "**What you need to do:**\n",
    "\n",
    "Add a column called `hour` to the `trump` table which contains the hour of the day as floating point number computed by:\n",
    "\n",
    "$$\n",
    "\\text{hour} + \\frac{\\text{minute}}{60} + \\frac{\\text{second}}{60^2}\n",
    "$$\n"
   ]
  },
  {
   "cell_type": "code",
   "execution_count": 575,
   "metadata": {
    "deletable": false,
    "nbgrader": {
     "cell_type": "code",
     "checksum": "06c6a53e7388e12148e57710efe30726",
     "grade": false,
     "grade_id": "q4b-answer",
     "locked": false,
     "schema_version": 2,
     "solution": true
    },
    "tags": [
     "student"
    ]
   },
   "outputs": [],
   "source": [
    "trump['hour'] = trump['est_time'].dt.hour + ((trump['est_time'].dt.minute) / 60) + ((trump['est_time'].dt.second) / (60**2))\n",
    "\n",
    "\n",
    "#raise NotImplementedError()"
   ]
  },
  {
   "cell_type": "code",
   "execution_count": 576,
   "metadata": {
    "deletable": false,
    "editable": false,
    "nbgrader": {
     "cell_type": "code",
     "checksum": "b0fcc19ae4e12541fa73e3e62f334e01",
     "grade": true,
     "grade_id": "q4b-tests",
     "locked": true,
     "points": 1,
     "schema_version": 2,
     "solution": false
    },
    "tags": [
     "test",
     "q04a"
    ]
   },
   "outputs": [],
   "source": [
    "assert np.isclose(trump.loc[690171032150237184]['hour'], 8.93639)"
   ]
  },
  {
   "cell_type": "markdown",
   "metadata": {
    "deletable": false,
    "editable": false,
    "nbgrader": {
     "cell_type": "markdown",
     "checksum": "8b98f2333e8e06595af89608f654a347",
     "grade": false,
     "grade_id": "q4c",
     "locked": true,
     "schema_version": 2,
     "solution": false
    }
   },
   "source": [
    "## Question 4c\n",
    "\n",
    "Use this data along with the seaborn `distplot` function to examine the distribution over hours of the day in `easter time` that trump tweets on each device for the 2 most commonly used devices.  Your plot should look similar to the following. \n",
    "\n",
    "<img src=\"images/device_hour2.png\" width=\"600px\" />"
   ]
  },
  {
   "cell_type": "code",
   "execution_count": 577,
   "metadata": {
    "deletable": false,
    "nbgrader": {
     "cell_type": "code",
     "checksum": "8098891f5ad326482ed42b89fb116b10",
     "grade": true,
     "grade_id": "q4c-answer",
     "locked": false,
     "points": 2,
     "schema_version": 2,
     "solution": true
    }
   },
   "outputs": [
    {
     "data": {
      "text/plain": [
       "Text(0,0.5,'fraction')"
      ]
     },
     "execution_count": 577,
     "metadata": {},
     "output_type": "execute_result"
    },
    {
     "data": {
      "image/png": "[encoded data removed]",
      "text/plain": [
       "<matplotlib.figure.Figure at 0x1a3c1d00f0>"
      ]
     },
     "metadata": {},
     "output_type": "display_data"
    }
   ],
   "source": [
    "### make your plot here\n",
    "\n",
    "sns.distplot(trump[trump['source'] == \"Twitter for iPhone\"]['hour'], hist = False, label = \"Twitter for iPhone\")\n",
    "sns.distplot(trump[trump['source'] == \"Twitter for Android\"]['hour'], hist = False, label = \"Twitter for Android\")\n",
    "plt.legend()\n",
    "plt.ylabel('fraction')\n",
    "#raise NotImplementedError()"
   ]
  },
  {
   "cell_type": "markdown",
   "metadata": {
    "deletable": false,
    "editable": false,
    "nbgrader": {
     "cell_type": "markdown",
     "checksum": "15705789bde1b146f0119a393984387c",
     "grade": false,
     "grade_id": "q4d",
     "locked": true,
     "schema_version": 2,
     "solution": false
    }
   },
   "source": [
    "\n",
    "## Question 4d\n",
    "\n",
    "Are there any striking differences between these curves.  If someone told you that Trump tends to tweet early in the morning and then later in the evening, which device might you conclude is most likely his?"
   ]
  },
  {
   "cell_type": "markdown",
   "metadata": {
    "deletable": false,
    "nbgrader": {
     "cell_type": "markdown",
     "checksum": "dd2a71cbda4d42eaf1a86490a723f4ea",
     "grade": true,
     "grade_id": "q4d-answer",
     "locked": false,
     "points": 1,
     "schema_version": 2,
     "solution": true
    },
    "tags": [
     "student",
     "written"
    ]
   },
   "source": [
    "One thing that immediately stands out is the heavy use of android in the early hours of the day.  While there is increased use of the iphone as well, the android is dominant early on but fades throughout the day.  If the tweet were in the early morning I would guess it were coming from the android device and at any other time of the day I would predict it would be coming from the iphone.  Based on what I know about Trump's tweets, I would say that the android device is his personal given the marked increase in morning tweets."
   ]
  },
  {
   "cell_type": "markdown",
   "metadata": {
    "deletable": false,
    "editable": false,
    "nbgrader": {
     "cell_type": "markdown",
     "checksum": "a59afe12404b1f0811e16801674c53cf",
     "grade": false,
     "grade_id": "q5",
     "locked": true,
     "schema_version": 2,
     "solution": false
    }
   },
   "source": [
    "## Question 5\n",
    "\n",
    "Let's now look at which device he has used over the entire time period of this dataset.\n",
    "\n",
    "To examine the distribution of dates we will convert the date to a fractional year that can be plotted as a distribution.\n",
    "\n",
    "(Code borrowed from https://stackoverflow.com/questions/6451655/python-how-to-convert-datetime-dates-to-decimal-years)"
   ]
  },
  {
   "cell_type": "code",
   "execution_count": 578,
   "metadata": {
    "deletable": false,
    "editable": false,
    "nbgrader": {
     "cell_type": "code",
     "checksum": "473e641d026c095c438d79d7aa94b2f2",
     "grade": false,
     "grade_id": "fractional-year",
     "locked": true,
     "schema_version": 2,
     "solution": false
    }
   },
   "outputs": [],
   "source": [
    "import datetime\n",
    "def year_fraction(date):\n",
    "    start = datetime.date(date.year, 1, 1).toordinal()\n",
    "    year_length = datetime.date(date.year+1, 1, 1).toordinal() - start\n",
    "    return date.year + float(date.toordinal() - start) / year_length\n",
    "\n",
    "\n",
    "trump['year'] = trump['time'].apply(year_fraction)"
   ]
  },
  {
   "cell_type": "markdown",
   "metadata": {
    "deletable": false,
    "editable": false,
    "nbgrader": {
     "cell_type": "markdown",
     "checksum": "64eb067a351f92005ef87b72f2298f8a",
     "grade": false,
     "grade_id": "q5a",
     "locked": true,
     "schema_version": 2,
     "solution": false
    }
   },
   "source": [
    "### Question 5a\n",
    "\n",
    "Use the `sns.distplot` to overlay the distributions of the 2 most frequently used web technologies over the years.  Your final plot should look like:\n",
    "\n",
    "<img src=\"images/source_years.png\" width=\"600px\" />\n"
   ]
  },
  {
   "cell_type": "code",
   "execution_count": 579,
   "metadata": {
    "deletable": false,
    "nbgrader": {
     "cell_type": "code",
     "checksum": "1e4c5f933e6074bd85bb221f71bf9e9b",
     "grade": true,
     "grade_id": "q5a-answer",
     "locked": false,
     "points": 2,
     "schema_version": 2,
     "solution": true
    }
   },
   "outputs": [
    {
     "data": {
      "text/plain": [
       "<matplotlib.legend.Legend at 0x1a3e103ac8>"
      ]
     },
     "execution_count": 579,
     "metadata": {},
     "output_type": "execute_result"
    },
    {
     "data": {
      "image/png": "[encoded data removed]",
      "text/plain": [
       "<matplotlib.figure.Figure at 0x1a21593518>"
      ]
     },
     "metadata": {},
     "output_type": "display_data"
    }
   ],
   "source": [
    "sns.distplot(trump[trump['source'] == \"Twitter for iPhone\"]['year'], label = \"Twitter for iPhone\")\n",
    "sns.distplot(trump[trump['source'] == \"Twitter for Android\"]['year'], label = \"Twitter for Android\")\n",
    "plt.legend()\n",
    "#raise NotImplementedError()"
   ]
  },
  {
   "cell_type": "markdown",
   "metadata": {
    "deletable": false,
    "editable": false,
    "nbgrader": {
     "cell_type": "markdown",
     "checksum": "59c4beefb2256bd16dbd81c30cd07046",
     "grade": false,
     "grade_id": "q5b",
     "locked": true,
     "schema_version": 2,
     "solution": false
    }
   },
   "source": [
    "### Question 5b\n",
    "According to the plot, Trump's tweets come from many different sources. It turns out that many of his tweets were not from Trump himself but from his staff. [Take a look at this Verge article.](https://www.theverge.com/2017/3/29/15103504/donald-trump-iphone-using-switched-android)\n",
    "\n",
    "Does the data support the information in the article? What else do you find out about changes in Trump's tweets sources from the plot?"
   ]
  },
  {
   "cell_type": "markdown",
   "metadata": {
    "deletable": false,
    "nbgrader": {
     "cell_type": "markdown",
     "checksum": "082503c0b5857367ca42491826837448",
     "grade": true,
     "grade_id": "q5b-answer",
     "locked": false,
     "points": 1,
     "schema_version": 2,
     "solution": true
    },
    "tags": [
     "student",
     "written"
    ]
   },
   "source": [
    "Given the absence of tweets from what would appear to be Trump's unsecured android device and the increase tweets from an iphone at the beginning of his presidency, the data does back what the article talked about.  One thing that's interesting is that Trump slowed down his personal tweeting as he moved closer to election day, allowing for what was certainly more moderate tweets or less controversial tweets from his staff.  Then after the election was over, we can see tweets from Trump's android device spike once again before switching to the iphone full time."
   ]
  },
  {
   "cell_type": "markdown",
   "metadata": {
    "deletable": false,
    "editable": false,
    "nbgrader": {
     "cell_type": "markdown",
     "checksum": "9160f63c38f2638e31ad51b3260bef67",
     "grade": false,
     "grade_id": "q6-header",
     "locked": true,
     "schema_version": 2,
     "solution": false
    }
   },
   "source": [
    "## Question 6: Sentiment Analysis\n",
    "\n",
    "It turns out that we can use the words in Trump's tweets to calculate a measure of the sentiment of the tweet. For example, the sentence \"I love America!\" has positive sentiment, whereas the sentence \"I hate taxes!\" has a negative sentiment. In addition, some words have stronger positive / negative sentiment than others: \"I love America.\" is more positive than \"I like America.\"\n",
    "\n",
    "We will use the [VADER (Valence Aware Dictionary and sEntiment Reasoner)](https://github.com/cjhutto/vaderSentiment) lexicon to analyze the sentiment of Trump's tweets. VADER is a lexicon and rule-based sentiment analysis tool that is specifically attuned to sentiments expressed in social media which is great for our usage.\n",
    "\n",
    "The VADER lexicon gives the sentiment of individual words. Run the following cell to show the first few rows of the lexicon:"
   ]
  },
  {
   "cell_type": "code",
   "execution_count": 580,
   "metadata": {
    "deletable": false,
    "editable": false,
    "nbgrader": {
     "cell_type": "code",
     "checksum": "4bdf61c45c5bf6f12052419af685d59e",
     "grade": false,
     "grade_id": "head-vader",
     "locked": true,
     "schema_version": 2,
     "solution": false
    }
   },
   "outputs": [
    {
     "name": "stdout",
     "output_type": "stream",
     "text": [
      "$:\t-1.5\t0.80623\t[-1, -1, -1, -1, -3, -1, -3, -1, -2, -1]\n",
      "%)\t-0.4\t1.0198\t[-1, 0, -1, 0, 0, -2, -1, 2, -1, 0]\n",
      "%-)\t-1.5\t1.43178\t[-2, 0, -2, -2, -1, 2, -2, -3, -2, -3]\n",
      "&-:\t-0.4\t1.42829\t[-3, -1, 0, 0, -1, -1, -1, 2, -1, 2]\n",
      "&:\t-0.7\t0.64031\t[0, -1, -1, -1, 1, -1, -1, -1, -1, -1]\n",
      "( '}{' )\t1.6\t0.66332\t[1, 2, 2, 1, 1, 2, 2, 1, 3, 1]\n",
      "(%\t-0.9\t0.9434\t[0, 0, 1, -1, -1, -1, -2, -2, -1, -2]\n",
      "('-:\t2.2\t1.16619\t[4, 1, 4, 3, 1, 2, 3, 1, 2, 1]\n",
      "(':\t2.3\t0.9\t[1, 3, 3, 2, 2, 4, 2, 3, 1, 2]\n",
      "((-:\t2.1\t0.53852\t[2, 2, 2, 1, 2, 3, 2, 2, 3, 2]\n",
      "\n"
     ]
    }
   ],
   "source": [
    "print(''.join(open(\"vader_lexicon.txt\").readlines()[:10]))"
   ]
  },
  {
   "cell_type": "markdown",
   "metadata": {
    "deletable": false,
    "editable": false,
    "nbgrader": {
     "cell_type": "markdown",
     "checksum": "631d386141906603b7febb8ce0901638",
     "grade": false,
     "grade_id": "q6a-header",
     "locked": true,
     "schema_version": 2,
     "solution": false
    }
   },
   "source": [
    "## Question 6a\n",
    "\n",
    "As you can see, the lexicon contains emojis too! The first column of the lexicon is the *token*, or the word itself. The second column is the *polarity* of the word, or how positive / negative it is.\n",
    "\n",
    "(How did they decide the polarities of these words? What are the other two columns in the lexicon? See the link above.)\n",
    "\n",
    " Read in the lexicon into a DataFrame called `sent`. The index of the DF should be the tokens in the lexicon. `sent` should have one column: `polarity`: The polarity of each token."
   ]
  },
  {
   "cell_type": "code",
   "execution_count": 581,
   "metadata": {
    "deletable": false,
    "nbgrader": {
     "cell_type": "code",
     "checksum": "962759aad285ccfb16f06dc8dd86035c",
     "grade": false,
     "grade_id": "q6a1",
     "locked": false,
     "schema_version": 2,
     "solution": true
    },
    "tags": [
     "student"
    ]
   },
   "outputs": [],
   "source": [
    "sent = pd.read_table(\"vader_lexicon.txt\", names = [\"word\", \"polarity\", \"blah\", \"bleh\"])\n",
    "sent.set_index(\"word\", inplace = True)\n",
    "sent = sent[[\"polarity\"]]\n",
    "\n",
    "# YOUR CODE HERE\n",
    "#raise NotImplementedError()"
   ]
  },
  {
   "cell_type": "code",
   "execution_count": 582,
   "metadata": {
    "deletable": false,
    "editable": false,
    "nbgrader": {
     "cell_type": "code",
     "checksum": "417f93b4eb89b4206d6b77725b72e56a",
     "grade": true,
     "grade_id": "q6a-test1",
     "locked": true,
     "points": 1,
     "schema_version": 2,
     "solution": false
    },
    "tags": [
     "test",
     "q05a"
    ]
   },
   "outputs": [],
   "source": [
    "assert isinstance(sent, pd.DataFrame)\n",
    "assert sent.shape == (7517, 1)\n",
    "assert list(sent.index[5000:5005]) == ['paranoids', 'pardon', 'pardoned', 'pardoning', 'pardons']\n",
    "assert np.allclose(sent['polarity'].head(), [-1.5, -0.4, -1.5, -0.4, -0.7])"
   ]
  },
  {
   "cell_type": "markdown",
   "metadata": {
    "deletable": false,
    "editable": false,
    "nbgrader": {
     "cell_type": "markdown",
     "checksum": "53a09bb6ee188a572ee0c8501087ac9c",
     "grade": false,
     "grade_id": "q6b-header",
     "locked": true,
     "schema_version": 2,
     "solution": false
    }
   },
   "source": [
    "## Question 6b\n",
    "\n",
    "Now, let's use this lexicon to calculate the overall sentiment for each of Trump's tweets. Here's the basic idea:\n",
    "\n",
    "1. For each tweet, find the sentiment of each word.\n",
    "2. Calculate the sentiment of each tweet by taking the sum of the sentiments of its words.\n",
    "\n",
    "First, let's lowercase the text in the tweets since the lexicon is also lowercase. Set the `text` column of the `trump` DF to be the lowercased text of each tweet."
   ]
  },
  {
   "cell_type": "code",
   "execution_count": 583,
   "metadata": {
    "deletable": false,
    "nbgrader": {
     "cell_type": "code",
     "checksum": "a8bb2469a666ad8f1388abb6ad808881",
     "grade": false,
     "grade_id": "q6b-answer",
     "locked": false,
     "schema_version": 2,
     "solution": true
    },
    "tags": [
     "student"
    ]
   },
   "outputs": [],
   "source": [
    "# set all tweets in text column to be lowercase\n",
    "trump['text'] = trump['text'].str.lower()\n",
    "#raise NotImplementedError()"
   ]
  },
  {
   "cell_type": "code",
   "execution_count": 584,
   "metadata": {
    "deletable": false,
    "editable": false,
    "nbgrader": {
     "cell_type": "code",
     "checksum": "13de085e42b82bf985f60f6489ed6946",
     "grade": true,
     "grade_id": "q6b-test",
     "locked": true,
     "points": 1,
     "schema_version": 2,
     "solution": false
    },
    "tags": [
     "test",
     "q05b"
    ]
   },
   "outputs": [],
   "source": [
    "assert trump['text'].loc[884740553040175104] == 'working hard to get the olympics for the united states (l.a.). stay tuned!'"
   ]
  },
  {
   "cell_type": "markdown",
   "metadata": {
    "deletable": false,
    "editable": false,
    "nbgrader": {
     "cell_type": "markdown",
     "checksum": "b985c716dee1121b3764f29e1648fe14",
     "grade": false,
     "grade_id": "q6c-header",
     "locked": true,
     "schema_version": 2,
     "solution": false
    }
   },
   "source": [
    "## Question 6c\n",
    "\n",
    "Now, let's get rid of punctuation since it'll cause us to fail to match words. Create a new column called `no_punc` in the `trump` DF to be the lowercased text of each tweet with all punctuation replaced by a single space. We consider punctuation characters to be any character that isn't a Unicode word character or a whitespace character. You may want to consult the Python documentation on regexes for this problem.\n",
    "\n",
    "(Why don't we simply remove punctuation instead of replacing with a space? See if you can figure this out by looking at the tweet data.)"
   ]
  },
  {
   "cell_type": "code",
   "execution_count": 585,
   "metadata": {
    "deletable": false,
    "nbgrader": {
     "cell_type": "code",
     "checksum": "2901325706be092abb437c239e7d3d83",
     "grade": false,
     "grade_id": "q6c",
     "locked": false,
     "schema_version": 2,
     "solution": true
    },
    "tags": [
     "student"
    ]
   },
   "outputs": [],
   "source": [
    "# Save your regex in punct_re\n",
    "punct_re = r'[^\\w\\s]'\n",
    "trump['no_punc'] = trump['text'].str.replace(punct_re,' ')\n",
    "\n",
    "# YOUR CODE HERE\n",
    "#raise NotImplementedError()"
   ]
  },
  {
   "cell_type": "code",
   "execution_count": 586,
   "metadata": {
    "deletable": false,
    "editable": false,
    "nbgrader": {
     "cell_type": "code",
     "checksum": "acba51f5c1ed85ceafe923184be4be33",
     "grade": true,
     "grade_id": "q6c-test",
     "locked": true,
     "points": 1,
     "schema_version": 2,
     "solution": false
    },
    "tags": [
     "test",
     "q05c"
    ]
   },
   "outputs": [],
   "source": [
    "assert isinstance(punct_re, str)\n",
    "assert re.search(punct_re, 'this') is None\n",
    "assert re.search(punct_re, 'this is ok') is None\n",
    "assert re.search(punct_re, 'this is\\nok') is None\n",
    "assert re.search(punct_re, 'this is not ok.') is not None\n",
    "assert re.search(punct_re, 'this#is#ok') is not None\n",
    "assert re.search(punct_re, 'this^is ok') is not None\n",
    "assert trump['no_punc'].loc[800329364986626048] == 'i watched parts of  nbcsnl saturday night live last night  it is a totally one sided  biased show   nothing funny at all  equal time for us '\n",
    "assert trump['no_punc'].loc[894620077634592769] == 'on  purpleheartday i thank all the brave men and women who have sacrificed in battle for this great nation   usa   https   t co qmfdlslp6p'\n",
    "# If you fail these tests, you accidentally changed the text column\n",
    "assert trump['text'].loc[884740553040175104] == 'working hard to get the olympics for the united states (l.a.). stay tuned!'"
   ]
  },
  {
   "cell_type": "markdown",
   "metadata": {
    "deletable": false,
    "editable": false,
    "nbgrader": {
     "cell_type": "markdown",
     "checksum": "70d1187aee0930362e42d7b497ee5710",
     "grade": false,
     "grade_id": "q6d-header",
     "locked": true,
     "schema_version": 2,
     "solution": false
    }
   },
   "source": [
    "## Question 6d:\n",
    "\n",
    "\n",
    "Now, let's convert the tweets into what's called a [*tidy format*](https://cran.r-project.org/web/packages/tidyr/vignettes/tidy-data.html) to make the sentiments easier to calculate. Use the `no_punc` column of `trump` to create a table called `tidy_format`. The index of the table should be the IDs of the tweets, repeated once for every word in the tweet. It has two columns:\n",
    "\n",
    "1. `num`: The location of the word in the tweet. For example, if the tweet was \"i love america\", then the location of the word \"i\" is 0, \"love\" is 1, and \"america\" is 2.\n",
    "2. `word`: The individual words of each tweet.\n",
    "\n",
    "The first few rows of our `tidy_format` table look like:\n",
    "\n",
    "<table border=\"1\" class=\"dataframe\">\n",
    "  <thead>\n",
    "    <tr style=\"text-align: right;\">\n",
    "      <th></th>\n",
    "      <th>num</th>\n",
    "      <th>word</th>\n",
    "    </tr>\n",
    "  </thead>\n",
    "  <tbody>\n",
    "    <tr>\n",
    "      <th>894661651760377856</th>\n",
    "      <td>0</td>\n",
    "      <td>i</td>\n",
    "    </tr>\n",
    "    <tr>\n",
    "      <th>894661651760377856</th>\n",
    "      <td>1</td>\n",
    "      <td>think</td>\n",
    "    </tr>\n",
    "    <tr>\n",
    "      <th>894661651760377856</th>\n",
    "      <td>2</td>\n",
    "      <td>senator</td>\n",
    "    </tr>\n",
    "    <tr>\n",
    "      <th>894661651760377856</th>\n",
    "      <td>3</td>\n",
    "      <td>blumenthal</td>\n",
    "    </tr>\n",
    "    <tr>\n",
    "      <th>894661651760377856</th>\n",
    "      <td>4</td>\n",
    "      <td>should</td>\n",
    "    </tr>\n",
    "  </tbody>\n",
    "</table>\n",
    "\n",
    "**Note that you'll get different results depending on when you pulled in the tweets.** However, you can double check that your tweet with ID `894661651760377856` has the same rows as ours. Our tests don't check whether your table looks exactly like ours.\n",
    "\n",
    "This will require some rather advanced Pandas hacking, but our solution uses a chain of 5 methods on the `trump` DF.\n",
    "\n",
    "* **Hint 1:** Try looking at the `expand` argument to pandas' `str.split`.\n",
    "\n",
    "* **Hint 2:** Try looking at the `stack()` method.\n"
   ]
  },
  {
   "cell_type": "code",
   "execution_count": 587,
   "metadata": {
    "deletable": false,
    "nbgrader": {
     "cell_type": "code",
     "checksum": "71f93a81cbd4dd1b2ff47a6d65ef758e",
     "grade": false,
     "grade_id": "q6d-answer",
     "locked": false,
     "schema_version": 2,
     "solution": true
    },
    "tags": [
     "student"
    ]
   },
   "outputs": [],
   "source": [
    "tidy_format = pd.DataFrame(trump['no_punc'])\n",
    "tidy_format = trump['no_punc'].str.split(expand = True)\n",
    "tidy_format = pd.DataFrame(tidy_format.stack())\n",
    "tidy_format.reset_index(inplace = True)\n",
    "tidy_format.columns = ['id', 'num', 'word']\n",
    "tidy_format.set_index('id', inplace = True)\n",
    "\n",
    "# YOUR CODE HERE\n",
    "#raise NotImplementedError()"
   ]
  },
  {
   "cell_type": "code",
   "execution_count": 588,
   "metadata": {
    "deletable": false,
    "editable": false,
    "nbgrader": {
     "cell_type": "code",
     "checksum": "78b35d7cc8348ceb6ffbd17591dfd4f1",
     "grade": true,
     "grade_id": "q6d-tests",
     "locked": true,
     "points": 1,
     "schema_version": 2,
     "solution": false
    },
    "tags": [
     "test",
     "q05d"
    ]
   },
   "outputs": [],
   "source": [
    "assert tidy_format.loc[894661651760377856].shape == (27, 2)\n",
    "assert ' '.join(list(tidy_format.loc[894661651760377856]['word'])) == 'i think senator blumenthal should take a nice long vacation in vietnam where he lied about his service so he can at least say he was there'"
   ]
  },
  {
   "cell_type": "markdown",
   "metadata": {
    "deletable": false,
    "editable": false,
    "nbgrader": {
     "cell_type": "markdown",
     "checksum": "b170181366bfdd62b6d5df9e487479b3",
     "grade": false,
     "grade_id": "q6e-header",
     "locked": true,
     "schema_version": 2,
     "solution": false
    }
   },
   "source": [
    "## Question 6e:\n",
    "\n",
    "Now that we have this table in the tidy format, it becomes much easier to find the sentiment of each tweet: we can join the table with the lexicon table. \n",
    "\n",
    "Add a `polarity` column to the `trump` table.  The `polarity` column should contain the sum of the sentiment polarity of each word in the text of the tweet.\n",
    "\n",
    "**Hint** you will need to merge the `tidy_format` and `sent` tables and group the final answer.\n"
   ]
  },
  {
   "cell_type": "code",
   "execution_count": 589,
   "metadata": {
    "deletable": false,
    "nbgrader": {
     "cell_type": "code",
     "checksum": "5ad778cbb8a86c9255acac2d8799fa96",
     "grade": false,
     "grade_id": "q6e",
     "locked": false,
     "schema_version": 2,
     "solution": true
    },
    "tags": [
     "student"
    ]
   },
   "outputs": [],
   "source": [
    "merged = tidy_format.merge(sent, how = 'left', right_index = True, left_on = 'word')\n",
    "merged = merged[['polarity']]\n",
    "\n",
    "merged = merged.groupby(['id']).sum()\n",
    "\n",
    "trump['polarity'] = merged['polarity']\n",
    "\n",
    "#raise NotImplementedError()"
   ]
  },
  {
   "cell_type": "code",
   "execution_count": 590,
   "metadata": {
    "deletable": false,
    "editable": false,
    "nbgrader": {
     "cell_type": "code",
     "checksum": "ff43fac8ac5a95a2eef4bbb52405ad16",
     "grade": true,
     "grade_id": "q6e-tests",
     "locked": true,
     "points": 2,
     "schema_version": 2,
     "solution": false
    },
    "tags": [
     "test",
     "q05e"
    ]
   },
   "outputs": [],
   "source": [
    "assert np.allclose(trump.loc[744701872456536064, 'polarity'], 8.4)\n",
    "assert np.allclose(trump.loc[745304731346702336, 'polarity'], 2.5)\n",
    "assert np.allclose(trump.loc[744519497764184064, 'polarity'], 1.7)\n",
    "assert np.allclose(trump.loc[894661651760377856, 'polarity'], 0.2)\n",
    "assert np.allclose(trump.loc[894620077634592769, 'polarity'], 5.4)\n",
    "# If you fail this test, you dropped tweets with 0 polarity\n",
    "assert np.allclose(trump.loc[744355251365511169, 'polarity'], 0.0)"
   ]
  },
  {
   "cell_type": "markdown",
   "metadata": {
    "deletable": false,
    "editable": false,
    "nbgrader": {
     "cell_type": "markdown",
     "checksum": "1d52c721610f2c6a5e4862a1866e5abc",
     "grade": false,
     "grade_id": "a-note-on-vader",
     "locked": true,
     "schema_version": 2,
     "solution": false
    }
   },
   "source": [
    "Now we have a measure of the sentiment of each of his tweets! Note that this calculation is rather basic; you can read over the VADER readme to understand a more robust sentiment analysis.\n",
    "\n",
    "Now, run the cells below to see the most positive and most negative tweets from Trump in your dataset:"
   ]
  },
  {
   "cell_type": "code",
   "execution_count": 591,
   "metadata": {
    "deletable": false,
    "editable": false,
    "nbgrader": {
     "cell_type": "code",
     "checksum": "3ea0c421557a05c5a03c51515a5fdc78",
     "grade": false,
     "grade_id": "negative-tweets",
     "locked": true,
     "schema_version": 2,
     "solution": false
    }
   },
   "outputs": [
    {
     "name": "stdout",
     "output_type": "stream",
     "text": [
      "Most negative tweets:\n",
      "\n",
      "   horrible and cowardly terrorist attack on innocent and defenseless worshipers in egypt. the world cannot tolerate terrorism, we must defeat them militarily and discredit the extremist ideology that forms the basis of their existence!\n",
      "\n",
      "   \"@fiiibuster: @jeffzeleny pathetic - you have no sufficient evidence that donald trump did not suffer from voter fraud, shame! bad reporter.\n",
      "\n",
      "   democrat jon ossoff would be a disaster in congress. very weak on crime and illegal immigration, bad for jobs and wants higher taxes. say no\n",
      "\n",
      "   nyc terrorist was happy as he asked to hang isis flag in his hospital room. he killed 8 people, badly injured 12. should get death penalty!\n",
      "\n",
      "   yet another terrorist attack today in israel -- a father, shot at by a palestinian terrorist, was killed while:\n",
      "https://t.co/cv1hzkvbit\n"
     ]
    }
   ],
   "source": [
    "print('Most negative tweets:')\n",
    "for t in trump.sort_values('polarity').head()['text']:\n",
    "    print('\\n  ', t)"
   ]
  },
  {
   "cell_type": "code",
   "execution_count": 592,
   "metadata": {
    "deletable": false,
    "editable": false,
    "nbgrader": {
     "cell_type": "code",
     "checksum": "e0d27a82de94a1ce5cf64a2c72ffb7aa",
     "grade": false,
     "grade_id": "postive-tweets",
     "locked": true,
     "schema_version": 2,
     "solution": false
    }
   },
   "outputs": [
    {
     "name": "stdout",
     "output_type": "stream",
     "text": [
      "Most positive tweets:\n",
      "\n",
      "   thank you to linda bean of l.l.bean for your great support and courage. people will support you even more now. buy l.l.bean. @lbperfectmaine\n",
      "\n",
      "   it was my great honor to celebrate the opening of two extraordinary museums-the mississippi state history museum &amp; the mississippi civil rights museum. we pay solemn tribute to our heroes of the past &amp; dedicate ourselves to building a future of freedom, equality, justice &amp; peace. https://t.co/5akgvpv8aa\n",
      "\n",
      "   rt @ivankatrump: 2016 has been one of the most eventful and exciting years of my life. i wish you peace, joy, love and laughter. happy new…\n",
      "\n",
      "   today, it was my great honor to sign a new executive order to ensure veterans have the resources they need as they transition back to civilian life. we must ensure that our heroes are given the care and support they so richly deserve! https://t.co/0mdp9ddias https://t.co/lp2a8kcbap\n",
      "\n",
      "   it was my great honor to welcome mayor’s from across america to the wh. my administration will always support local government - and listen to the leaders who know their communities best. together, we will usher in a bold new era of peace and prosperity! https://t.co/dmyectnk0a https://t.co/rsv7v7r0dt\n"
     ]
    }
   ],
   "source": [
    "print('Most positive tweets:')\n",
    "for t in trump.sort_values('polarity', ascending=False).head()['text']:\n",
    "    print('\\n  ', t)"
   ]
  },
  {
   "cell_type": "markdown",
   "metadata": {
    "deletable": false,
    "editable": false,
    "nbgrader": {
     "cell_type": "markdown",
     "checksum": "0f2ca7db78e7689cdd731e11c9dcffb9",
     "grade": false,
     "grade_id": "q6g",
     "locked": true,
     "schema_version": 2,
     "solution": false
    }
   },
   "source": [
    "## Question 6g\n",
    "\n",
    "Plot the distribution of tweet sentiments broken down by whether the text of the tweet contains `nyt` or `fox`.  Then in the box below comment on what we observe?"
   ]
  },
  {
   "cell_type": "code",
   "execution_count": 593,
   "metadata": {
    "deletable": false,
    "nbgrader": {
     "cell_type": "code",
     "checksum": "4eb3b83e9188000a1a52427c06ea3c62",
     "grade": true,
     "grade_id": "q6g-answer",
     "locked": false,
     "points": 1,
     "schema_version": 2,
     "solution": true
    },
    "tags": [
     "student"
    ]
   },
   "outputs": [
    {
     "data": {
      "text/plain": [
       "Text(0,0.5,'fraction')"
      ]
     },
     "execution_count": 593,
     "metadata": {},
     "output_type": "execute_result"
    },
    {
     "data": {
      "image/png": "[encoded data removed]",
      "text/plain": [
       "<matplotlib.figure.Figure at 0x1a3cec91d0>"
      ]
     },
     "metadata": {},
     "output_type": "display_data"
    }
   ],
   "source": [
    "# YOUR CODE HERE\n",
    "sns.distplot(trump[trump['no_punc'].str.contains('nyt')]['polarity'], label = \"Contains nyt\")\n",
    "sns.distplot(trump[trump['no_punc'].str.contains('fox')]['polarity'], label = \"Contains fox\")\n",
    "plt.legend()\n",
    "plt.ylabel('fraction')\n",
    "#raise NotImplementedError()"
   ]
  },
  {
   "cell_type": "markdown",
   "metadata": {
    "deletable": false,
    "editable": false,
    "nbgrader": {
     "cell_type": "markdown",
     "checksum": "88e3a81cb1d24df731e4d72d10f08d9f",
     "grade": false,
     "grade_id": "comment-on-faux-news",
     "locked": true,
     "schema_version": 2,
     "solution": false
    }
   },
   "source": [
    "#### Comment on what you observe:"
   ]
  },
  {
   "cell_type": "markdown",
   "metadata": {
    "deletable": false,
    "nbgrader": {
     "cell_type": "markdown",
     "checksum": "07f011cfd9a34c2b3314f2a3aa210187",
     "grade": true,
     "grade_id": "q6g-written",
     "locked": false,
     "points": 1,
     "schema_version": 2,
     "solution": true
    }
   },
   "source": [
    "We can see that Trump tweets that contain 'nyt' are generally more negative than those that contain 'fox'.  In reality this could be an even larger gap than what we observe here because of all the tweets that contain the word 'anything' are grouped in with the other tweets about the NY Times.  There is also overlap that comes with the tweets that both mention the nytimes and fox.  The distribution of fox tweets is highly concentrated with two significant peaks around polarity = 0 and polarity = ~2.5.  The dist of nyt tweets is more spread but with the majority sitting below 0."
   ]
  },
  {
   "cell_type": "markdown",
   "metadata": {
    "deletable": false,
    "editable": false,
    "nbgrader": {
     "cell_type": "markdown",
     "checksum": "9fd71e88bb7adb7f72069aae6032647d",
     "grade": false,
     "grade_id": "q7-header",
     "locked": true,
     "schema_version": 2,
     "solution": false
    }
   },
   "source": [
    "## Question 7: Engagement\n",
    "\n",
    "## Question 7a\n",
    "\n",
    "Which of Trump's tweets had the most retweets? Were there certain words that often led to more retweets?\n",
    "\n",
    "We can find this out by using our `tidy_format` DataFrame. For each word in the `tidy_format` DF, find out the number of retweets that its tweet got. Filter out words that didn't appear in at least 25 tweets, find out the median number of retweets each word got, and save the top 20 most retweeted words into a DataFrame called `top_20`. Your `top_20` table should have this format:\n",
    "\n",
    "<table border=\"1\" class=\"dataframe\">\n",
    "  <thead>\n",
    "    <tr style=\"text-align: right;\">\n",
    "      <th></th>\n",
    "      <th>retweet_count</th>\n",
    "    </tr>\n",
    "    <tr>\n",
    "      <th>word</th>\n",
    "      <th></th>\n",
    "    </tr>\n",
    "  </thead>\n",
    "  <tbody>\n",
    "    <tr>\n",
    "      <th>fake</th>\n",
    "      <td>22963.0</td>\n",
    "    </tr>\n",
    "    <tr>\n",
    "      <th>news</th>\n",
    "      <td>20463.0</td>\n",
    "    </tr>\n",
    "    <tr>\n",
    "      <th>ds100</th>\n",
    "      <td>20432.0</td>\n",
    "    </tr>\n",
    "    <tr>\n",
    "      <th>great</th>\n",
    "      <td>20159.0</td>\n",
    "    </tr>\n",
    "    <tr>\n",
    "      <th>class</th>\n",
    "      <td>20121.0</td>\n",
    "    </tr>\n",
    "  </tbody>\n",
    "</table>"
   ]
  },
  {
   "cell_type": "code",
   "execution_count": 594,
   "metadata": {},
   "outputs": [
    {
     "data": {
      "text/html": [
       "<div>\n",
       "<style scoped>\n",
       "    .dataframe tbody tr th:only-of-type {\n",
       "        vertical-align: middle;\n",
       "    }\n",
       "\n",
       "    .dataframe tbody tr th {\n",
       "        vertical-align: top;\n",
       "    }\n",
       "\n",
       "    .dataframe thead th {\n",
       "        text-align: right;\n",
       "    }\n",
       "</style>\n",
       "<table border=\"1\" class=\"dataframe\">\n",
       "  <thead>\n",
       "    <tr style=\"text-align: right;\">\n",
       "      <th></th>\n",
       "      <th>num</th>\n",
       "      <th>word</th>\n",
       "    </tr>\n",
       "    <tr>\n",
       "      <th>id</th>\n",
       "      <th></th>\n",
       "      <th></th>\n",
       "    </tr>\n",
       "  </thead>\n",
       "  <tbody>\n",
       "    <tr>\n",
       "      <th>966766375292358659</th>\n",
       "      <td>0</td>\n",
       "      <td>today</td>\n",
       "    </tr>\n",
       "    <tr>\n",
       "      <th>966766375292358659</th>\n",
       "      <td>1</td>\n",
       "      <td>it</td>\n",
       "    </tr>\n",
       "    <tr>\n",
       "      <th>966766375292358659</th>\n",
       "      <td>2</td>\n",
       "      <td>was</td>\n",
       "    </tr>\n",
       "    <tr>\n",
       "      <th>966766375292358659</th>\n",
       "      <td>3</td>\n",
       "      <td>my</td>\n",
       "    </tr>\n",
       "    <tr>\n",
       "      <th>966766375292358659</th>\n",
       "      <td>4</td>\n",
       "      <td>great</td>\n",
       "    </tr>\n",
       "  </tbody>\n",
       "</table>\n",
       "</div>"
      ],
      "text/plain": [
       "                    num   word\n",
       "id                            \n",
       "966766375292358659    0  today\n",
       "966766375292358659    1     it\n",
       "966766375292358659    2    was\n",
       "966766375292358659    3     my\n",
       "966766375292358659    4  great"
      ]
     },
     "execution_count": 594,
     "metadata": {},
     "output_type": "execute_result"
    }
   ],
   "source": [
    "tidy_format.head()"
   ]
  },
  {
   "cell_type": "code",
   "execution_count": 595,
   "metadata": {
    "deletable": false,
    "nbgrader": {
     "cell_type": "code",
     "checksum": "fd0b39f47c0462c1c6da4a8c31df384c",
     "grade": false,
     "grade_id": "q7a",
     "locked": false,
     "schema_version": 2,
     "solution": true
    },
    "tags": [
     "student"
    ]
   },
   "outputs": [],
   "source": [
    "# add retweet count to tidy_format instead of adding adding tidy_format to trump\n",
    "tidy_format['retweet_count'] = trump['retweet_count']\n",
    "\n",
    "# get counts of word occurrences \n",
    "counts = tidy_format['word'].value_counts()\n",
    "\n",
    "# create data frame grouped by word with median RT count\n",
    "worded = pd.DataFrame(tidy_format.groupby('word')['retweet_count'].median())\n",
    "worded['counts'] = counts\n",
    "\n",
    "#top 20 list (with counts attached, need to remove counts)\n",
    "top_20 = worded[worded['counts'] > 25].sort_values(['retweet_count'], ascending = False).head(20)\n",
    "top_20 = top_20.drop(['counts'], axis = 1)\n",
    "\n",
    "#raise NotImplementedError()"
   ]
  },
  {
   "cell_type": "code",
   "execution_count": 596,
   "metadata": {
    "deletable": false,
    "editable": false,
    "nbgrader": {
     "cell_type": "code",
     "checksum": "cdede715af02f26ce48b6334a5c7dea7",
     "grade": true,
     "grade_id": "q7a-test",
     "locked": true,
     "points": 1,
     "schema_version": 2,
     "solution": false
    },
    "tags": [
     "test",
     "q07a"
    ]
   },
   "outputs": [],
   "source": [
    "#### NOTE This Test is kind of iffy (very variable) - needs review before publishing\n",
    "\n",
    "# Although it can't be guaranteed, it's very likely that the top 7 words will still be\n",
    "# in the top 20 words in the next month.\n",
    "assert 'daca'     in top_20.index\n",
    "assert 'nfl'     in top_20.index\n",
    "assert 'anthem' in top_20.index\n",
    "assert 'fbi'    in top_20.index\n",
    "assert 'russia'    in top_20.index\n"
   ]
  },
  {
   "cell_type": "markdown",
   "metadata": {
    "deletable": false,
    "editable": false,
    "nbgrader": {
     "cell_type": "markdown",
     "checksum": "a4a12be8f88ac931b51b85a1ffa5cfde",
     "grade": false,
     "grade_id": "bar-chart-results",
     "locked": true,
     "schema_version": 2,
     "solution": false
    }
   },
   "source": [
    "Here's a bar chart of your results:"
   ]
  },
  {
   "cell_type": "code",
   "execution_count": 597,
   "metadata": {
    "deletable": false,
    "editable": false,
    "nbgrader": {
     "cell_type": "code",
     "checksum": "4a962cdd19dad39e5f8aa5fe2ff096e4",
     "grade": false,
     "grade_id": "top-retweets",
     "locked": true,
     "schema_version": 2,
     "solution": false
    }
   },
   "outputs": [
    {
     "data": {
      "image/png": "[encoded data removed]",
      "text/plain": [
       "<matplotlib.figure.Figure at 0x1a4140ac50>"
      ]
     },
     "metadata": {},
     "output_type": "display_data"
    }
   ],
   "source": [
    "top_20['retweet_count'].sort_values().plot.barh(figsize=(10, 8));"
   ]
  },
  {
   "cell_type": "markdown",
   "metadata": {
    "deletable": false,
    "editable": false,
    "nbgrader": {
     "cell_type": "markdown",
     "checksum": "80fdb9c61b546b8a813a3ba015947106",
     "grade": false,
     "grade_id": "q7b",
     "locked": true,
     "schema_version": 2,
     "solution": false
    }
   },
   "source": [
    "## Question 7b\n",
    "\n",
    "The phrase \"fake news\" is apparently really popular! We can conclude that Trump's tweets containing \"fake\" and/or \"news\" result in the most retweets relative to words his other tweets. Or can we?\n",
    "\n",
    "Consider each of the statements about possible confounding factors below. State whether each statement is true or false and explain. If the statement is true, state whether the confounding factor could have made \"fake\" and/or \"news\" higher on our list than they should be.\n",
    "\n",
    "1. We didn't restrict our word list to nouns, so we have unhelpful words like \"let\" and \"any\" in our result.\n",
    "1. We didn't remove hashtags in our text, so we have duplicate words (eg. #great and great).\n",
    "1. We didn't account for the fact that Trump's follower count has increased over time."
   ]
  },
  {
   "cell_type": "markdown",
   "metadata": {
    "deletable": false,
    "nbgrader": {
     "cell_type": "markdown",
     "checksum": "577b78199cd4361dd51b92774e09beb0",
     "grade": true,
     "grade_id": "q7b-answer",
     "locked": false,
     "points": 1,
     "schema_version": 2,
     "solution": true
    },
    "tags": [
     "student",
     "written"
    ]
   },
   "source": [
    "1. False, the 'unhelpful' words are still contained but they're so common that they won't show up as some of the more retweeted tweets.  Since they're so common they won't see a high median value but they won't necessarily see a low value either.\n",
    "2. False, we did remove the hashtags in our text so the hashtagged words come up as regular words.  There are likely hashtags that are largely unrelated to the tweet but they still come up as regular words nonetheless and not with a '#' in front of them.\n",
    "3.  True, we looked at Trump's usage of his android and iphone devices over time but we never took into account his number of followers.  Certainly he'll see more retweets and traffic in general since he has become president and also since he emerged into the 2016 campaign.  As a result we won't see topics outside of Trump's major time in politics the past year or so.  Directly as a result of this entrance into the political sphere we see and expect to see a drastic increase in 'fake' and 'news' on this list.  "
   ]
  },
  {
   "cell_type": "markdown",
   "metadata": {
    "deletable": false,
    "editable": false,
    "nbgrader": {
     "cell_type": "markdown",
     "checksum": "ba7fba396f9b97171983b6b3b2f774e2",
     "grade": false,
     "grade_id": "q8",
     "locked": true,
     "schema_version": 2,
     "solution": false
    }
   },
   "source": [
    "## Question 8\n",
    "\n",
    "Using the `trump` tweets construct an interesting plot describing a property of the data and discuss what you found below.\n",
    "\n",
    "**Ideas:**\n",
    "\n",
    "1. How has the sentiment changed with length of the tweets?\n",
    "1. Does sentiment affect retweet count?\n",
    "1. Are retweets more negative than regular tweets?\n",
    "1. Are there any spikes in the number of retweets and do the correspond to world events? \n",
    "1. *Bonus:* How many Russian twitter bots follow Trump? \n",
    "\n",
    "You can look at other data sources and even tweets.\n"
   ]
  },
  {
   "cell_type": "markdown",
   "metadata": {
    "deletable": false,
    "editable": false,
    "nbgrader": {
     "cell_type": "markdown",
     "checksum": "9742f4a99a0e60845ad7dcc60d774fd7",
     "grade": false,
     "grade_id": "plot8-q",
     "locked": true,
     "schema_version": 2,
     "solution": false
    }
   },
   "source": [
    "### Plot:"
   ]
  },
  {
   "cell_type": "code",
   "execution_count": 598,
   "metadata": {
    "deletable": false,
    "nbgrader": {
     "cell_type": "code",
     "checksum": "1f84a32506abaa59849e1923f60afb03",
     "grade": true,
     "grade_id": "q8-plot",
     "locked": false,
     "points": 2,
     "schema_version": 2,
     "solution": true
    }
   },
   "outputs": [
    {
     "data": {
      "text/plain": [
       "<matplotlib.collections.PathCollection at 0x1a3d1437b8>"
      ]
     },
     "execution_count": 598,
     "metadata": {},
     "output_type": "execute_result"
    },
    {
     "data": {
      "image/png": "[encoded data removed]",
      "text/plain": [
       "<matplotlib.figure.Figure at 0x1a3362cf28>"
      ]
     },
     "metadata": {},
     "output_type": "display_data"
    }
   ],
   "source": [
    "# look at sentiment and retweet_count\n",
    "#some retweet counts are incredibly high, create a smaller set, and in the past two years\n",
    "sub = trump[(trump['retweet_count'] < 100000) & (trump['year'] >= 2016)]\n",
    "\n",
    "# plot\n",
    "plt.scatter(sub['retweet_count'], sub['polarity'], alpha = 0.8)\n",
    "\n",
    "#raise NotImplementedError()"
   ]
  },
  {
   "cell_type": "markdown",
   "metadata": {
    "deletable": false,
    "editable": false,
    "nbgrader": {
     "cell_type": "markdown",
     "checksum": "a1fdd71a7455526fe4614bc7eba388f5",
     "grade": false,
     "grade_id": "disc8-q",
     "locked": true,
     "schema_version": 2,
     "solution": false
    }
   },
   "source": [
    "### Discussion:"
   ]
  },
  {
   "cell_type": "markdown",
   "metadata": {
    "deletable": false,
    "nbgrader": {
     "cell_type": "markdown",
     "checksum": "36550141bfc678e4ad08057239781458",
     "grade": true,
     "grade_id": "q8-disc",
     "locked": false,
     "points": 1,
     "schema_version": 2,
     "solution": true
    }
   },
   "source": [
    "Even when filtering down from the outlier high retweet points, we still see a distribution that is pretty random when it comes retweet count and polarity.  Even for these tweets in the past two years, there is no strong trend towards more positive tweets or (as we would probably expect) more negative tweets.  It may be a bias on my part, but from what I know about these tweets there does appear to be an overwhelming amount of negativity.  The system of assigning values to each word is a good idea but in future analysis it would interesting to assign values to particular word phrases or apply a valuation on some other part of the English language language that could give us a better understanding, maybe including some punctuation (e.g. !!!) that paints more of an angry connotation."
   ]
  },
  {
   "cell_type": "markdown",
   "metadata": {
    "deletable": false,
    "editable": false,
    "nbgrader": {
     "cell_type": "markdown",
     "checksum": "7cd0d0cd6110eba1fea6f1316c48f4a0",
     "grade": false,
     "grade_id": "submission",
     "locked": true,
     "schema_version": 2,
     "solution": false
    }
   },
   "source": [
    "## Submission\n",
    "\n",
    "Congrats, you just finished Project 1!"
   ]
  }
 ],
 "metadata": {
  "kernelspec": {
   "display_name": "Python 3",
   "language": "python",
   "name": "python3"
  },
  "language_info": {
   "codemirror_mode": {
    "name": "ipython",
    "version": 3
   },
   "file_extension": ".py",
   "mimetype": "text/x-python",
   "name": "python",
   "nbconvert_exporter": "python",
   "pygments_lexer": "ipython3",
   "version": "3.6.3"
  }
 },
 "nbformat": 4,
 "nbformat_minor": 2
}
