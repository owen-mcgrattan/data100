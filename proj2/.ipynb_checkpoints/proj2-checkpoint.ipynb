{
 "cells": [
  {
   "cell_type": "markdown",
   "metadata": {},
   "source": [
    "Before you turn this assignment in, make sure everything runs as expected. First, **restart the kernel** (in the menubar, select Kernel$\\rightarrow$Restart) and then **run all cells** (in the menubar, select Cell$\\rightarrow$Run All). Lastly, hit **Validate**.\n",
    "\n",
    "If you worked locally, and then uploaded your work to the hub, make sure to follow these steps:\n",
    "- open your uploaded notebook **on the hub**\n",
    "- hit the validate button right above this cell, from inside the notebook\n",
    "\n",
    "These  steps should solve any issue related to submitting the notebook on the hub.\n",
    "\n",
    "Make sure you fill in any place that says `YOUR CODE HERE` or \"YOUR ANSWER HERE\", as well as your name and collaborators below:"
   ]
  },
  {
   "cell_type": "code",
   "execution_count": 442,
   "metadata": {},
   "outputs": [],
   "source": [
    "NAME = \"Owen McGrattan\"\n",
    "COLLABORATORS = \"\""
   ]
  },
  {
   "cell_type": "markdown",
   "metadata": {},
   "source": [
    "---"
   ]
  },
  {
   "cell_type": "markdown",
   "metadata": {
    "deletable": false,
    "editable": false,
    "nbgrader": {
     "cell_type": "markdown",
     "checksum": "e9b95f0e3f952f2a69021b9e6257b0e0",
     "grade": false,
     "grade_id": "proj2",
     "locked": true,
     "schema_version": 2,
     "solution": false
    }
   },
   "source": [
    "# Project 2: Spam // Ham Prediction  \n",
    "\n",
    "## Due Date: 11:59pm Sunday, April 29\n",
    "\n",
    "In this project, you will use what you've learned in class to create a classifier that can distinguish spam (junk or commercial or bulk) emails from ham (non-spam) emails. In addition to providing some skeleton code to fill in, we will evaluate your work based on your model's accuracy and your written responses in this notebook.\n",
    "\n",
    "## Score breakdown\n",
    "\n",
    "Question | Points\n",
    "--- | ---\n",
    "Question 1 | 3\n",
    "Question 2 | 2\n",
    "Question 3a | 2\n",
    "Question 3b | 2\n",
    "Question 4 | 2\n",
    "Question 5 | 2\n",
    "Question 6 | 9\n",
    "Question 7 | 6\n",
    "Question 8 | 6\n",
    "Question 9 | 3\n",
    "Question 10 | 5\n",
    "Total | 42"
   ]
  },
  {
   "cell_type": "markdown",
   "metadata": {
    "deletable": false,
    "editable": false,
    "nbgrader": {
     "cell_type": "markdown",
     "checksum": "13d4b9efb57a66ecdde4f5c2e2bcc526",
     "grade": false,
     "grade_id": "p1",
     "locked": true,
     "schema_version": 2,
     "solution": false
    }
   },
   "source": [
    "# Part I - Initial Analysis"
   ]
  },
  {
   "cell_type": "code",
   "execution_count": 443,
   "metadata": {
    "deletable": false,
    "editable": false,
    "nbgrader": {
     "cell_type": "code",
     "checksum": "86334642abec944a9d6c8299e6ba5896",
     "grade": false,
     "grade_id": "imports",
     "locked": true,
     "schema_version": 2,
     "solution": false
    }
   },
   "outputs": [],
   "source": [
    "import numpy as np\n",
    "import pandas as pd\n",
    "\n",
    "import matplotlib.pyplot as plt\n",
    "%matplotlib inline\n",
    "\n",
    "import seaborn as sns\n",
    "sns.set(style = \"whitegrid\", \n",
    "        color_codes = True,\n",
    "        font_scale = 1.5)"
   ]
  },
  {
   "cell_type": "markdown",
   "metadata": {
    "deletable": false,
    "editable": false,
    "nbgrader": {
     "cell_type": "markdown",
     "checksum": "5d3fe1dd9f7bc02dfe273dc477925ec5",
     "grade": false,
     "grade_id": "loading",
     "locked": true,
     "schema_version": 2,
     "solution": false
    }
   },
   "source": [
    "### Loading in the Data\n",
    "\n",
    "The dataset consists of email messages and their labels (0 for ham, 1 for spam). Your labelled dataset contains 8348 labelled examples, and the evaluation set contains 1000 unlabelled examples.\n",
    "\n",
    "Run the following cells to load in the data into DataFrames.\n",
    "\n",
    "The `train` DataFrame contains labelled data that you will use to train your model. It contains three columns:\n",
    "\n",
    "1. `id`: An identifier for the training example.\n",
    "1. `subject`: The subject of the email\n",
    "1. `email`: The text of the email.\n",
    "1. `spam`: 1 if the email was spam, 0 if the email was ham (not spam).\n",
    "\n",
    "The `evaluation` DataFrame contains another set of 1000 unlabelled examples. You will predict labels for these examples and submit your predictions to Kaggle for evaluation."
   ]
  },
  {
   "cell_type": "code",
   "execution_count": 444,
   "metadata": {
    "deletable": false,
    "editable": false,
    "nbgrader": {
     "cell_type": "code",
     "checksum": "553fddfce24f4d89fd7ad907a7b22d28",
     "grade": false,
     "grade_id": "fetch-data",
     "locked": true,
     "schema_version": 2,
     "solution": false
    }
   },
   "outputs": [
    {
     "name": "stdout",
     "output_type": "stream",
     "text": [
      "Using version already downloaded: Mon Apr 23 13:49:17 2018\n",
      "MD5 hash of file: 0380c4cf72746622947b9ca5db9b8be8\n",
      "Using version already downloaded: Mon Apr 23 13:49:19 2018\n",
      "MD5 hash of file: a2e7abd8c7d9abf6e6fafc1d1f9ee6bf\n"
     ]
    },
    {
     "data": {
      "text/html": [
       "<div>\n",
       "<style scoped>\n",
       "    .dataframe tbody tr th:only-of-type {\n",
       "        vertical-align: middle;\n",
       "    }\n",
       "\n",
       "    .dataframe tbody tr th {\n",
       "        vertical-align: top;\n",
       "    }\n",
       "\n",
       "    .dataframe thead th {\n",
       "        text-align: right;\n",
       "    }\n",
       "</style>\n",
       "<table border=\"1\" class=\"dataframe\">\n",
       "  <thead>\n",
       "    <tr style=\"text-align: right;\">\n",
       "      <th></th>\n",
       "      <th>id</th>\n",
       "      <th>subject</th>\n",
       "      <th>email</th>\n",
       "      <th>spam</th>\n",
       "    </tr>\n",
       "  </thead>\n",
       "  <tbody>\n",
       "    <tr>\n",
       "      <th>0</th>\n",
       "      <td>0</td>\n",
       "      <td>Subject: A&amp;L Daily to be auctioned in bankrupt...</td>\n",
       "      <td>url: http://boingboing.net/#85534171\\n date: n...</td>\n",
       "      <td>0</td>\n",
       "    </tr>\n",
       "    <tr>\n",
       "      <th>1</th>\n",
       "      <td>1</td>\n",
       "      <td>Subject: Wired: \"Stronger ties between ISPs an...</td>\n",
       "      <td>url: http://scriptingnews.userland.com/backiss...</td>\n",
       "      <td>0</td>\n",
       "    </tr>\n",
       "    <tr>\n",
       "      <th>2</th>\n",
       "      <td>2</td>\n",
       "      <td>Subject: It's just too small                  ...</td>\n",
       "      <td>&lt;html&gt;\\n &lt;head&gt;\\n &lt;/head&gt;\\n &lt;body&gt;\\n &lt;font siz...</td>\n",
       "      <td>1</td>\n",
       "    </tr>\n",
       "    <tr>\n",
       "      <th>3</th>\n",
       "      <td>3</td>\n",
       "      <td>Subject: liberal defnitions\\n</td>\n",
       "      <td>depends on how much over spending vs. how much...</td>\n",
       "      <td>0</td>\n",
       "    </tr>\n",
       "    <tr>\n",
       "      <th>4</th>\n",
       "      <td>4</td>\n",
       "      <td>Subject: RE: [ILUG] Newbie seeks advice - Suse...</td>\n",
       "      <td>hehe sorry but if you hit caps lock twice the ...</td>\n",
       "      <td>0</td>\n",
       "    </tr>\n",
       "  </tbody>\n",
       "</table>\n",
       "</div>"
      ],
      "text/plain": [
       "   id                                            subject  \\\n",
       "0   0  Subject: A&L Daily to be auctioned in bankrupt...   \n",
       "1   1  Subject: Wired: \"Stronger ties between ISPs an...   \n",
       "2   2  Subject: It's just too small                  ...   \n",
       "3   3                      Subject: liberal defnitions\\n   \n",
       "4   4  Subject: RE: [ILUG] Newbie seeks advice - Suse...   \n",
       "\n",
       "                                               email  spam  \n",
       "0  url: http://boingboing.net/#85534171\\n date: n...     0  \n",
       "1  url: http://scriptingnews.userland.com/backiss...     0  \n",
       "2  <html>\\n <head>\\n </head>\\n <body>\\n <font siz...     1  \n",
       "3  depends on how much over spending vs. how much...     0  \n",
       "4  hehe sorry but if you hit caps lock twice the ...     0  "
      ]
     },
     "execution_count": 444,
     "metadata": {},
     "output_type": "execute_result"
    }
   ],
   "source": [
    "from utils import fetch_and_cache_gdrive\n",
    "fetch_and_cache_gdrive('1SCASpLZFKCp2zek-toR3xeKX3DZnBSyp', 'train.csv')\n",
    "fetch_and_cache_gdrive('1ZDFo9OTF96B5GP2Nzn8P8-AL7CTQXmC0', 'eval.csv')\n",
    "\n",
    "original_training_data = pd.read_csv('data/train.csv')\n",
    "evaluation = pd.read_csv('data/eval.csv')\n",
    "\n",
    "# Convert the emails to lower case as a first step to processing the text\n",
    "original_training_data['email'] = original_training_data['email'].str.lower()\n",
    "evaluation['email'] = evaluation['email'].str.lower()\n",
    "\n",
    "original_training_data.head()"
   ]
  },
  {
   "cell_type": "markdown",
   "metadata": {
    "deletable": false,
    "editable": false,
    "nbgrader": {
     "cell_type": "markdown",
     "checksum": "cd636166056f9007afa15fb14e1add52",
     "grade": false,
     "grade_id": "train-test",
     "locked": true,
     "schema_version": 2,
     "solution": false
    }
   },
   "source": [
    "## Train-Test Split\n",
    "\n",
    "The training data we downloaded is all the data we have available for both training models and **testing** the models that we train.  We therefore need to split the training data into separate training and test datsets.  You will need this **test data** to evaluate your model once you are finished training."
   ]
  },
  {
   "cell_type": "code",
   "execution_count": 445,
   "metadata": {
    "deletable": false,
    "editable": false,
    "nbgrader": {
     "cell_type": "code",
     "checksum": "2f91e8f002a63bc72069c5ac957ca5b4",
     "grade": false,
     "grade_id": "train-test-code",
     "locked": true,
     "schema_version": 2,
     "solution": false
    }
   },
   "outputs": [],
   "source": [
    "from sklearn.model_selection import train_test_split\n",
    "\n",
    "[train, test] = train_test_split(original_training_data, test_size=0.1, random_state=42)"
   ]
  },
  {
   "cell_type": "markdown",
   "metadata": {
    "deletable": false,
    "editable": false,
    "nbgrader": {
     "cell_type": "markdown",
     "checksum": "e7b9da3ae60578672c9a42db28823c0a",
     "grade": false,
     "grade_id": "q1",
     "locked": true,
     "schema_version": 2,
     "solution": false
    }
   },
   "source": [
    "# Question 1\n",
    "\n",
    "In the cell below, print the text of the first ham and the first spam email in the training set. Then, discuss one thing you notice that is different between the two that might relate to the identification of spam."
   ]
  },
  {
   "cell_type": "code",
   "execution_count": 446,
   "metadata": {
    "deletable": false,
    "nbgrader": {
     "cell_type": "code",
     "checksum": "ff10a1144d9c5bff85dc2274907ce32c",
     "grade": false,
     "grade_id": "q1-answer",
     "locked": false,
     "schema_version": 2,
     "solution": true
    }
   },
   "outputs": [
    {
     "name": "stdout",
     "output_type": "stream",
     "text": [
      "--===_secatt_000_1fuklemuttfusq\n",
      " content-type: text/plain; charset=\"us-ascii\"\n",
      " content-transfer-encoding: quoted-printable\n",
      " \n",
      " aluko martin\n",
      " 23 victoriagarden city=2c\n",
      " lagos-nigeria=2e\n",
      " \n",
      " attn=2e\n",
      " \n",
      " \n",
      " we have an immediate business proposal that involves us$34=2c700=2c000\n",
      " which we will like to invest under your custody=2e please=2c do not\n",
      " hesitate\n",
      " to send me an email=2c so as to discuss with you the details of the\n",
      " transaction=2fthe\n",
      " terms and condition of sharing regarding the business=2e\n",
      " your urgent response will be highly appreciated and will swiftly\n",
      " bring us\n",
      " to the commencement of the transaction=2e we hope to conclude this\n",
      " transaction\n",
      " within 10-12 working days=2e do not forget to contact me on receipt of\n",
      " this\n",
      " mail=2e and please ensure to maintain absolute confidentiality with\n",
      " regard to\n",
      " this\n",
      " pending transaction=2e i urgently await your response=2e\n",
      " \n",
      " best regards=2c\n",
      " \n",
      " aluko martin=2e\n",
      " \n",
      " -- \n",
      " \n",
      " \n",
      " --===_secatt_000_1fuklemuttfusq\n",
      " content-type: application/octet-stream; name=\"mailxs_list.lst\"\n",
      " content-transfer-encoding: base64\n",
      " content-disposition: attachment; filename=\"mailxs_list.lst\"\n",
      " \n",
      " \n",
      " --===_secatt_000_1fuklemuttfusq\n",
      " \n",
      "\n",
      "while i was playing with the past issues, it annoyed me that there was\n",
      " no easy way to make the log stop growing (i don't mean to truncate it,\n",
      " i mean to just freeze it for a while).\n",
      " \n",
      " the following patch adds a new button to the log window, which allows\n",
      " the log to be switched on/off (the button says \"disable\" when the\n",
      " log is enabled, and the button disables it, and \"enable\" when the log\n",
      " is frozen, and the button enables it again).\n",
      " \n",
      " kre\n",
      " \n",
      " --- main.tcl\twed aug 21 15:01:48 2002\n",
      " +++ /usr/local/lib/exmh-2.5/main.tcl\twed aug 28 17:36:59 2002\n",
      " @@ -385,6 +385,9 @@\n",
      "  \texmhlogcreate\n",
      "  \twm withdraw $exmh(logtop)\n",
      "      }\n",
      " +    if {! $exmh(logwrite)} {\n",
      " +\treturn\n",
      " +    }\n",
      "      if [info exists exmh(log)] {\n",
      "  \tcatch {\n",
      "  #\t    $exmh(log) insert end \" [bw_delta] \"\n",
      " @@ -407,6 +410,9 @@\n",
      "      set exmh(logwindow) 1\n",
      "      exwin_toplevel .log \"exmh log\" log\n",
      "      set exmh(logtop) .log\n",
      " +    set exmh(logdisablebut) \\\n",
      " +\t[widget_addbut $exmh(logtop).but swap \"disable\" exmhlogtoggle]\n",
      " +    set exmh(logwrite) 1\n",
      "      widget_addbut $exmh(logtop).but trunc \"truncate\" exmhlogtrunc\n",
      "      widget_addbut $exmh(logtop).but save \"save to file\" exmhlogsave\n",
      "      set exmh(logyview) 1\n",
      " @@ -457,6 +463,12 @@\n",
      "      } msg] {\n",
      "  \texmh_status \"cannot save log: $msg\" error\n",
      "      }\n",
      " +}\n",
      " +proc exmhlogtoggle {} {\n",
      " +    global exmh\n",
      " +\n",
      " +    set exmh(logwrite) [expr ! $exmh(logwrite)]\n",
      " +    $exmh(logdisablebut) configure -text [lindex {\"enable \" disable} $exmh(logwrite)]\n",
      "  }\n",
      "  #### misc\n",
      "  \n",
      " \n",
      " \n",
      " \n",
      " \n",
      " _______________________________________________\n",
      " exmh-workers mailing list\n",
      " exmh-workers@redhat.com\n",
      " https://listman.redhat.com/mailman/listinfo/exmh-workers\n",
      " \n",
      "\n"
     ]
    }
   ],
   "source": [
    "# Print the text of the first ham and the first spam emails. Then, fill in your response in the q01 variable:\n",
    "first_ham = train[train['spam'] == 0]['email'].iloc[0]\n",
    "first_spam = train[train['spam'] == 1]['email'].iloc[0]\n",
    "print(first_spam)\n",
    "print(first_ham)\n",
    "# YOUR CODE HERE\n",
    "#raise NotImplementedError()"
   ]
  },
  {
   "cell_type": "code",
   "execution_count": 447,
   "metadata": {
    "deletable": false,
    "editable": false,
    "nbgrader": {
     "cell_type": "code",
     "checksum": "115ba1cae1be0d4c7a5e9b91526fcb19",
     "grade": true,
     "grade_id": "q1-tests",
     "locked": true,
     "points": 1,
     "schema_version": 2,
     "solution": false
    }
   },
   "outputs": [],
   "source": [
    "# This is a cell with just a comment but don't delete me if you want to get credit."
   ]
  },
  {
   "cell_type": "markdown",
   "metadata": {
    "deletable": false,
    "nbgrader": {
     "cell_type": "markdown",
     "checksum": "cc6c8ddb4b03754a64382c725dafc5b0",
     "grade": true,
     "grade_id": "q1-written",
     "locked": false,
     "points": 2,
     "schema_version": 2,
     "solution": true
    },
    "tags": [
     "solution",
     "written",
     "q01"
    ]
   },
   "source": [
    "Off the bat, the spam message has some weird '2e' and '2c' seemingly randomly placed throughout. I'm not sure if that is some type of encoding but it's certainly not a normal habit for one person to send.  The spam email also has specific words to try and grab the recipients attention, in particular the multiple mentions of a financial transaction and it being urgent.  The ham email is far less general and more specific especially since it deals with a slice of the work shared between two people."
   ]
  },
  {
   "cell_type": "markdown",
   "metadata": {
    "deletable": false,
    "editable": false,
    "nbgrader": {
     "cell_type": "markdown",
     "checksum": "78b2a5de9976f0492e4325d88e131a47",
     "grade": false,
     "grade_id": "feat-eng",
     "locked": true,
     "schema_version": 2,
     "solution": false
    }
   },
   "source": [
    "# Basic Feature Engineering\n",
    "\n",
    "We would like to take the text of an email and predict whether the text is ham or spam. This is a *classification* problem, so we can use logistic regression to make a classifier. Recall that to train an logistic regression model we need a numeric feature matrix $\\Phi$ (pronounced phi as in wifi) and corresponding binary labels $Y$.  Unfortunately, our data are text, not numbers. To address this, we can create numeric features derived from the email text and use those features for logistic regression.\n",
    "\n",
    "Each row of $\\Phi$ is derived from one email example. Each column of $\\Phi$  is one feature. We'll guide you through creating a simple feature, and you'll create more interesting ones when you are trying to increase your accuracy."
   ]
  },
  {
   "cell_type": "markdown",
   "metadata": {
    "deletable": false,
    "editable": false,
    "nbgrader": {
     "cell_type": "markdown",
     "checksum": "4a6a1160d34bedff1e1a0859a58bf70e",
     "grade": false,
     "grade_id": "q2",
     "locked": true,
     "schema_version": 2,
     "solution": false
    }
   },
   "source": [
    "# Question 2\n",
    "\n",
    "Create a function called `words_in_texts` that takes in a list of `words` and a pandas Series of email `texts`. It should output a 2-dimensional NumPy array containing one row for each email text. The row should contain either a 0 or a 1 for each word in the list: 0 if the word doesn't appear in the text and 1 if the word does. For example:\n",
    "\n",
    "```python\n",
    ">>> words_in_texts(['hello', 'bye', 'world'], \n",
    "                   pd.Series(['hello', 'hello world hello']))\n",
    "\n",
    "array([[1, 0, 0],\n",
    "       [1, 0, 1]])\n",
    "```"
   ]
  },
  {
   "cell_type": "code",
   "execution_count": 448,
   "metadata": {
    "deletable": false,
    "nbgrader": {
     "cell_type": "code",
     "checksum": "296207c542908dd11c481c4f56585743",
     "grade": false,
     "grade_id": "q2-answer",
     "locked": false,
     "schema_version": 2,
     "solution": true
    },
    "tags": [
     "student"
    ]
   },
   "outputs": [],
   "source": [
    "def words_in_texts(words, texts):\n",
    "    '''\n",
    "    Args:\n",
    "        words (list-like): words to find\n",
    "        texts (Series): strings to search in\n",
    "    \n",
    "    Returns:\n",
    "        NumPy array of 0s and 1s with shape (n, p) where n is the\n",
    "        number of texts and p is the number of words.\n",
    "    '''\n",
    "    indicator_array = np.array([[1 if words[i] in list(texts)[j] else 0 for i in range(len(words))] for j in range(len(texts))])\n",
    "    # YOUR CODE HERE\n",
    "    #raise NotImplementedError()\n",
    "    return indicator_array"
   ]
  },
  {
   "cell_type": "code",
   "execution_count": 449,
   "metadata": {
    "deletable": false,
    "editable": false,
    "nbgrader": {
     "cell_type": "code",
     "checksum": "6b8eb808ad9b99843c8cd3ad5d20b736",
     "grade": true,
     "grade_id": "q2-tests",
     "locked": true,
     "points": 2,
     "schema_version": 2,
     "solution": false
    },
    "tags": [
     "solution"
    ]
   },
   "outputs": [],
   "source": [
    "# If this doesn't error, your function outputs the correct output for this example\n",
    "assert np.allclose(words_in_texts(['hello', 'bye', 'world'], \n",
    "                                  pd.Series(['hello', 'hello world hello'])),\n",
    "                   np.array([[1, 0, 0], \n",
    "                             [1, 0, 1]]))"
   ]
  },
  {
   "cell_type": "markdown",
   "metadata": {
    "deletable": false,
    "editable": false,
    "nbgrader": {
     "cell_type": "markdown",
     "checksum": "2bacca07aa9b367ec84957d0beb41886",
     "grade": false,
     "grade_id": "eda",
     "locked": true,
     "schema_version": 2,
     "solution": false
    }
   },
   "source": [
    "# Basic EDA\n",
    "\n",
    "Now we need to identify some features that allow us to tell spam and ham emails apart. One idea is to compare the distribution of a single feature in spam emails to the distribution of the same feature in ham emails. If the feature is itself a binary indicator, such as whether a certain word occurs in the text, this amounts to comparing the proportion of spam emails with the word to the proportion of ham emails with the word.\n"
   ]
  },
  {
   "cell_type": "markdown",
   "metadata": {
    "deletable": false,
    "editable": false,
    "nbgrader": {
     "cell_type": "markdown",
     "checksum": "b13eddc109fc8ca94589381ffa188ae3",
     "grade": false,
     "grade_id": "q3a",
     "locked": true,
     "schema_version": 2,
     "solution": false
    }
   },
   "source": [
    "# Question 3a\n",
    "\n",
    "Create a bar chart comparing the proportion of spam and ham emails containing certain words. It should look like the following plot (which was created using `sns.barplot`), but you should choose your own words as candidate features.\n",
    "\n",
    "![training conditional proportions](training_conditional_proportions.png \"Class Conditional Proportions\")\n"
   ]
  },
  {
   "cell_type": "code",
   "execution_count": 450,
   "metadata": {
    "deletable": false,
    "nbgrader": {
     "cell_type": "code",
     "checksum": "c64ceb5b31e1282f8c118e345108f1f2",
     "grade": true,
     "grade_id": "q3a-answer",
     "locked": false,
     "points": 2,
     "schema_version": 2,
     "solution": true
    }
   },
   "outputs": [
    {
     "data": {
      "text/plain": [
       "[(0, 1), Text(0,0.5,'Proportion of Emails'), Text(0.5,0,'')]"
      ]
     },
     "execution_count": 450,
     "metadata": {},
     "output_type": "execute_result"
    },
    {
     "data": {
      "image/png": "[encoded data removed]",
      "text/plain": [
       "<matplotlib.figure.Figure at 0x1a3a1a8080>"
      ]
     },
     "metadata": {},
     "output_type": "display_data"
    }
   ],
   "source": [
    "train = train.reset_index()\n",
    "words = ['body','business', 'html', 'money', 'offer', 'please']\n",
    "df = pd.DataFrame((words_in_texts(words, train['email'])), columns = words)\n",
    "df['spam'] = train['spam']\n",
    "df = df.replace({'spam': {0: 'ham', 1: 'spam'}})\n",
    "\n",
    "# acquire pcts for ham and spam of each word\n",
    "pct_ham = []\n",
    "pct_spam = []\n",
    "for i in range(len(words)):\n",
    "    pct_ham.append(sum(df[df['spam'] == 'ham'][words[i]]) / len(df[df['spam'] == 'ham']))\n",
    "    pct_spam.append(sum(df[df['spam'] == 'spam'][words[i]]) / len(df[df['spam'] == 'spam']))\n",
    "\n",
    "\n",
    "# create new data frame with percentages and words\n",
    "new_df = pd.DataFrame(data = {'pcts':pct_ham + pct_spam,\n",
    "                              'spam': (['ham'] * 6) + (['spam'] * 6), \n",
    "                              'words': words + words\n",
    "                             }\n",
    "    )\n",
    "\n",
    "sns.barplot(x = 'words', y = 'pcts', hue = 'spam', data = new_df).set(ylim = (0, 1), xlabel = '', ylabel = 'Proportion of Emails')\n",
    "\n",
    "\n",
    "\n",
    "#raise NotImplementedError()\n"
   ]
  },
  {
   "cell_type": "markdown",
   "metadata": {
    "deletable": false,
    "editable": false,
    "nbgrader": {
     "cell_type": "markdown",
     "checksum": "cacc657b9f84fe89c425797255849f69",
     "grade": false,
     "grade_id": "q3b",
     "locked": true,
     "schema_version": 2,
     "solution": false
    }
   },
   "source": [
    "# Question 3b\n",
    "\n",
    "When the feature is binary, it makes sense (as in the previous question) to compare the proportion of 1s in the two classes of email. Otherwise, if the feature can take on many values, it makes sense to compare the distribution under spam to the distribution under ham. Create a *class conditional density plot* like the one below (which was created using `sns.distplot`), comparing the distribution of a feature among all spam emails to the distribution of the same feature among all ham emails. **You may use the Fraction of Uppercase Letters or create your own feature.**\n",
    "\n",
    "![training conditional densities](training_conditional_densities2.png \"Class Conditional Densities\")"
   ]
  },
  {
   "cell_type": "code",
   "execution_count": 451,
   "metadata": {
    "deletable": false,
    "nbgrader": {
     "cell_type": "code",
     "checksum": "60246643e0caaa562f6a6ac6814ae0c0",
     "grade": true,
     "grade_id": "q3b-answer",
     "locked": false,
     "points": 2,
     "schema_version": 2,
     "solution": true
    }
   },
   "outputs": [
    {
     "data": {
      "text/plain": [
       "Text(0.5,0,'Fraction of Uppercase Letters in Email')"
      ]
     },
     "execution_count": 451,
     "metadata": {},
     "output_type": "execute_result"
    },
    {
     "data": {
      "image/png": "[encoded data removed]",
      "text/plain": [
       "<matplotlib.figure.Figure at 0x1a3141b358>"
      ]
     },
     "metadata": {},
     "output_type": "display_data"
    }
   ],
   "source": [
    "# set a column for uppercase pct in email\n",
    "training_data = pd.read_csv('data/train.csv')\n",
    "[train, test] = train_test_split(training_data, test_size=0.1, random_state=42)\n",
    "df_q3b = train\n",
    "df_q3b = df_q3b.replace({'spam': {0: 'ham', 1: 'spam'}})\n",
    "df_q3b['percentage'] = df_q3b['email'].str.findall('[A-Z]').str.len() / df_q3b['email'].str.findall('[a-zA-Z]').str.len()\n",
    "\n",
    "sns.distplot(df_q3b[df_q3b['spam'] == 'ham']['percentage'],  label = 'Ham')\n",
    "sns.distplot(df_q3b[df_q3b['spam'] == 'spam']['percentage'],  label = 'Spam')\n",
    "plt.legend()\n",
    "plt.xlabel('Fraction of Uppercase Letters in Email')\n",
    "\n",
    "#raise NotImplementedError()"
   ]
  },
  {
   "cell_type": "markdown",
   "metadata": {
    "deletable": false,
    "editable": false,
    "nbgrader": {
     "cell_type": "markdown",
     "checksum": "0d13d7ef0cdd07a7ad8d0a49cdddba9b",
     "grade": false,
     "grade_id": "classification",
     "locked": true,
     "schema_version": 2,
     "solution": false
    }
   },
   "source": [
    "# Basic Classification\n",
    "\n",
    "Notice that the output of `words_in_texts(words, train['email'])` is a numeric matrix containing features for each email. This means we can use it directly to train a classifier!"
   ]
  },
  {
   "cell_type": "markdown",
   "metadata": {
    "deletable": false,
    "editable": false,
    "nbgrader": {
     "cell_type": "markdown",
     "checksum": "a704638a2aa116d175cec5d54011390e",
     "grade": false,
     "grade_id": "q4",
     "locked": true,
     "schema_version": 2,
     "solution": false
    }
   },
   "source": [
    "# Question 4\n",
    "\n",
    "We've given you 5 words that might be useful as features to distinguish spam/ham emails. Use these words as well as the `train` DataFrame to create two NumPy arrays: `Phi_train` and `Y_train`.\n",
    "\n",
    "`Phi_train` should be a matrix of 0s and 1s created by using your `words_in_texts` function on all the emails in the training set.\n",
    "\n",
    "`Y_train` should be a vector of the correct labels for each email in the training set."
   ]
  },
  {
   "cell_type": "code",
   "execution_count": 452,
   "metadata": {
    "deletable": false,
    "nbgrader": {
     "cell_type": "code",
     "checksum": "8b93048015e15c7af26cd4a47e611109",
     "grade": false,
     "grade_id": "q4-answer",
     "locked": false,
     "schema_version": 2,
     "solution": true
    },
    "tags": [
     "student"
    ]
   },
   "outputs": [
    {
     "data": {
      "text/plain": [
       "(array([[0, 0, 0, 0, 0],\n",
       "        [0, 0, 0, 0, 0],\n",
       "        [0, 0, 0, 0, 0],\n",
       "        [0, 0, 0, 0, 0],\n",
       "        [0, 0, 0, 1, 0]]), 7657    0\n",
       " 6911    0\n",
       " 6074    0\n",
       " 4376    0\n",
       " 5766    0\n",
       " Name: spam, dtype: int64)"
      ]
     },
     "execution_count": 452,
     "metadata": {},
     "output_type": "execute_result"
    }
   ],
   "source": [
    "some_words = ['drug', 'bank', 'prescription', 'memo', 'private']\n",
    "\n",
    "Phi_train = words_in_texts(some_words, train['email'])\n",
    "Y_train = (train['spam'])\n",
    "\n",
    "# YOUR CODE HERE\n",
    "#raise NotImplementedError()\n",
    "\n",
    "Phi_train[:5], Y_train[:5]"
   ]
  },
  {
   "cell_type": "code",
   "execution_count": 453,
   "metadata": {
    "deletable": false,
    "editable": false,
    "nbgrader": {
     "cell_type": "code",
     "checksum": "e379ae3ce1967f869f7d7e731ae0f75a",
     "grade": true,
     "grade_id": "q4-tests",
     "locked": true,
     "points": 2,
     "schema_version": 2,
     "solution": false
    }
   },
   "outputs": [],
   "source": [
    "assert np.all(np.unique(Phi_train) == np.array([0, 1]))\n",
    "assert np.all(np.unique(Y_train) == np.array([0, 1]))\n",
    "assert Phi_train.shape[0] == Y_train.shape[0]\n",
    "assert Phi_train.shape[1] == len(some_words)"
   ]
  },
  {
   "cell_type": "markdown",
   "metadata": {
    "deletable": false,
    "editable": false,
    "nbgrader": {
     "cell_type": "markdown",
     "checksum": "2d67277515ec86e13df560be7fb273f4",
     "grade": false,
     "grade_id": "q5",
     "locked": true,
     "schema_version": 2,
     "solution": false
    }
   },
   "source": [
    "# Question 5\n",
    "\n",
    "Now we have matrices we can give to scikit-learn! Using the [`LogisticRegression`](http://scikit-learn.org/stable/modules/generated/sklearn.linear_model.LogisticRegression.html) classifier, train a logistic regression model using `Phi_train` and `Y_train`. Then, output the accuracy of the model (on the training data) in the cell below. You should get an accuracy of around 0.75."
   ]
  },
  {
   "cell_type": "code",
   "execution_count": 454,
   "metadata": {
    "deletable": false,
    "nbgrader": {
     "cell_type": "code",
     "checksum": "a45837a9efac1b9ab3824f860e9ddc1a",
     "grade": false,
     "grade_id": "q5-answer",
     "locked": false,
     "schema_version": 2,
     "solution": true
    },
    "tags": [
     "student"
    ]
   },
   "outputs": [],
   "source": [
    "import sklearn.linear_model\n",
    "lr = sklearn.linear_model.LogisticRegression(fit_intercept=True)\n",
    "lr.fit(Phi_train, Y_train)\n",
    "training_accuracy = lr.score(Phi_train, Y_train)\n",
    "\n",
    "# YOUR CODE HERE\n",
    "#raise NotImplementedError()"
   ]
  },
  {
   "cell_type": "code",
   "execution_count": 455,
   "metadata": {
    "deletable": false,
    "editable": false,
    "nbgrader": {
     "cell_type": "code",
     "checksum": "1133eaddd64442a3139615c57864c60e",
     "grade": true,
     "grade_id": "q5-tests",
     "locked": true,
     "points": 2,
     "schema_version": 2,
     "solution": false
    },
    "tags": [
     "solution"
    ]
   },
   "outputs": [],
   "source": [
    "assert training_accuracy > 0.72"
   ]
  },
  {
   "cell_type": "markdown",
   "metadata": {
    "deletable": false,
    "editable": false,
    "nbgrader": {
     "cell_type": "markdown",
     "checksum": "2ccbf7ec8e32a2963fac3ca5624407d0",
     "grade": false,
     "grade_id": "q6",
     "locked": true,
     "schema_version": 2,
     "solution": false
    }
   },
   "source": [
    "# Question 6\n",
    "\n",
    "That doesn't seem too shabby! But the classifier you made above isn't as good as this might lead us to believe. First, we are evaluating on the training set, which may lead to a misleading accuracy measure, especially if we used the training set to identify discriminative features. In future parts of this analysis, it will be safer to hold out some of our data for model validation and comparison.\n",
    "\n",
    "Presumably, our classifier will be used for **filtering**, i.e. preventing messages labelled `spam` from reaching someone's inbox. Since we are trying  There are two kinds of errors we can make:\n",
    "- False positive (FP): a ham email gets flagged as spam and filtered out of the inbox.\n",
    "- False negative (FN): a spam email gets mislabelled as ham and ends up in the inbox.\n",
    "\n",
    "These definitions depend both on the true labels and the predicted labels. False positives and false negatives may be of differing importance, leading us to consider more ways of evaluating a classifier, in addition to overall accuracy:\n",
    "\n",
    "**Precision** measures the proportion $\\frac{\\text{TP}}{\\text{TP} + \\text{FP}}$ of emails flagged as spam that are actually spam.\n",
    "\n",
    "**Recall** measures the proportion $\\frac{\\text{TP}}{\\text{TP} + \\text{FN}}$ of spam emails that were correctly flagged as spam. \n",
    "\n",
    "**False-alarm rate** measures the proportion $\\frac{\\text{FP}}{\\text{FP} + \\text{TN}}$ of ham emails that were incorrectly flagged as spam. \n",
    "\n",
    "The following image might help:\n",
    "\n",
    "<img src=\"https://upload.wikimedia.org/wikipedia/commons/thumb/2/26/Precisionrecall.svg/700px-Precisionrecall.svg.png\" width=\"500px\">\n",
    "\n",
    "Note that a true positive (TP) is a spam email that is classified as spam, and a true negative (TN) is a ham email that is classified as ham. Answer the following questions in the cells below:\n",
    "\n",
    "- (a) Suppose we have a classifier that just predicts 0 (ham) for every email. How many false positives are there? How many false negatives are there? Provide specific numbers using the training data from Question 4.\n",
    "- (b) Suppose we have a classifier that just predicts 0 (ham) for every email. What is its accuracy on the training set? What is its recall on the training set?\n",
    "- (c) What are the precision, recall, and false-alarm rate of the logistic regression classifier in Question 5? Are there more false positives or false negatives? \n",
    "- (d) Our logistic regression classifier got 75.6% prediction accuracy (number of correct predictions / total). How does this compare with predicting 0 for every email?\n",
    "- (e) Given the word features we gave you above, name one reason this classifier is performing poorly.\n",
    "- (f) Which of these two classifiers would you prefer for a spam filter and why? (N.B. there is no \"right answer\" here but be thoughtful in your reasoning)."
   ]
  },
  {
   "cell_type": "code",
   "execution_count": 456,
   "metadata": {
    "deletable": false,
    "nbgrader": {
     "cell_type": "code",
     "checksum": "fb6be2a577f65651b583021d052505f3",
     "grade": false,
     "grade_id": "q6a-answer",
     "locked": false,
     "schema_version": 2,
     "solution": true
    }
   },
   "outputs": [],
   "source": [
    "# provide number of FP and FN, respectively,\n",
    "# for a classifier that always predicts 0 (never predicts positive...)\n",
    "zero_predictor_fp = 0\n",
    "zero_predictor_fn = sum(Y_train)\n",
    "\n",
    "# YOUR CODE HERE\n",
    "#raise NotImplementedError()"
   ]
  },
  {
   "cell_type": "code",
   "execution_count": 457,
   "metadata": {
    "deletable": false,
    "editable": false,
    "nbgrader": {
     "cell_type": "code",
     "checksum": "4170e6f271d97eab6ab77523d0c9689c",
     "grade": true,
     "grade_id": "q6a-tests",
     "locked": true,
     "points": 2,
     "schema_version": 2,
     "solution": false
    }
   },
   "outputs": [],
   "source": [
    "# This is a cell with just a comment but don't delete me if you want to get credit."
   ]
  },
  {
   "cell_type": "code",
   "execution_count": 458,
   "metadata": {
    "deletable": false,
    "nbgrader": {
     "cell_type": "code",
     "checksum": "551cfb296a0d066ef7f88a4450cd56f2",
     "grade": false,
     "grade_id": "q6b-answer",
     "locked": false,
     "schema_version": 2,
     "solution": true
    }
   },
   "outputs": [],
   "source": [
    "# provide training accuracy & recall, respectively,\n",
    "# for a classifier that always predicts 0\n",
    "zero_predictor_acc = (len(Y_train) - sum(Y_train)) / len(Y_train)\n",
    "zero_predictor_recall = 0\n",
    "\n",
    "\n",
    "# YOUR CODE HERE\n",
    "#raise NotImplementedError()"
   ]
  },
  {
   "cell_type": "code",
   "execution_count": 459,
   "metadata": {
    "deletable": false,
    "editable": false,
    "nbgrader": {
     "cell_type": "code",
     "checksum": "2da0a2fd20e7773dc36190301cee53f5",
     "grade": true,
     "grade_id": "q6b-tests",
     "locked": true,
     "points": 2,
     "schema_version": 2,
     "solution": false
    }
   },
   "outputs": [],
   "source": [
    "# This is a cell with just a comment but don't delete me if you want to get credit."
   ]
  },
  {
   "cell_type": "code",
   "execution_count": 460,
   "metadata": {
    "deletable": false,
    "nbgrader": {
     "cell_type": "code",
     "checksum": "d3775f0397ec6a892683277ff9bb041d",
     "grade": false,
     "grade_id": "q6c-answer",
     "locked": false,
     "schema_version": 2,
     "solution": true
    }
   },
   "outputs": [],
   "source": [
    "# provide training accuracy & recall, respectively,\n",
    "# for logistic regression classifier from question 5\n",
    "from sklearn.metrics import confusion_matrix\n",
    "cm = confusion_matrix(Y_train, lr.predict(Phi_train))\n",
    "logistic_predictor_precision = cm[1][1] / (cm[1][1] + cm[0][1])\n",
    "logistic_predictor_recall = cm[1][1] / (cm[1][1] + cm[1][0])\n",
    "logistic_predictor_far = cm[0][1] / (cm[0][1] + cm[0][0])\n",
    "\n",
    "\n",
    "# YOUR CODE HERE\n",
    "#raise NotImplementedError()"
   ]
  },
  {
   "cell_type": "code",
   "execution_count": 461,
   "metadata": {
    "deletable": false,
    "editable": false,
    "nbgrader": {
     "cell_type": "code",
     "checksum": "1d5da8b3485c912e0e04d5a4cb125678",
     "grade": true,
     "grade_id": "q6c-tests",
     "locked": true,
     "points": 2,
     "schema_version": 2,
     "solution": false
    }
   },
   "outputs": [],
   "source": [
    "# This is a cell with just a comment but don't delete me if you want to get credit."
   ]
  },
  {
   "cell_type": "markdown",
   "metadata": {
    "deletable": false,
    "nbgrader": {
     "cell_type": "markdown",
     "checksum": "b0c889c63a8057b74c02d98a0b25e392",
     "grade": true,
     "grade_id": "q6-written",
     "locked": false,
     "points": 3,
     "schema_version": 2,
     "solution": true
    },
    "tags": [
     "solution",
     "written",
     "q06"
    ]
   },
   "source": [
    "Compared to guessing 0 for each email, our logistic regression classifier was only 0.012 better, showing that our classifier is not very strong at all.  It makes sense since the words given to fit the model are rather particular and most likely do not appear very often at all.  It is likely that the words identified with spam are more general but still attention grabbing if they are to be sent out to a mass number of people.  "
   ]
  },
  {
   "cell_type": "markdown",
   "metadata": {
    "deletable": false,
    "editable": false,
    "nbgrader": {
     "cell_type": "markdown",
     "checksum": "420d757256a0c1fd96228b7f622682bb",
     "grade": false,
     "grade_id": "p2",
     "locked": true,
     "schema_version": 2,
     "solution": false
    }
   },
   "source": [
    "# Part II - Moving Forward\n",
    "\n",
    "With this in mind, it is now your task to make the spam filter more accurate. In order to get full credit on the accuracy part of this assignment, you must get at least **88%** accuracy on the evaluation set. To see your accuracy on the evaluation set, you will use your classifier to predict every email in the `evaluation` DataFrame and upload your predictions to Kaggle.\n",
    "\n",
    "To prevent you from fitting to the evaluation set, you may only upload predictions to Kaggle twice per day. This means you should start early and rely on your **test data** to estimate your Kaggle scores.  \n",
    "\n",
    "Here are some ideas for improving your model:\n",
    "\n",
    "1. Finding better features based on the email text. Some example features are:\n",
    "    1. Number of characters in the subject / body\n",
    "    1. Number of words in the subject / body\n",
    "    1. Use of punctuation (e.g., how many '!' were there?)\n",
    "    1. Number / percentage of capital letters \n",
    "    1. Whether the email is a reply to an earlier email or a forwarded email\n",
    "1. Finding better words to use as features. Which words are the best at distinguishing emails? This requires digging into the email text itself. \n",
    "1. Better data processing. For example, many emails contain HTML as well as text. You can consider extracting out the text from the HTML to help you find better words. Or, you can match HTML tags themselves, or even some combination of the two.\n",
    "1. Model selection. You can adjust parameters of your model (e.g. the regularization parameter) to achieve higher accuracy. Recall that you should use cross-validation to do feature and model selection properly! Otherwise, you will likely overfit to your training data.\n",
    "\n",
    "You may use whatever method you prefer in order to create features. However, **you are only allowed to train logistic regression models and their regularized forms**. This means no random forest, k-nearest-neighbors, neural nets, etc.\n",
    "\n",
    "We will not give you a code skeleton to do this, so feel free to create as many cells as you need in order to tackle this task. However, answering questions 7, 8, and 9 should help guide you.\n",
    "\n",
    "---\n",
    "\n",
    "**Note:** *You should use the **test data** to evaluate your model and get a better sense of how it will perform on the Kaggle evaluation.*\n",
    "\n",
    "---"
   ]
  },
  {
   "cell_type": "markdown",
   "metadata": {
    "deletable": false,
    "editable": false,
    "nbgrader": {
     "cell_type": "markdown",
     "checksum": "55580b1682a53b3d3bab8e3d6b928973",
     "grade": false,
     "grade_id": "q7",
     "locked": true,
     "schema_version": 2,
     "solution": false
    }
   },
   "source": [
    "# Question 7 (Feature/Model Selection Process)\n",
    "\n",
    "In this following cell, describe the process of improving your model. You should use at least 2-3 sentences each to address the follow questions:\n",
    "\n",
    "1. How did you find better features for your model?\n",
    "2. What did you try that worked / didn't work?\n",
    "3. What was surprising in your search for good features?"
   ]
  },
  {
   "cell_type": "code",
   "execution_count": 463,
   "metadata": {},
   "outputs": [
    {
     "data": {
      "text/html": [
       "<div>\n",
       "<style scoped>\n",
       "    .dataframe tbody tr th:only-of-type {\n",
       "        vertical-align: middle;\n",
       "    }\n",
       "\n",
       "    .dataframe tbody tr th {\n",
       "        vertical-align: top;\n",
       "    }\n",
       "\n",
       "    .dataframe thead th {\n",
       "        text-align: right;\n",
       "    }\n",
       "</style>\n",
       "<table border=\"1\" class=\"dataframe\">\n",
       "  <thead>\n",
       "    <tr style=\"text-align: right;\">\n",
       "      <th></th>\n",
       "      <th>id</th>\n",
       "      <th>subject</th>\n",
       "      <th>email</th>\n",
       "      <th>spam</th>\n",
       "    </tr>\n",
       "  </thead>\n",
       "  <tbody>\n",
       "    <tr>\n",
       "      <th>7657</th>\n",
       "      <td>7657</td>\n",
       "      <td>Subject: Patch to enable/disable log\\n</td>\n",
       "      <td>While I was playing with the past issues, it a...</td>\n",
       "      <td>0</td>\n",
       "    </tr>\n",
       "    <tr>\n",
       "      <th>6911</th>\n",
       "      <td>6911</td>\n",
       "      <td>Subject: When an engineer flaps his wings\\n</td>\n",
       "      <td>URL: http://diveintomark.org/archives/2002/10/...</td>\n",
       "      <td>0</td>\n",
       "    </tr>\n",
       "    <tr>\n",
       "      <th>6074</th>\n",
       "      <td>6074</td>\n",
       "      <td>Subject: Re: [Razor-users] razor plugins for m...</td>\n",
       "      <td>No, please post a link!\\n \\n Fox\\n ----- Origi...</td>\n",
       "      <td>0</td>\n",
       "    </tr>\n",
       "    <tr>\n",
       "      <th>4376</th>\n",
       "      <td>4376</td>\n",
       "      <td>Subject: NYTimes.com Article: Stop Those Press...</td>\n",
       "      <td>This article from NYTimes.com \\n has been sent...</td>\n",
       "      <td>0</td>\n",
       "    </tr>\n",
       "    <tr>\n",
       "      <th>5766</th>\n",
       "      <td>5766</td>\n",
       "      <td>Subject: What's facing FBI's new CIO? (Tech Up...</td>\n",
       "      <td>&lt;html&gt;\\n &lt;head&gt;\\n &lt;title&gt;Tech Update Today&lt;/ti...</td>\n",
       "      <td>0</td>\n",
       "    </tr>\n",
       "  </tbody>\n",
       "</table>\n",
       "</div>"
      ],
      "text/plain": [
       "        id                                            subject  \\\n",
       "7657  7657             Subject: Patch to enable/disable log\\n   \n",
       "6911  6911        Subject: When an engineer flaps his wings\\n   \n",
       "6074  6074  Subject: Re: [Razor-users] razor plugins for m...   \n",
       "4376  4376  Subject: NYTimes.com Article: Stop Those Press...   \n",
       "5766  5766  Subject: What's facing FBI's new CIO? (Tech Up...   \n",
       "\n",
       "                                                  email  spam  \n",
       "7657  While I was playing with the past issues, it a...     0  \n",
       "6911  URL: http://diveintomark.org/archives/2002/10/...     0  \n",
       "6074  No, please post a link!\\n \\n Fox\\n ----- Origi...     0  \n",
       "4376  This article from NYTimes.com \\n has been sent...     0  \n",
       "5766  <html>\\n <head>\\n <title>Tech Update Today</ti...     0  "
      ]
     },
     "execution_count": 463,
     "metadata": {},
     "output_type": "execute_result"
    }
   ],
   "source": [
    "train.head()"
   ]
  },
  {
   "cell_type": "code",
   "execution_count": 558,
   "metadata": {},
   "outputs": [
    {
     "name": "stderr",
     "output_type": "stream",
     "text": [
      "/Users/owenmcgrattan/miniconda3/envs/data100/lib/python3.6/site-packages/ipykernel_launcher.py:1: SettingWithCopyWarning: \n",
      "A value is trying to be set on a copy of a slice from a DataFrame.\n",
      "Try using .loc[row_indexer,col_indexer] = value instead\n",
      "\n",
      "See the caveats in the documentation: http://pandas.pydata.org/pandas-docs/stable/indexing.html#indexing-view-versus-copy\n",
      "  \"\"\"Entry point for launching an IPython kernel.\n",
      "/Users/owenmcgrattan/miniconda3/envs/data100/lib/python3.6/site-packages/ipykernel_launcher.py:2: SettingWithCopyWarning: \n",
      "A value is trying to be set on a copy of a slice from a DataFrame.\n",
      "Try using .loc[row_indexer,col_indexer] = value instead\n",
      "\n",
      "See the caveats in the documentation: http://pandas.pydata.org/pandas-docs/stable/indexing.html#indexing-view-versus-copy\n",
      "  \n",
      "/Users/owenmcgrattan/miniconda3/envs/data100/lib/python3.6/site-packages/ipykernel_launcher.py:3: SettingWithCopyWarning: \n",
      "A value is trying to be set on a copy of a slice from a DataFrame.\n",
      "Try using .loc[row_indexer,col_indexer] = value instead\n",
      "\n",
      "See the caveats in the documentation: http://pandas.pydata.org/pandas-docs/stable/indexing.html#indexing-view-versus-copy\n",
      "  This is separate from the ipykernel package so we can avoid doing imports until\n",
      "/Users/owenmcgrattan/miniconda3/envs/data100/lib/python3.6/site-packages/ipykernel_launcher.py:4: SettingWithCopyWarning: \n",
      "A value is trying to be set on a copy of a slice from a DataFrame.\n",
      "Try using .loc[row_indexer,col_indexer] = value instead\n",
      "\n",
      "See the caveats in the documentation: http://pandas.pydata.org/pandas-docs/stable/indexing.html#indexing-view-versus-copy\n",
      "  after removing the cwd from sys.path.\n",
      "/Users/owenmcgrattan/miniconda3/envs/data100/lib/python3.6/site-packages/ipykernel_launcher.py:7: SettingWithCopyWarning: \n",
      "A value is trying to be set on a copy of a slice from a DataFrame.\n",
      "Try using .loc[row_indexer,col_indexer] = value instead\n",
      "\n",
      "See the caveats in the documentation: http://pandas.pydata.org/pandas-docs/stable/indexing.html#indexing-view-versus-copy\n",
      "  import sys\n"
     ]
    },
    {
     "data": {
      "text/plain": [
       "0.88819379741780913"
      ]
     },
     "execution_count": 558,
     "metadata": {},
     "output_type": "execute_result"
    }
   ],
   "source": [
    "Y_train = (train['spam'])\n",
    "\n",
    "some_words = ['Free','Click', 'Increase', 'Growth', 'Simply' ,'fortune', 'URL', 'tired', 'MIME',\n",
    "             'wrote', 'Sir', 'multi', 'MR', 'comHuman', 'Copy', 're', 'FW', 'Your', 'your', '<html>', 'please', 'offer',\n",
    "             'every', 'http', 'helvetica']\n",
    "Phi_train = words_in_texts(some_words, train['email'] )\n",
    "\n",
    "subject_words = ['Re', 'Fw', 'Your', 'your', 'important', 'attention', 'Important', 'RE']\n",
    "sub_train = words_in_texts(subject_words, str(train['subject']))\n",
    "sub_frame = pd.DataFrame(sub_train, columns = subject_words)\n",
    "\n",
    "\n",
    "\n",
    "train['length'] = np.log([len(i) for i in train['email']])\n",
    "train['percentage'] = train['email'].str.findall('[A-Z]').str.len() / train['email'].str.findall('[a-zA-Z]').str.len()\n",
    "train['pct_special'] = np.log1p(train['email'].str.findall('[^A-Za-z0-9]').str.len() / train['email'].str.findall('[a-zA-Z]').str.len())\n",
    "train['pct_sub'] = (train['subject'].str.findall('[A-Z]').str.len() / train['subject'].str.findall('[a-zA-Z]').str.len()).fillna(0)\n",
    "\n",
    "\n",
    "train['word_len'] = np.log([len(list(train['email'])[i].split()) for i in range(len(train['email']))])\n",
    "predictor_frame = pd.DataFrame(Phi_train, columns = some_words)\n",
    "predictor_frame = pd.concat([predictor_frame, sub_frame], axis = 1, join_axes = [predictor_frame.index])\n",
    "predictor_frame['length'] = train['length']\n",
    "predictor_frame['percentage'] = train['email'].str.findall('[A-Z]').str.len() / train['email'].str.findall('[a-zA-Z]').str.len()\n",
    "predictor_frame['pct_sub'] = train['subject'].str.findall('[A-Z]').str.len() / train['subject'].str.findall('[a-zA-Z]').str.len()\n",
    "predictor_frame['word_len'] = train['word_len']\n",
    "predictor_frame = predictor_frame.fillna(0)\n",
    "#predictor_frame = predictor_frame.values\n",
    "\n",
    "# fit a model\n",
    "from sklearn.feature_selection import SelectFromModel\n",
    "from sklearn.feature_selection import chi2\n",
    "lr = sklearn.linear_model.LogisticRegressionCV(Cs = 100, fit_intercept=True).fit(predictor_frame, Y_train)\n",
    "model = SelectFromModel(lr, prefit = True)\n",
    "\n",
    "# select features and save column names\n",
    "columns = predictor_frame.columns\n",
    "labels = [columns[x] for x in model.get_support(indices = True) if x]\n",
    "\n",
    "# transform predictor_frame to select only best features\n",
    "X_new = model.transform(predictor_frame)\n",
    "lr.fit(X_new, Y_train)\n",
    "\n",
    "# check training score\n",
    "training_accuracy = lr.score(X_new, Y_train) \n",
    "training_accuracy"
   ]
  },
  {
   "cell_type": "code",
   "execution_count": 572,
   "metadata": {
    "scrolled": true
   },
   "outputs": [
    {
     "name": "stderr",
     "output_type": "stream",
     "text": [
      "/Users/owenmcgrattan/miniconda3/envs/data100/lib/python3.6/site-packages/ipykernel_launcher.py:12: SettingWithCopyWarning: \n",
      "A value is trying to be set on a copy of a slice from a DataFrame.\n",
      "Try using .loc[row_indexer,col_indexer] = value instead\n",
      "\n",
      "See the caveats in the documentation: http://pandas.pydata.org/pandas-docs/stable/indexing.html#indexing-view-versus-copy\n",
      "  if sys.path[0] == '':\n",
      "/Users/owenmcgrattan/miniconda3/envs/data100/lib/python3.6/site-packages/ipykernel_launcher.py:13: SettingWithCopyWarning: \n",
      "A value is trying to be set on a copy of a slice from a DataFrame.\n",
      "Try using .loc[row_indexer,col_indexer] = value instead\n",
      "\n",
      "See the caveats in the documentation: http://pandas.pydata.org/pandas-docs/stable/indexing.html#indexing-view-versus-copy\n",
      "  del sys.path[0]\n"
     ]
    },
    {
     "data": {
      "text/plain": [
       "0.88263473053892216"
      ]
     },
     "execution_count": 572,
     "metadata": {},
     "output_type": "execute_result"
    }
   ],
   "source": [
    "def process_data(data):\n",
    "    some_words = ['Free','Click', 'Increase', 'Growth', 'Simply' ,'fortune', 'URL', 'tired', 'MIME', 'Copy',\n",
    "             'wrote', 'Sir', 'multi', 'MR', 'comHuman', 're', 'FW', 'Your', 'your', '<html>','please', \n",
    "             'offer','every', 'http', 'helvetica']\n",
    "    Phi_train = words_in_texts(some_words, data['email'] )\n",
    "    \n",
    "    subject_words = ['Re', 'Fw', 'Your', 'important', 'attention', 'Information', 'RE']\n",
    "    sub_train = words_in_texts(subject_words, str(data['subject']))\n",
    "    sub_frame = pd.DataFrame(sub_train, columns = subject_words)\n",
    "\n",
    "    html_re = '<[^>]+>'\n",
    "    data['word_len'] = np.log1p([len(list(data['email'])[i].split()) for i in range(len(data['email']))])\n",
    "    data['length'] = np.log1p([len(i) for i in data['email']])\n",
    "    #data['sub_length'] = np.log([len(i) for i in data['subject']])\n",
    "    predictor_frame = pd.DataFrame(Phi_train, columns = some_words)\n",
    "    predictor_frame = pd.concat([predictor_frame, sub_frame], axis = 1, join_axes=[predictor_frame.index])\n",
    "    predictor_frame['length'] = data['length']\n",
    "    predictor_frame['word_len'] = data['word_len']\n",
    "    predictor_frame['percentage'] = data['email'].str.findall('[A-Z]').str.len() / data['email'].str.findall('[a-zA-Z]').str.len()\n",
    "    predictor_frame['pct_sub'] = data['subject'].str.findall('[A-Z]').str.len() / data['subject'].str.findall('[a-zA-Z]').str.len()\n",
    "    #predictor_frame['pct_special'] = data['email'].str.findall('[^A-Za-z]').str.len() / data['email'].str.findall('[a-zA-Z]').str.len()\n",
    "\n",
    "\n",
    "    predictor_frame = predictor_frame.fillna(0)\n",
    "    #predictor_frame = predictor_frame.values\n",
    "    X = predictor_frame[labels]\n",
    "    return X\n",
    "\n",
    "# check if funciton works for test dataset\n",
    "test_x = process_data(test)\n",
    "\n",
    "# check test score\n",
    "test_fit = lr.predict(test_x)\n",
    "lr.score(test_x, test['spam'])"
   ]
  },
  {
   "cell_type": "markdown",
   "metadata": {
    "deletable": false,
    "nbgrader": {
     "cell_type": "markdown",
     "checksum": "939e6a5a273ced9801a7c510aac0cde4",
     "grade": true,
     "grade_id": "q7-written",
     "locked": false,
     "points": 6,
     "schema_version": 2,
     "solution": true
    },
    "tags": [
     "student",
     "written",
     "q_feature"
    ]
   },
   "source": [
    "I ended up by looking at the words that most commonly appeared in the spam and ham groups seperately.  It turns out there was a pretty good difference when it came some of the words used.  There wasn't anything that stood out and made sense as common words for the ham set but the spam was littered with words that convey importance and opportunity (Increase, Free, Growth)."
   ]
  },
  {
   "cell_type": "markdown",
   "metadata": {
    "deletable": false,
    "editable": false,
    "nbgrader": {
     "cell_type": "markdown",
     "checksum": "60b1230b3da1ce9160009cccef25dd8d",
     "grade": false,
     "grade_id": "q8",
     "locked": true,
     "schema_version": 2,
     "solution": false
    }
   },
   "source": [
    "# Question 8 (EDA)\n",
    "\n",
    "In the two cells below, show a visualization that you used to select features for your model. Include both\n",
    "\n",
    "1. A plot showing something meaningful about the data that helped you during feature / model selection.\n",
    "2. 2-3 sentences describing what you plotted and what its implications are for your features.\n",
    "\n",
    "Feel to create as many plots as you want in your process of feature selection, but select one for the cells below.\n",
    "\n",
    "**You should not show us a visualization just like in question 3.** Specifically, don't show us a bar chart of proportions, or a one-dimensional class conditional density plot. Any other plot is acceptable, as long as it comes with thoughtful commentary. Here are some ideas:\n",
    "\n",
    "1. Consider the correlation between multiple features (look up correlation plots and `sns.heatmap`). \n",
    "1. Try to show redundancy in a group of features (e.g. `body` and `html` might co-occur relatively frequently, or you might be able to design a feature that captures all html tags and compare it to these). \n",
    "1. Use a word-cloud or another visualization tool to characterize the most common spam words.\n",
    "1. Visually depict whether spam emails tend to be wordier (in some sense) than ham emails."
   ]
  },
  {
   "cell_type": "code",
   "execution_count": 365,
   "metadata": {
    "deletable": false,
    "nbgrader": {
     "cell_type": "code",
     "checksum": "94f71f52acc1ddc1af721de03dddc841",
     "grade": true,
     "grade_id": "q8-eda",
     "locked": false,
     "points": 3,
     "schema_version": 2,
     "solution": true
    },
    "tags": [
     "student",
     "written",
     "q_eda1"
    ]
   },
   "outputs": [
    {
     "name": "stderr",
     "output_type": "stream",
     "text": [
      "/Users/owenmcgrattan/miniconda3/envs/data100/lib/python3.6/site-packages/ipykernel_launcher.py:5: SettingWithCopyWarning: \n",
      "A value is trying to be set on a copy of a slice from a DataFrame.\n",
      "Try using .loc[row_indexer,col_indexer] = value instead\n",
      "\n",
      "See the caveats in the documentation: http://pandas.pydata.org/pandas-docs/stable/indexing.html#indexing-view-versus-copy\n",
      "  \"\"\"\n"
     ]
    },
    {
     "name": "stdout",
     "output_type": "stream",
     "text": [
      "<wordcloud.wordcloud.WordCloud object at 0x1a3a985f60>\n"
     ]
    },
    {
     "data": {
      "image/png": "[encoded data removed]",
      "text/plain": [
       "<matplotlib.figure.Figure at 0x1a30e97cc0>"
      ]
     },
     "metadata": {},
     "output_type": "display_data"
    }
   ],
   "source": [
    "from subprocess import check_output\n",
    "from wordcloud import WordCloud, STOPWORDS\n",
    "data = train[train['spam'] == 1]\n",
    "html_re = '<[^>]+>'\n",
    "data['email'] = [re.sub(html_re, '', text) for text in list(data['email'])]\n",
    "stopwords = list(STOPWORDS)\n",
    "wordcloud = WordCloud(\n",
    "                          background_color='white',\n",
    "                          stopwords = stopwords + ['Dear', 'nbsp', 'message', 'MIME', 'format', 'part', 'Free', 'Sir',\n",
    "                                                  'Subject'],\n",
    "                          max_words=200,\n",
    "                          max_font_size=40\n",
    "                         ).generate(str(data['email']))\n",
    "\n",
    "print(wordcloud)\n",
    "fig = plt.figure(1)\n",
    "plt.imshow(wordcloud)\n",
    "plt.axis('off')\n",
    "plt.show()\n",
    "#raise NotImplementedError()"
   ]
  },
  {
   "cell_type": "markdown",
   "metadata": {
    "deletable": false,
    "nbgrader": {
     "cell_type": "markdown",
     "checksum": "6d76d0efe11b5d997378ac902d04f7c1",
     "grade": true,
     "grade_id": "q8-commentary",
     "locked": false,
     "points": 3,
     "schema_version": 2,
     "solution": true
    }
   },
   "source": [
    "I wanted to get a sense as to what words were showing up more often than others so a word-cloud felt like a nice fit.  I also didn't want to work with entirely with lowercase text since the capitals might tell us how the spam is wording sentences.  If they're trying to grab attention, they'll waste no time putting more scam-like words at the start of sentences.  But the html tags themselves are far more prevalent here and are a great divider between the spam and ham sets.  As I kept looking for other words to include I would add the previous largest words to the list of stopwords so I would be able to see what was next most frequently common."
   ]
  },
  {
   "cell_type": "markdown",
   "metadata": {
    "deletable": false,
    "editable": false,
    "nbgrader": {
     "cell_type": "markdown",
     "checksum": "99200fdbaff3f814a5c7685c862989d9",
     "grade": false,
     "grade_id": "q9",
     "locked": true,
     "schema_version": 2,
     "solution": false
    }
   },
   "source": [
    "# Question 9 (Making a Precision-Recall Curve)\n",
    "\n",
    "We can trade off between precision and recall. In most cases we won't be able to get both perfect precision (i.e. no false positives) and recall (i.e. no false negatives), so we have to compromise. For example, in the case of cancer screenings, false negatives are comparatively worse than false positives — a false negative means that a patient might not discover a disease until it's too late to treat, while a false positive means that a patient will probably have to take another screening.\n",
    "\n",
    "Recall that logistic regression calculates the probability that an example belongs to a certain class. Then, to classify an example we say that an email is spam if our classifier gives it $\\ge 0.5$ probability of being spam. However, *we can adjust that cutoff*: we can say that an email is spam only if our classifier gives it $\\ge 0.7$ probability of being spam, for example. This is how we can trade off false positives and false negatives.\n",
    "\n",
    "The precision-recall curve shows this trade off for each possible cutoff probability. In the cell below, [plot a precision-recall curve](http://scikit-learn.org/stable/auto_examples/model_selection/plot_precision_recall.html#plot-the-precision-recall-curve) for your final classifier (the one you use to make predictions for Kaggle)."
   ]
  },
  {
   "cell_type": "code",
   "execution_count": 570,
   "metadata": {
    "deletable": false,
    "nbgrader": {
     "cell_type": "code",
     "checksum": "8aed6cd26a59c471f66756ebb5e8bc51",
     "grade": true,
     "grade_id": "q9-roc-curve",
     "locked": false,
     "points": 3,
     "schema_version": 2,
     "solution": true
    },
    "tags": [
     "student",
     "written",
     "q_roc"
    ]
   },
   "outputs": [
    {
     "data": {
      "text/plain": [
       "Text(0.5,1,'2-class Precision-Recall curve: AP=0.78')"
      ]
     },
     "execution_count": 570,
     "metadata": {},
     "output_type": "execute_result"
    },
    {
     "data": {
      "image/png": "[encoded data removed]",
      "text/plain": [
       "<matplotlib.figure.Figure at 0x1a3b227550>"
      ]
     },
     "metadata": {},
     "output_type": "display_data"
    }
   ],
   "source": [
    "from sklearn.metrics import precision_recall_curve\n",
    "from sklearn.metrics import average_precision_score\n",
    "average_precision = average_precision_score(test['spam'], lr.decision_function(test_x))\n",
    "\n",
    "# Note that you'll want to use the .predict_proba(...) method for your classifier\n",
    "# instead of .predict(...) so you get probabilities, not classes\n",
    "precision, recall, _ = precision_recall_curve(test['spam'], lr.decision_function(test_x))\n",
    "\n",
    "\n",
    "plt.step(recall, precision, color='b', alpha=0.2,\n",
    "         where='post')\n",
    "plt.fill_between(recall, precision, step='post', alpha=0.2,\n",
    "                 color='b')\n",
    "\n",
    "plt.xlabel('Recall')\n",
    "plt.ylabel('Precision')\n",
    "plt.ylim([0.0, 1.05])\n",
    "plt.xlim([0.0, 1.0])\n",
    "plt.title('2-class Precision-Recall curve: AP={0:0.2f}'.format(\n",
    "          average_precision))\n",
    "# YOUR CODE HERE\n",
    "#raise NotImplementedError()"
   ]
  },
  {
   "cell_type": "markdown",
   "metadata": {
    "deletable": false,
    "editable": false,
    "nbgrader": {
     "cell_type": "markdown",
     "checksum": "6f241f96a5f0b08ae0392d96660d109d",
     "grade": false,
     "grade_id": "q10",
     "locked": true,
     "schema_version": 2,
     "solution": false
    }
   },
   "source": [
    "# Question 10: Submitting to Kaggle\n",
    "\n",
    "The following code will write your predictions on the evaluation dataset to a CSV, which you can submit to Kaggle. You may need to modify it to suit your needs.\n",
    "\n",
    "Save your predictions in a 1-dimensional array called `evaluation_predictions`. *Even if you are not submitting to Kaggle, please make sure you've saved your predictions to `evaluation_predictions` as this is how your grade for this part will be determined.*\n",
    "\n",
    "Remember that if you've performed transformations or featurization on the training data, you must also perform the same transformations on the evaluation data in order to make predictions. For example, if you've created features for the words \"drug\" and \"money\" on the training data, you must also extract the same features in order to use scikit-learn's `.predict(...)` method.\n",
    "\n",
    "You should submit your CSV files to https://www.kaggle.com/t/39fae66747b14fd48fe0984f2e4f16ac"
   ]
  },
  {
   "cell_type": "code",
   "execution_count": 573,
   "metadata": {
    "deletable": false,
    "nbgrader": {
     "cell_type": "code",
     "checksum": "7a2abb910f7ef354666d7e39daed7454",
     "grade": false,
     "grade_id": "q10-answer",
     "locked": false,
     "schema_version": 2,
     "solution": true
    }
   },
   "outputs": [],
   "source": [
    "# CHANGE ME (Currently making random predictions)\n",
    "evaluation_predictions = lr.predict(process_data(evaluation))\n",
    "\n",
    "# YOUR CODE HERE\n",
    "#raise NotImplementedError()"
   ]
  },
  {
   "cell_type": "code",
   "execution_count": 574,
   "metadata": {
    "deletable": false,
    "editable": false,
    "nbgrader": {
     "cell_type": "code",
     "checksum": "5005948ef8f43a714dad71e48c71bb8a",
     "grade": true,
     "grade_id": "q10-tests",
     "locked": true,
     "points": 1,
     "schema_version": 2,
     "solution": false
    }
   },
   "outputs": [],
   "source": [
    "# must be ndarray of predictions\n",
    "assert isinstance(evaluation_predictions, np.ndarray) \n",
    "\n",
    "# must be binary labels (0 or 1) and not probabilities\n",
    "assert np.all((evaluation_predictions == 0) | (evaluation_predictions == 1))\n",
    "\n",
    "# must be the right number of predictions\n",
    "assert evaluation_predictions.shape == (1000, )"
   ]
  },
  {
   "cell_type": "code",
   "execution_count": 575,
   "metadata": {
    "deletable": false,
    "editable": false,
    "nbgrader": {
     "cell_type": "code",
     "checksum": "9dfffe9e2d4d757b84e8d3601b5e5dd9",
     "grade": true,
     "grade_id": "q10-hidden-tests",
     "locked": true,
     "points": 4,
     "schema_version": 2,
     "solution": false
    }
   },
   "outputs": [],
   "source": [
    "# Please do not modify this cell"
   ]
  },
  {
   "cell_type": "markdown",
   "metadata": {
    "deletable": false,
    "editable": false,
    "nbgrader": {
     "cell_type": "markdown",
     "checksum": "f08c87d79dbcfed4134d2f56fda5b1fa",
     "grade": false,
     "grade_id": "cell-d15e30e2a961277d",
     "locked": true,
     "schema_version": 2,
     "solution": false
    }
   },
   "source": [
    "The following saves a file to submit to Kaggle."
   ]
  },
  {
   "cell_type": "code",
   "execution_count": 576,
   "metadata": {},
   "outputs": [
    {
     "name": "stdout",
     "output_type": "stream",
     "text": [
      "Created a CSV file: submission_2018-05-01T17:58:39.csv.\n",
      "You may now upload this CSV file to Kaggle for scoring.\n"
     ]
    }
   ],
   "source": [
    "from datetime import datetime\n",
    "\n",
    "# Assuming that your predictions on the evaluation set are stored in a 1-dimensional array called\n",
    "# evaluation_predictions. Feel free to modify this cell as long you create a CSV in the right format.\n",
    "\n",
    "# must be ndarray of predictions\n",
    "assert isinstance(evaluation_predictions, np.ndarray) \n",
    "\n",
    "# must be binary labels (0 or 1) and not probabilities\n",
    "assert np.all((evaluation_predictions == 0) | (evaluation_predictions == 1))\n",
    "\n",
    "# must be the right number of predictions\n",
    "assert evaluation_predictions.shape == (1000, )\n",
    "\n",
    "# Construct and save the submission:\n",
    "submission_df = pd.DataFrame({\n",
    "    \"Id\": evaluation['id'], \n",
    "    \"Class\": evaluation_predictions,\n",
    "}, columns=['Id', 'Class'])\n",
    "timestamp = datetime.isoformat(datetime.now()).split(\".\")[0]\n",
    "submission_df.to_csv(\"submission_{}.csv\".format(timestamp), index=False)\n",
    "\n",
    "print('Created a CSV file: {}.'.format(\"submission_{}.csv\".format(timestamp)))\n",
    "print('You may now upload this CSV file to Kaggle for scoring.')"
   ]
  },
  {
   "cell_type": "code",
   "execution_count": null,
   "metadata": {},
   "outputs": [],
   "source": []
  }
 ],
 "metadata": {
  "kernelspec": {
   "display_name": "Python 3",
   "language": "python",
   "name": "python3"
  },
  "language_info": {
   "codemirror_mode": {
    "name": "ipython",
    "version": 3
   },
   "file_extension": ".py",
   "mimetype": "text/x-python",
   "name": "python",
   "nbconvert_exporter": "python",
   "pygments_lexer": "ipython3",
   "version": "3.6.4"
  }
 },
 "nbformat": 4,
 "nbformat_minor": 2
}
